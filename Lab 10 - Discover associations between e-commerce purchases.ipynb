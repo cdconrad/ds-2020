{
 "cells": [
  {
   "cell_type": "markdown",
   "metadata": {},
   "source": [
    "# Week 10 - Discover associations between e-commerce purchases\n",
    "*© 2020 Colin Conrad*\n",
    "\n",
    "As before, I trust that you are all well and enjoying the end of term from the comfort of your couches. In this second lab we will expand on the concepts explored in Lab 9 and introduce you to the remaining core concept in data science: *data mining*. \n",
    "\n",
    "Data mining is the process of knowledge discovery from large data sets, and is perhaps the defining task of a data scientist. Data mining techniques include everything that you have learned so far: data processing, data structures and descriptive analytics and summarization. In addition, data mining may also employ classification and association rule learning, two techniques borrowed from machine learning. Unfortunately we will not have the ability to cover machine learning in depth in this course, but that won't stop us from employing it in our analysis!\n",
    "\n",
    "**Note:** Some of you are probably reluctant to finish both of these final labs. While both labs will cover important data science content, *this is the harder of the two labs* and is most relevant to those who wish to do data mining and/or machine learning for their final project.\n",
    "\n",
    "**This week, we will achieve the following objectives:**\n",
    "- Analyze outliers\n",
    "- Detect patterns among e-commerce transactions\n",
    "- Predict e-commerce purchase trends\n",
    "- Implement association rule mining"
   ]
  },
  {
   "cell_type": "markdown",
   "metadata": {},
   "source": [
    "# Case: The Online Retail Data Set\n",
    "This week's lab is based on the [Online Retail Data Set](https://archive.ics.uci.edu/ml/datasets/online+retail) provided by Dr. Daqing Chen through the UCI Machine Learning Repository. The dataset consists of roughly 500k transactions from a British e-commerce company which occurred between 01/12/2010 and 09/12/2011. The company is a gift and confectionary company and mainly sells to retailers.\n",
    "\n",
    "When conducting data mining and machine learning analysis it is often important to have large datasets. The University of California Machine Learning Repository is a useful resource for finding datasets which are suited to these purposes. To learn more, visit their website: https://archive.ics.uci.edu/ml/index.php"
   ]
  },
  {
   "cell_type": "markdown",
   "metadata": {},
   "source": [
    "# Objective 1: Analyze Outliers\n",
    "The ultimate goal of data mining is to generate insights from the data. As such, outlier detection is particularly important. Outliers often considerably account for an organization's performance and this e-commerce company is no exception.\n",
    "\n",
    "We will start by importing pandas and matplotlib so that we can do some visual analytics. We will specify a few more details related to encoding and data types so that we don't run into trouble."
   ]
  },
  {
   "cell_type": "code",
   "execution_count": 1,
   "metadata": {},
   "outputs": [
    {
     "data": {
      "text/html": [
       "<div>\n",
       "<style scoped>\n",
       "    .dataframe tbody tr th:only-of-type {\n",
       "        vertical-align: middle;\n",
       "    }\n",
       "\n",
       "    .dataframe tbody tr th {\n",
       "        vertical-align: top;\n",
       "    }\n",
       "\n",
       "    .dataframe thead th {\n",
       "        text-align: right;\n",
       "    }\n",
       "</style>\n",
       "<table border=\"1\" class=\"dataframe\">\n",
       "  <thead>\n",
       "    <tr style=\"text-align: right;\">\n",
       "      <th></th>\n",
       "      <th>InvoiceNo</th>\n",
       "      <th>StockCode</th>\n",
       "      <th>Description</th>\n",
       "      <th>Quantity</th>\n",
       "      <th>InvoiceDate</th>\n",
       "      <th>UnitPrice</th>\n",
       "      <th>CustomerID</th>\n",
       "      <th>Country</th>\n",
       "    </tr>\n",
       "  </thead>\n",
       "  <tbody>\n",
       "    <tr>\n",
       "      <td>0</td>\n",
       "      <td>536365</td>\n",
       "      <td>85123A</td>\n",
       "      <td>WHITE HANGING HEART T-LIGHT HOLDER</td>\n",
       "      <td>6</td>\n",
       "      <td>12/1/2010 8:26</td>\n",
       "      <td>2.55</td>\n",
       "      <td>17850</td>\n",
       "      <td>United Kingdom</td>\n",
       "    </tr>\n",
       "    <tr>\n",
       "      <td>1</td>\n",
       "      <td>536365</td>\n",
       "      <td>71053</td>\n",
       "      <td>WHITE METAL LANTERN</td>\n",
       "      <td>6</td>\n",
       "      <td>12/1/2010 8:26</td>\n",
       "      <td>3.39</td>\n",
       "      <td>17850</td>\n",
       "      <td>United Kingdom</td>\n",
       "    </tr>\n",
       "    <tr>\n",
       "      <td>2</td>\n",
       "      <td>536365</td>\n",
       "      <td>84406B</td>\n",
       "      <td>CREAM CUPID HEARTS COAT HANGER</td>\n",
       "      <td>8</td>\n",
       "      <td>12/1/2010 8:26</td>\n",
       "      <td>2.75</td>\n",
       "      <td>17850</td>\n",
       "      <td>United Kingdom</td>\n",
       "    </tr>\n",
       "    <tr>\n",
       "      <td>3</td>\n",
       "      <td>536365</td>\n",
       "      <td>84029G</td>\n",
       "      <td>KNITTED UNION FLAG HOT WATER BOTTLE</td>\n",
       "      <td>6</td>\n",
       "      <td>12/1/2010 8:26</td>\n",
       "      <td>3.39</td>\n",
       "      <td>17850</td>\n",
       "      <td>United Kingdom</td>\n",
       "    </tr>\n",
       "    <tr>\n",
       "      <td>4</td>\n",
       "      <td>536365</td>\n",
       "      <td>84029E</td>\n",
       "      <td>RED WOOLLY HOTTIE WHITE HEART.</td>\n",
       "      <td>6</td>\n",
       "      <td>12/1/2010 8:26</td>\n",
       "      <td>3.39</td>\n",
       "      <td>17850</td>\n",
       "      <td>United Kingdom</td>\n",
       "    </tr>\n",
       "  </tbody>\n",
       "</table>\n",
       "</div>"
      ],
      "text/plain": [
       "  InvoiceNo StockCode                          Description  Quantity  \\\n",
       "0    536365    85123A   WHITE HANGING HEART T-LIGHT HOLDER         6   \n",
       "1    536365     71053                  WHITE METAL LANTERN         6   \n",
       "2    536365    84406B       CREAM CUPID HEARTS COAT HANGER         8   \n",
       "3    536365    84029G  KNITTED UNION FLAG HOT WATER BOTTLE         6   \n",
       "4    536365    84029E       RED WOOLLY HOTTIE WHITE HEART.         6   \n",
       "\n",
       "      InvoiceDate  UnitPrice CustomerID         Country  \n",
       "0  12/1/2010 8:26       2.55      17850  United Kingdom  \n",
       "1  12/1/2010 8:26       3.39      17850  United Kingdom  \n",
       "2  12/1/2010 8:26       2.75      17850  United Kingdom  \n",
       "3  12/1/2010 8:26       3.39      17850  United Kingdom  \n",
       "4  12/1/2010 8:26       3.39      17850  United Kingdom  "
      ]
     },
     "execution_count": 1,
     "metadata": {},
     "output_type": "execute_result"
    }
   ],
   "source": [
    "import pandas as pd #import pandas as an object pd\n",
    "\n",
    "import matplotlib.pyplot as plt\n",
    "\n",
    "ec = pd.read_csv('data/w10_ec.csv', encoding=\"ISO-8859-1\", dtype={'CustomerID': str,'InvoiceNo': str}) #we will name our dataframe ec\n",
    "ec.head() #see the first five entries"
   ]
  },
  {
   "cell_type": "markdown",
   "metadata": {},
   "source": [
    "This dataset consists of 541909 records and 8 columns. This is the largest dataset that we have explored so far, but still pretty far from 'big data'."
   ]
  },
  {
   "cell_type": "code",
   "execution_count": 2,
   "metadata": {},
   "outputs": [
    {
     "data": {
      "text/plain": [
       "(541909, 8)"
      ]
     },
     "execution_count": 2,
     "metadata": {},
     "output_type": "execute_result"
    }
   ],
   "source": [
    "ec.shape"
   ]
  },
  {
   "cell_type": "markdown",
   "metadata": {},
   "source": [
    "Let's visualize the `UnitPrice` to look for outliers in that column. Right away we can see that there are a small number of transactions which have over 1000 pounds in price. "
   ]
  },
  {
   "cell_type": "code",
   "execution_count": 3,
   "metadata": {},
   "outputs": [
    {
     "data": {
      "text/plain": [
       "<matplotlib.axes._subplots.AxesSubplot at 0x24fa1392588>"
      ]
     },
     "execution_count": 3,
     "metadata": {},
     "output_type": "execute_result"
    },
    {
     "data": {
      "image/png": "[encoded data removed]",
      "text/plain": [
       "<Figure size 864x432 with 1 Axes>"
      ]
     },
     "metadata": {
      "needs_background": "light"
     },
     "output_type": "display_data"
    }
   ],
   "source": [
    "ec.plot(x='InvoiceDate', y='UnitPrice', figsize=(12,6), title='Transaction price over time')"
   ]
  },
  {
   "cell_type": "markdown",
   "metadata": {},
   "source": [
    "Let's retrieve the subset of transactions which have over 1000 pounds as the UnitPrice. We could also learn that there are 122 transactions by using `.describe()`, which you can try if you would like! "
   ]
  },
  {
   "cell_type": "code",
   "execution_count": 4,
   "metadata": {},
   "outputs": [
    {
     "data": {
      "text/html": [
       "<div>\n",
       "<style scoped>\n",
       "    .dataframe tbody tr th:only-of-type {\n",
       "        vertical-align: middle;\n",
       "    }\n",
       "\n",
       "    .dataframe tbody tr th {\n",
       "        vertical-align: top;\n",
       "    }\n",
       "\n",
       "    .dataframe thead th {\n",
       "        text-align: right;\n",
       "    }\n",
       "</style>\n",
       "<table border=\"1\" class=\"dataframe\">\n",
       "  <thead>\n",
       "    <tr style=\"text-align: right;\">\n",
       "      <th></th>\n",
       "      <th>InvoiceNo</th>\n",
       "      <th>StockCode</th>\n",
       "      <th>Description</th>\n",
       "      <th>Quantity</th>\n",
       "      <th>InvoiceDate</th>\n",
       "      <th>UnitPrice</th>\n",
       "      <th>CustomerID</th>\n",
       "      <th>Country</th>\n",
       "    </tr>\n",
       "  </thead>\n",
       "  <tbody>\n",
       "    <tr>\n",
       "      <td>15016</td>\n",
       "      <td>C537630</td>\n",
       "      <td>AMAZONFEE</td>\n",
       "      <td>AMAZON FEE</td>\n",
       "      <td>-1</td>\n",
       "      <td>12/7/2010 15:04</td>\n",
       "      <td>13541.33</td>\n",
       "      <td>NaN</td>\n",
       "      <td>United Kingdom</td>\n",
       "    </tr>\n",
       "    <tr>\n",
       "      <td>15017</td>\n",
       "      <td>537632</td>\n",
       "      <td>AMAZONFEE</td>\n",
       "      <td>AMAZON FEE</td>\n",
       "      <td>1</td>\n",
       "      <td>12/7/2010 15:08</td>\n",
       "      <td>13541.33</td>\n",
       "      <td>NaN</td>\n",
       "      <td>United Kingdom</td>\n",
       "    </tr>\n",
       "    <tr>\n",
       "      <td>16232</td>\n",
       "      <td>C537644</td>\n",
       "      <td>AMAZONFEE</td>\n",
       "      <td>AMAZON FEE</td>\n",
       "      <td>-1</td>\n",
       "      <td>12/7/2010 15:34</td>\n",
       "      <td>13474.79</td>\n",
       "      <td>NaN</td>\n",
       "      <td>United Kingdom</td>\n",
       "    </tr>\n",
       "    <tr>\n",
       "      <td>16313</td>\n",
       "      <td>C537647</td>\n",
       "      <td>AMAZONFEE</td>\n",
       "      <td>AMAZON FEE</td>\n",
       "      <td>-1</td>\n",
       "      <td>12/7/2010 15:41</td>\n",
       "      <td>5519.25</td>\n",
       "      <td>NaN</td>\n",
       "      <td>United Kingdom</td>\n",
       "    </tr>\n",
       "    <tr>\n",
       "      <td>16356</td>\n",
       "      <td>C537651</td>\n",
       "      <td>AMAZONFEE</td>\n",
       "      <td>AMAZON FEE</td>\n",
       "      <td>-1</td>\n",
       "      <td>12/7/2010 15:49</td>\n",
       "      <td>13541.33</td>\n",
       "      <td>NaN</td>\n",
       "      <td>United Kingdom</td>\n",
       "    </tr>\n",
       "  </tbody>\n",
       "</table>\n",
       "</div>"
      ],
      "text/plain": [
       "      InvoiceNo  StockCode Description  Quantity      InvoiceDate  UnitPrice  \\\n",
       "15016   C537630  AMAZONFEE  AMAZON FEE        -1  12/7/2010 15:04   13541.33   \n",
       "15017    537632  AMAZONFEE  AMAZON FEE         1  12/7/2010 15:08   13541.33   \n",
       "16232   C537644  AMAZONFEE  AMAZON FEE        -1  12/7/2010 15:34   13474.79   \n",
       "16313   C537647  AMAZONFEE  AMAZON FEE        -1  12/7/2010 15:41    5519.25   \n",
       "16356   C537651  AMAZONFEE  AMAZON FEE        -1  12/7/2010 15:49   13541.33   \n",
       "\n",
       "      CustomerID         Country  \n",
       "15016        NaN  United Kingdom  \n",
       "15017        NaN  United Kingdom  \n",
       "16232        NaN  United Kingdom  \n",
       "16313        NaN  United Kingdom  \n",
       "16356        NaN  United Kingdom  "
      ]
     },
     "execution_count": 4,
     "metadata": {},
     "output_type": "execute_result"
    }
   ],
   "source": [
    "ec_outliers = ec[\n",
    "                    (ec['UnitPrice'] > 1000) |\n",
    "                    (ec['UnitPrice'] < -1000)\n",
    "                ]\n",
    "\n",
    "ec_outliers.head()"
   ]
  },
  {
   "cell_type": "code",
   "execution_count": 5,
   "metadata": {},
   "outputs": [
    {
     "data": {
      "text/html": [
       "<div>\n",
       "<style scoped>\n",
       "    .dataframe tbody tr th:only-of-type {\n",
       "        vertical-align: middle;\n",
       "    }\n",
       "\n",
       "    .dataframe tbody tr th {\n",
       "        vertical-align: top;\n",
       "    }\n",
       "\n",
       "    .dataframe thead th {\n",
       "        text-align: right;\n",
       "    }\n",
       "</style>\n",
       "<table border=\"1\" class=\"dataframe\">\n",
       "  <thead>\n",
       "    <tr style=\"text-align: right;\">\n",
       "      <th></th>\n",
       "      <th>Quantity</th>\n",
       "      <th>UnitPrice</th>\n",
       "    </tr>\n",
       "  </thead>\n",
       "  <tbody>\n",
       "    <tr>\n",
       "      <td>count</td>\n",
       "      <td>122.000000</td>\n",
       "      <td>122.000000</td>\n",
       "    </tr>\n",
       "    <tr>\n",
       "      <td>mean</td>\n",
       "      <td>-0.090164</td>\n",
       "      <td>3759.296393</td>\n",
       "    </tr>\n",
       "    <tr>\n",
       "      <td>std</td>\n",
       "      <td>1.012354</td>\n",
       "      <td>5174.857618</td>\n",
       "    </tr>\n",
       "    <tr>\n",
       "      <td>min</td>\n",
       "      <td>-2.000000</td>\n",
       "      <td>-11062.060000</td>\n",
       "    </tr>\n",
       "    <tr>\n",
       "      <td>25%</td>\n",
       "      <td>-1.000000</td>\n",
       "      <td>1273.495000</td>\n",
       "    </tr>\n",
       "    <tr>\n",
       "      <td>50%</td>\n",
       "      <td>-1.000000</td>\n",
       "      <td>2043.085000</td>\n",
       "    </tr>\n",
       "    <tr>\n",
       "      <td>75%</td>\n",
       "      <td>1.000000</td>\n",
       "      <td>5062.682500</td>\n",
       "    </tr>\n",
       "    <tr>\n",
       "      <td>max</td>\n",
       "      <td>1.000000</td>\n",
       "      <td>38970.000000</td>\n",
       "    </tr>\n",
       "  </tbody>\n",
       "</table>\n",
       "</div>"
      ],
      "text/plain": [
       "         Quantity     UnitPrice\n",
       "count  122.000000    122.000000\n",
       "mean    -0.090164   3759.296393\n",
       "std      1.012354   5174.857618\n",
       "min     -2.000000 -11062.060000\n",
       "25%     -1.000000   1273.495000\n",
       "50%     -1.000000   2043.085000\n",
       "75%      1.000000   5062.682500\n",
       "max      1.000000  38970.000000"
      ]
     },
     "execution_count": 5,
     "metadata": {},
     "output_type": "execute_result"
    }
   ],
   "source": [
    "ec_outliers.describe()"
   ]
  },
  {
   "cell_type": "markdown",
   "metadata": {},
   "source": [
    "What type of transactions are these? We can use the `.unique()` method to determine the number of unique values in the `Description` column. It is clear that these consist of overhead costs which were recorded as transactions in the data. Let's dig into the differences between these categories."
   ]
  },
  {
   "cell_type": "code",
   "execution_count": 6,
   "metadata": {},
   "outputs": [
    {
     "data": {
      "text/plain": [
       "array(['AMAZON FEE', 'Manual', 'Bank Charges', 'Discount', 'POSTAGE',\n",
       "       'DOTCOM POSTAGE', 'Adjust bad debt', 'CRUK Commission'],\n",
       "      dtype=object)"
      ]
     },
     "execution_count": 6,
     "metadata": {},
     "output_type": "execute_result"
    }
   ],
   "source": [
    "ec_outliers['Description'].unique()"
   ]
  },
  {
   "cell_type": "markdown",
   "metadata": {},
   "source": [
    "### Analyze outliers by description group\n",
    "In the previous lab we learned about the `groupby()` method which can be used to group data by a nominal value. `Description` is one such value. By calculating the sum of unit price for each value, we can compare expenses between the categories. It is clear that `AMAZON FEE` is a considerable source of revenue for this company.\n",
    "\n",
    "One immediate question I would have for the executives at this company is whether this represented a revenue or an expense. It seems strange that they are recorded as revenues; it is possible that they represent sales which were made on Amazon. However, this does not account for the fact that there are other fees represented as revenues (e.g. DOTCOM POSTAGE)."
   ]
  },
  {
   "cell_type": "code",
   "execution_count": 7,
   "metadata": {},
   "outputs": [
    {
     "data": {
      "text/plain": [
       "<matplotlib.axes._subplots.AxesSubplot at 0x24fa21abe48>"
      ]
     },
     "execution_count": 7,
     "metadata": {},
     "output_type": "execute_result"
    },
    {
     "data": {
      "image/png": "[encoded data removed]",
      "text/plain": [
       "<Figure size 864x432 with 1 Axes>"
      ]
     },
     "metadata": {
      "needs_background": "light"
     },
     "output_type": "display_data"
    }
   ],
   "source": [
    "out_group = ec_outliers.groupby('Description')\n",
    "out_group['UnitPrice'].sum().plot.bar(figsize=(12,6), title='Total fees paid by outlier fee type')"
   ]
  },
  {
   "cell_type": "markdown",
   "metadata": {},
   "source": [
    "## Challenge Question 1 (2 points)\n",
    "Though it is clear that Amazon Fees constitute the largest fee segment among the outliers, it is not clear whether any one Amazon fee was responsible for these expenses. Write code that provides the `Invoice Number`, `Description` and `UnitPrice` for the transaction which had the highest UnitPrice value."
   ]
  },
  {
   "cell_type": "code",
   "execution_count": 8,
   "metadata": {},
   "outputs": [
    {
     "data": {
      "text/html": [
       "<div>\n",
       "<style scoped>\n",
       "    .dataframe tbody tr th:only-of-type {\n",
       "        vertical-align: middle;\n",
       "    }\n",
       "\n",
       "    .dataframe tbody tr th {\n",
       "        vertical-align: top;\n",
       "    }\n",
       "\n",
       "    .dataframe thead th {\n",
       "        text-align: right;\n",
       "    }\n",
       "</style>\n",
       "<table border=\"1\" class=\"dataframe\">\n",
       "  <thead>\n",
       "    <tr style=\"text-align: right;\">\n",
       "      <th></th>\n",
       "      <th>InvoiceNo</th>\n",
       "      <th>StockCode</th>\n",
       "      <th>Description</th>\n",
       "      <th>Quantity</th>\n",
       "      <th>InvoiceDate</th>\n",
       "      <th>UnitPrice</th>\n",
       "      <th>CustomerID</th>\n",
       "      <th>Country</th>\n",
       "    </tr>\n",
       "  </thead>\n",
       "  <tbody>\n",
       "    <tr>\n",
       "      <td>15016</td>\n",
       "      <td>C537630</td>\n",
       "      <td>AMAZONFEE</td>\n",
       "      <td>AMAZON FEE</td>\n",
       "      <td>-1</td>\n",
       "      <td>12/7/2010 15:04</td>\n",
       "      <td>13541.33</td>\n",
       "      <td>NaN</td>\n",
       "      <td>United Kingdom</td>\n",
       "    </tr>\n",
       "    <tr>\n",
       "      <td>15017</td>\n",
       "      <td>537632</td>\n",
       "      <td>AMAZONFEE</td>\n",
       "      <td>AMAZON FEE</td>\n",
       "      <td>1</td>\n",
       "      <td>12/7/2010 15:08</td>\n",
       "      <td>13541.33</td>\n",
       "      <td>NaN</td>\n",
       "      <td>United Kingdom</td>\n",
       "    </tr>\n",
       "    <tr>\n",
       "      <td>16232</td>\n",
       "      <td>C537644</td>\n",
       "      <td>AMAZONFEE</td>\n",
       "      <td>AMAZON FEE</td>\n",
       "      <td>-1</td>\n",
       "      <td>12/7/2010 15:34</td>\n",
       "      <td>13474.79</td>\n",
       "      <td>NaN</td>\n",
       "      <td>United Kingdom</td>\n",
       "    </tr>\n",
       "    <tr>\n",
       "      <td>16313</td>\n",
       "      <td>C537647</td>\n",
       "      <td>AMAZONFEE</td>\n",
       "      <td>AMAZON FEE</td>\n",
       "      <td>-1</td>\n",
       "      <td>12/7/2010 15:41</td>\n",
       "      <td>5519.25</td>\n",
       "      <td>NaN</td>\n",
       "      <td>United Kingdom</td>\n",
       "    </tr>\n",
       "    <tr>\n",
       "      <td>16356</td>\n",
       "      <td>C537651</td>\n",
       "      <td>AMAZONFEE</td>\n",
       "      <td>AMAZON FEE</td>\n",
       "      <td>-1</td>\n",
       "      <td>12/7/2010 15:49</td>\n",
       "      <td>13541.33</td>\n",
       "      <td>NaN</td>\n",
       "      <td>United Kingdom</td>\n",
       "    </tr>\n",
       "    <tr>\n",
       "      <td>28994</td>\n",
       "      <td>C538682</td>\n",
       "      <td>M</td>\n",
       "      <td>Manual</td>\n",
       "      <td>-1</td>\n",
       "      <td>12/13/2010 17:14</td>\n",
       "      <td>1130.90</td>\n",
       "      <td>NaN</td>\n",
       "      <td>United Kingdom</td>\n",
       "    </tr>\n",
       "    <tr>\n",
       "      <td>41448</td>\n",
       "      <td>539856</td>\n",
       "      <td>M</td>\n",
       "      <td>Manual</td>\n",
       "      <td>1</td>\n",
       "      <td>12/22/2010 14:41</td>\n",
       "      <td>1298.40</td>\n",
       "      <td>NaN</td>\n",
       "      <td>United Kingdom</td>\n",
       "    </tr>\n",
       "    <tr>\n",
       "      <td>45622</td>\n",
       "      <td>C540271</td>\n",
       "      <td>M</td>\n",
       "      <td>Manual</td>\n",
       "      <td>-1</td>\n",
       "      <td>1/6/2011 11:51</td>\n",
       "      <td>1126.00</td>\n",
       "      <td>12503</td>\n",
       "      <td>Spain</td>\n",
       "    </tr>\n",
       "    <tr>\n",
       "      <td>64570</td>\n",
       "      <td>C541651</td>\n",
       "      <td>M</td>\n",
       "      <td>Manual</td>\n",
       "      <td>-1</td>\n",
       "      <td>1/20/2011 11:48</td>\n",
       "      <td>1283.80</td>\n",
       "      <td>NaN</td>\n",
       "      <td>United Kingdom</td>\n",
       "    </tr>\n",
       "    <tr>\n",
       "      <td>64573</td>\n",
       "      <td>C541653</td>\n",
       "      <td>BANK CHARGES</td>\n",
       "      <td>Bank Charges</td>\n",
       "      <td>-1</td>\n",
       "      <td>1/20/2011 11:50</td>\n",
       "      <td>1050.15</td>\n",
       "      <td>NaN</td>\n",
       "      <td>United Kingdom</td>\n",
       "    </tr>\n",
       "    <tr>\n",
       "      <td>73446</td>\n",
       "      <td>C542348</td>\n",
       "      <td>M</td>\n",
       "      <td>Manual</td>\n",
       "      <td>-1</td>\n",
       "      <td>1/27/2011 12:09</td>\n",
       "      <td>1715.85</td>\n",
       "      <td>12539</td>\n",
       "      <td>Spain</td>\n",
       "    </tr>\n",
       "    <tr>\n",
       "      <td>150591</td>\n",
       "      <td>C549452</td>\n",
       "      <td>D</td>\n",
       "      <td>Discount</td>\n",
       "      <td>-1</td>\n",
       "      <td>4/8/2011 14:17</td>\n",
       "      <td>1867.86</td>\n",
       "      <td>17940</td>\n",
       "      <td>United Kingdom</td>\n",
       "    </tr>\n",
       "    <tr>\n",
       "      <td>173277</td>\n",
       "      <td>C551685</td>\n",
       "      <td>POST</td>\n",
       "      <td>POSTAGE</td>\n",
       "      <td>-1</td>\n",
       "      <td>5/3/2011 12:51</td>\n",
       "      <td>8142.75</td>\n",
       "      <td>16029</td>\n",
       "      <td>United Kingdom</td>\n",
       "    </tr>\n",
       "    <tr>\n",
       "      <td>173382</td>\n",
       "      <td>551697</td>\n",
       "      <td>POST</td>\n",
       "      <td>POSTAGE</td>\n",
       "      <td>1</td>\n",
       "      <td>5/3/2011 13:46</td>\n",
       "      <td>8142.75</td>\n",
       "      <td>16029</td>\n",
       "      <td>United Kingdom</td>\n",
       "    </tr>\n",
       "    <tr>\n",
       "      <td>297723</td>\n",
       "      <td>562955</td>\n",
       "      <td>DOT</td>\n",
       "      <td>DOTCOM POSTAGE</td>\n",
       "      <td>1</td>\n",
       "      <td>8/11/2011 10:14</td>\n",
       "      <td>4505.17</td>\n",
       "      <td>NaN</td>\n",
       "      <td>United Kingdom</td>\n",
       "    </tr>\n",
       "    <tr>\n",
       "      <td>299982</td>\n",
       "      <td>A563185</td>\n",
       "      <td>B</td>\n",
       "      <td>Adjust bad debt</td>\n",
       "      <td>1</td>\n",
       "      <td>8/12/2011 14:50</td>\n",
       "      <td>11062.06</td>\n",
       "      <td>NaN</td>\n",
       "      <td>United Kingdom</td>\n",
       "    </tr>\n",
       "    <tr>\n",
       "      <td>299983</td>\n",
       "      <td>A563186</td>\n",
       "      <td>B</td>\n",
       "      <td>Adjust bad debt</td>\n",
       "      <td>1</td>\n",
       "      <td>8/12/2011 14:51</td>\n",
       "      <td>-11062.06</td>\n",
       "      <td>NaN</td>\n",
       "      <td>United Kingdom</td>\n",
       "    </tr>\n",
       "    <tr>\n",
       "      <td>299984</td>\n",
       "      <td>A563187</td>\n",
       "      <td>B</td>\n",
       "      <td>Adjust bad debt</td>\n",
       "      <td>1</td>\n",
       "      <td>8/12/2011 14:52</td>\n",
       "      <td>-11062.06</td>\n",
       "      <td>NaN</td>\n",
       "      <td>United Kingdom</td>\n",
       "    </tr>\n",
       "    <tr>\n",
       "      <td>303524</td>\n",
       "      <td>563549</td>\n",
       "      <td>DOT</td>\n",
       "      <td>DOTCOM POSTAGE</td>\n",
       "      <td>1</td>\n",
       "      <td>8/17/2011 12:34</td>\n",
       "      <td>1154.67</td>\n",
       "      <td>NaN</td>\n",
       "      <td>United Kingdom</td>\n",
       "    </tr>\n",
       "    <tr>\n",
       "      <td>311088</td>\n",
       "      <td>564221</td>\n",
       "      <td>DOT</td>\n",
       "      <td>DOTCOM POSTAGE</td>\n",
       "      <td>1</td>\n",
       "      <td>8/24/2011 9:36</td>\n",
       "      <td>1325.00</td>\n",
       "      <td>NaN</td>\n",
       "      <td>United Kingdom</td>\n",
       "    </tr>\n",
       "    <tr>\n",
       "      <td>329628</td>\n",
       "      <td>565847</td>\n",
       "      <td>DOT</td>\n",
       "      <td>DOTCOM POSTAGE</td>\n",
       "      <td>1</td>\n",
       "      <td>9/7/2011 12:44</td>\n",
       "      <td>1569.04</td>\n",
       "      <td>NaN</td>\n",
       "      <td>United Kingdom</td>\n",
       "    </tr>\n",
       "    <tr>\n",
       "      <td>349412</td>\n",
       "      <td>567507</td>\n",
       "      <td>DOT</td>\n",
       "      <td>DOTCOM POSTAGE</td>\n",
       "      <td>1</td>\n",
       "      <td>9/20/2011 14:46</td>\n",
       "      <td>1092.21</td>\n",
       "      <td>NaN</td>\n",
       "      <td>United Kingdom</td>\n",
       "    </tr>\n",
       "    <tr>\n",
       "      <td>467437</td>\n",
       "      <td>C576338</td>\n",
       "      <td>CRUK</td>\n",
       "      <td>CRUK Commission</td>\n",
       "      <td>-1</td>\n",
       "      <td>11/14/2011 15:27</td>\n",
       "      <td>1038.75</td>\n",
       "      <td>14096</td>\n",
       "      <td>United Kingdom</td>\n",
       "    </tr>\n",
       "    <tr>\n",
       "      <td>528087</td>\n",
       "      <td>C580726</td>\n",
       "      <td>CRUK</td>\n",
       "      <td>CRUK Commission</td>\n",
       "      <td>-1</td>\n",
       "      <td>12/5/2011 17:17</td>\n",
       "      <td>1100.44</td>\n",
       "      <td>14096</td>\n",
       "      <td>United Kingdom</td>\n",
       "    </tr>\n",
       "  </tbody>\n",
       "</table>\n",
       "</div>"
      ],
      "text/plain": [
       "       InvoiceNo     StockCode      Description  Quantity       InvoiceDate  \\\n",
       "15016    C537630     AMAZONFEE       AMAZON FEE        -1   12/7/2010 15:04   \n",
       "15017     537632     AMAZONFEE       AMAZON FEE         1   12/7/2010 15:08   \n",
       "16232    C537644     AMAZONFEE       AMAZON FEE        -1   12/7/2010 15:34   \n",
       "16313    C537647     AMAZONFEE       AMAZON FEE        -1   12/7/2010 15:41   \n",
       "16356    C537651     AMAZONFEE       AMAZON FEE        -1   12/7/2010 15:49   \n",
       "28994    C538682             M           Manual        -1  12/13/2010 17:14   \n",
       "41448     539856             M           Manual         1  12/22/2010 14:41   \n",
       "45622    C540271             M           Manual        -1    1/6/2011 11:51   \n",
       "64570    C541651             M           Manual        -1   1/20/2011 11:48   \n",
       "64573    C541653  BANK CHARGES     Bank Charges        -1   1/20/2011 11:50   \n",
       "73446    C542348             M           Manual        -1   1/27/2011 12:09   \n",
       "150591   C549452             D         Discount        -1    4/8/2011 14:17   \n",
       "173277   C551685          POST          POSTAGE        -1    5/3/2011 12:51   \n",
       "173382    551697          POST          POSTAGE         1    5/3/2011 13:46   \n",
       "297723    562955           DOT   DOTCOM POSTAGE         1   8/11/2011 10:14   \n",
       "299982   A563185             B  Adjust bad debt         1   8/12/2011 14:50   \n",
       "299983   A563186             B  Adjust bad debt         1   8/12/2011 14:51   \n",
       "299984   A563187             B  Adjust bad debt         1   8/12/2011 14:52   \n",
       "303524    563549           DOT   DOTCOM POSTAGE         1   8/17/2011 12:34   \n",
       "311088    564221           DOT   DOTCOM POSTAGE         1    8/24/2011 9:36   \n",
       "329628    565847           DOT   DOTCOM POSTAGE         1    9/7/2011 12:44   \n",
       "349412    567507           DOT   DOTCOM POSTAGE         1   9/20/2011 14:46   \n",
       "467437   C576338          CRUK  CRUK Commission        -1  11/14/2011 15:27   \n",
       "528087   C580726          CRUK  CRUK Commission        -1   12/5/2011 17:17   \n",
       "\n",
       "        UnitPrice CustomerID         Country  \n",
       "15016    13541.33        NaN  United Kingdom  \n",
       "15017    13541.33        NaN  United Kingdom  \n",
       "16232    13474.79        NaN  United Kingdom  \n",
       "16313     5519.25        NaN  United Kingdom  \n",
       "16356    13541.33        NaN  United Kingdom  \n",
       "28994     1130.90        NaN  United Kingdom  \n",
       "41448     1298.40        NaN  United Kingdom  \n",
       "45622     1126.00      12503           Spain  \n",
       "64570     1283.80        NaN  United Kingdom  \n",
       "64573     1050.15        NaN  United Kingdom  \n",
       "73446     1715.85      12539           Spain  \n",
       "150591    1867.86      17940  United Kingdom  \n",
       "173277    8142.75      16029  United Kingdom  \n",
       "173382    8142.75      16029  United Kingdom  \n",
       "297723    4505.17        NaN  United Kingdom  \n",
       "299982   11062.06        NaN  United Kingdom  \n",
       "299983  -11062.06        NaN  United Kingdom  \n",
       "299984  -11062.06        NaN  United Kingdom  \n",
       "303524    1154.67        NaN  United Kingdom  \n",
       "311088    1325.00        NaN  United Kingdom  \n",
       "329628    1569.04        NaN  United Kingdom  \n",
       "349412    1092.21        NaN  United Kingdom  \n",
       "467437    1038.75      14096  United Kingdom  \n",
       "528087    1100.44      14096  United Kingdom  "
      ]
     },
     "execution_count": 8,
     "metadata": {},
     "output_type": "execute_result"
    }
   ],
   "source": [
    "out_group.head()"
   ]
  },
  {
   "cell_type": "markdown",
   "metadata": {},
   "source": [
    "As we can see from the head , there are a large number of `AMAZONFEE` types."
   ]
  },
  {
   "cell_type": "markdown",
   "metadata": {},
   "source": [
    "# Objective 2: Detect patterns among e-commerce transactions\n",
    "With a better understanding of the `UnitPrice` outliers, it is time to analyze the main transactional data. We should start by removing the outlier data and analyzing only common transactions. We can create a subset called `ect` (e-commerce transactions) for this analysis. Let's visualize the `Quantity` column instead."
   ]
  },
  {
   "cell_type": "code",
   "execution_count": 9,
   "metadata": {},
   "outputs": [
    {
     "data": {
      "text/plain": [
       "<matplotlib.axes._subplots.AxesSubplot at 0x24fa1d8fa48>"
      ]
     },
     "execution_count": 9,
     "metadata": {},
     "output_type": "execute_result"
    },
    {
     "data": {
      "image/png": "[encoded data removed]",
      "text/plain": [
       "<Figure size 864x432 with 1 Axes>"
      ]
     },
     "metadata": {
      "needs_background": "light"
     },
     "output_type": "display_data"
    }
   ],
   "source": [
    "ect = ec[\n",
    "            (ec['Description'] != 'AMAZON FEE') & \n",
    "            (ec['Description'] != 'Manual') &\n",
    "            (ec['Description'] != 'Bank Charges') & \n",
    "            (ec['Description'] != 'Discount') &\n",
    "            (ec['Description'] != 'POSTAGE') & \n",
    "            (ec['Description'] != 'DOTCOM POSTAGE') &\n",
    "            (ec['Description'] != 'Adjust bad debt') & \n",
    "            (ec['Description'] != 'CRUK Commission')\n",
    "        ]\n",
    "\n",
    "ect.plot(x='InvoiceDate', y='Quantity', figsize=(12,6), title='Quantity over time, excluding overhead fees')"
   ]
  },
  {
   "cell_type": "markdown",
   "metadata": {},
   "source": [
    "However, once again we realize that there outliers in Quantity as well, albeit far fewer. Let's retrieve orders with over 5000 quantity (or negative 5000 quantity) and investigate what these are."
   ]
  },
  {
   "cell_type": "code",
   "execution_count": 10,
   "metadata": {},
   "outputs": [
    {
     "data": {
      "text/html": [
       "<div>\n",
       "<style scoped>\n",
       "    .dataframe tbody tr th:only-of-type {\n",
       "        vertical-align: middle;\n",
       "    }\n",
       "\n",
       "    .dataframe tbody tr th {\n",
       "        vertical-align: top;\n",
       "    }\n",
       "\n",
       "    .dataframe thead th {\n",
       "        text-align: right;\n",
       "    }\n",
       "</style>\n",
       "<table border=\"1\" class=\"dataframe\">\n",
       "  <thead>\n",
       "    <tr style=\"text-align: right;\">\n",
       "      <th></th>\n",
       "      <th>InvoiceNo</th>\n",
       "      <th>StockCode</th>\n",
       "      <th>Description</th>\n",
       "      <th>Quantity</th>\n",
       "      <th>InvoiceDate</th>\n",
       "      <th>UnitPrice</th>\n",
       "      <th>CustomerID</th>\n",
       "      <th>Country</th>\n",
       "    </tr>\n",
       "  </thead>\n",
       "  <tbody>\n",
       "    <tr>\n",
       "      <td>4287</td>\n",
       "      <td>C536757</td>\n",
       "      <td>84347</td>\n",
       "      <td>ROTATING SILVER ANGELS T-LIGHT HLDR</td>\n",
       "      <td>-9360</td>\n",
       "      <td>12/2/2010 14:23</td>\n",
       "      <td>0.03</td>\n",
       "      <td>15838</td>\n",
       "      <td>United Kingdom</td>\n",
       "    </tr>\n",
       "    <tr>\n",
       "      <td>61619</td>\n",
       "      <td>541431</td>\n",
       "      <td>23166</td>\n",
       "      <td>MEDIUM CERAMIC TOP STORAGE JAR</td>\n",
       "      <td>74215</td>\n",
       "      <td>1/18/2011 10:01</td>\n",
       "      <td>1.04</td>\n",
       "      <td>12346</td>\n",
       "      <td>United Kingdom</td>\n",
       "    </tr>\n",
       "    <tr>\n",
       "      <td>61624</td>\n",
       "      <td>C541433</td>\n",
       "      <td>23166</td>\n",
       "      <td>MEDIUM CERAMIC TOP STORAGE JAR</td>\n",
       "      <td>-74215</td>\n",
       "      <td>1/18/2011 10:17</td>\n",
       "      <td>1.04</td>\n",
       "      <td>12346</td>\n",
       "      <td>United Kingdom</td>\n",
       "    </tr>\n",
       "    <tr>\n",
       "      <td>74614</td>\n",
       "      <td>542504</td>\n",
       "      <td>37413</td>\n",
       "      <td>NaN</td>\n",
       "      <td>5568</td>\n",
       "      <td>1/28/2011 12:03</td>\n",
       "      <td>0.00</td>\n",
       "      <td>NaN</td>\n",
       "      <td>United Kingdom</td>\n",
       "    </tr>\n",
       "    <tr>\n",
       "      <td>115818</td>\n",
       "      <td>546152</td>\n",
       "      <td>72140F</td>\n",
       "      <td>throw away</td>\n",
       "      <td>-5368</td>\n",
       "      <td>3/9/2011 17:25</td>\n",
       "      <td>0.00</td>\n",
       "      <td>NaN</td>\n",
       "      <td>United Kingdom</td>\n",
       "    </tr>\n",
       "    <tr>\n",
       "      <td>225528</td>\n",
       "      <td>556687</td>\n",
       "      <td>23003</td>\n",
       "      <td>Printing smudges/thrown away</td>\n",
       "      <td>-9058</td>\n",
       "      <td>6/14/2011 10:36</td>\n",
       "      <td>0.00</td>\n",
       "      <td>NaN</td>\n",
       "      <td>United Kingdom</td>\n",
       "    </tr>\n",
       "    <tr>\n",
       "      <td>225529</td>\n",
       "      <td>556690</td>\n",
       "      <td>23005</td>\n",
       "      <td>printing smudges/thrown away</td>\n",
       "      <td>-9600</td>\n",
       "      <td>6/14/2011 10:37</td>\n",
       "      <td>0.00</td>\n",
       "      <td>NaN</td>\n",
       "      <td>United Kingdom</td>\n",
       "    </tr>\n",
       "    <tr>\n",
       "      <td>225530</td>\n",
       "      <td>556691</td>\n",
       "      <td>23005</td>\n",
       "      <td>printing smudges/thrown away</td>\n",
       "      <td>-9600</td>\n",
       "      <td>6/14/2011 10:37</td>\n",
       "      <td>0.00</td>\n",
       "      <td>NaN</td>\n",
       "      <td>United Kingdom</td>\n",
       "    </tr>\n",
       "    <tr>\n",
       "      <td>502122</td>\n",
       "      <td>578841</td>\n",
       "      <td>84826</td>\n",
       "      <td>ASSTD DESIGN 3D PAPER STICKERS</td>\n",
       "      <td>12540</td>\n",
       "      <td>11/25/2011 15:57</td>\n",
       "      <td>0.00</td>\n",
       "      <td>13256</td>\n",
       "      <td>United Kingdom</td>\n",
       "    </tr>\n",
       "    <tr>\n",
       "      <td>540421</td>\n",
       "      <td>581483</td>\n",
       "      <td>23843</td>\n",
       "      <td>PAPER CRAFT , LITTLE BIRDIE</td>\n",
       "      <td>80995</td>\n",
       "      <td>12/9/2011 9:15</td>\n",
       "      <td>2.08</td>\n",
       "      <td>16446</td>\n",
       "      <td>United Kingdom</td>\n",
       "    </tr>\n",
       "    <tr>\n",
       "      <td>540422</td>\n",
       "      <td>C581484</td>\n",
       "      <td>23843</td>\n",
       "      <td>PAPER CRAFT , LITTLE BIRDIE</td>\n",
       "      <td>-80995</td>\n",
       "      <td>12/9/2011 9:27</td>\n",
       "      <td>2.08</td>\n",
       "      <td>16446</td>\n",
       "      <td>United Kingdom</td>\n",
       "    </tr>\n",
       "  </tbody>\n",
       "</table>\n",
       "</div>"
      ],
      "text/plain": [
       "       InvoiceNo StockCode                          Description  Quantity  \\\n",
       "4287     C536757     84347  ROTATING SILVER ANGELS T-LIGHT HLDR     -9360   \n",
       "61619     541431     23166       MEDIUM CERAMIC TOP STORAGE JAR     74215   \n",
       "61624    C541433     23166       MEDIUM CERAMIC TOP STORAGE JAR    -74215   \n",
       "74614     542504     37413                                  NaN      5568   \n",
       "115818    546152    72140F                           throw away     -5368   \n",
       "225528    556687     23003         Printing smudges/thrown away     -9058   \n",
       "225529    556690     23005         printing smudges/thrown away     -9600   \n",
       "225530    556691     23005         printing smudges/thrown away     -9600   \n",
       "502122    578841     84826       ASSTD DESIGN 3D PAPER STICKERS     12540   \n",
       "540421    581483     23843          PAPER CRAFT , LITTLE BIRDIE     80995   \n",
       "540422   C581484     23843          PAPER CRAFT , LITTLE BIRDIE    -80995   \n",
       "\n",
       "             InvoiceDate  UnitPrice CustomerID         Country  \n",
       "4287     12/2/2010 14:23       0.03      15838  United Kingdom  \n",
       "61619    1/18/2011 10:01       1.04      12346  United Kingdom  \n",
       "61624    1/18/2011 10:17       1.04      12346  United Kingdom  \n",
       "74614    1/28/2011 12:03       0.00        NaN  United Kingdom  \n",
       "115818    3/9/2011 17:25       0.00        NaN  United Kingdom  \n",
       "225528   6/14/2011 10:36       0.00        NaN  United Kingdom  \n",
       "225529   6/14/2011 10:37       0.00        NaN  United Kingdom  \n",
       "225530   6/14/2011 10:37       0.00        NaN  United Kingdom  \n",
       "502122  11/25/2011 15:57       0.00      13256  United Kingdom  \n",
       "540421    12/9/2011 9:15       2.08      16446  United Kingdom  \n",
       "540422    12/9/2011 9:27       2.08      16446  United Kingdom  "
      ]
     },
     "execution_count": 10,
     "metadata": {},
     "output_type": "execute_result"
    }
   ],
   "source": [
    "ect_outliers = ect[\n",
    "                    (ect['Quantity'] > 5000) |\n",
    "                    (ect['Quantity'] < -5000)\n",
    "                ]\n",
    "\n",
    "ect_outliers"
   ]
  },
  {
   "cell_type": "markdown",
   "metadata": {},
   "source": [
    "It seems that some of these are attributed to wasted product, while others are probably mistaken orders and their respective return. For instance, it seems highly unlikely that a wholesaler would deliberately purchase 74215 ceramic storage jars, as evidenced by the -74215 value that follows. We can discount these outliers during our analysis of the transactions as well. When we again visualize the results, it seems much cleaner."
   ]
  },
  {
   "cell_type": "code",
   "execution_count": 11,
   "metadata": {},
   "outputs": [
    {
     "data": {
      "text/plain": [
       "<matplotlib.axes._subplots.AxesSubplot at 0x24facb70b48>"
      ]
     },
     "execution_count": 11,
     "metadata": {},
     "output_type": "execute_result"
    },
    {
     "data": {
      "image/png": "[encoded data removed]",
      "text/plain": [
       "<Figure size 864x432 with 1 Axes>"
      ]
     },
     "metadata": {
      "needs_background": "light"
     },
     "output_type": "display_data"
    }
   ],
   "source": [
    "ectc = ect[\n",
    "            (ect['Quantity'] < 5000) &\n",
    "            (ect['Quantity'] > -5000)\n",
    "         ]\n",
    "\n",
    "ectc.plot(x='InvoiceDate', y='Quantity', figsize=(12,6), title='Quantity over time, excluding overhead fees and extreme values')"
   ]
  },
  {
   "cell_type": "markdown",
   "metadata": {},
   "source": [
    "### Creating a calculated value\n",
    "While `Quantity` and `UnitPrice` are valuable data, in order to assess the value of each transaction it would be valuable to know the `TransactionValue` which is the `UnitPrice` multiplied by `Quantity`. With this data we would be able to assess the revenue generated for each invoice or customer. However, our dataframe does not currently carry this calculated value.\n",
    "\n",
    "In order to create a calculated value in Pandas we must iterate through each row of the dataframe. Pandas supports a method called `.apply()` which is designed for this task. Using `.apply()` we can apply simple functions to columns or rows of the dataframe to generated a calculated value. \n",
    "\n",
    "There are two types of functions which are supported by `.apply()`. The first are numpy functoins such as `.mean()` or `.sum()`. The second is called a `lambda`, which is sort of like a mini function in Python. In the code below we apply a `lambda` to calculate the `TransactionValue`.\n",
    "\n",
    "**Note:** If you don't understand lambdas, don't worry about it, it is here mostly so that you can see it in action. Also, Jupyter may throw a waning at you for using the code below, this is because we made changes to the dataframe that the lambda references, which is not a best practice."
   ]
  },
  {
   "cell_type": "code",
   "execution_count": 12,
   "metadata": {},
   "outputs": [
    {
     "name": "stderr",
     "output_type": "stream",
     "text": [
      "C:\\Users\\Colin\\Anaconda3\\lib\\site-packages\\ipykernel_launcher.py:1: SettingWithCopyWarning: \n",
      "A value is trying to be set on a copy of a slice from a DataFrame.\n",
      "Try using .loc[row_indexer,col_indexer] = value instead\n",
      "\n",
      "See the caveats in the documentation: http://pandas.pydata.org/pandas-docs/stable/user_guide/indexing.html#returning-a-view-versus-a-copy\n",
      "  \"\"\"Entry point for launching an IPython kernel.\n"
     ]
    }
   ],
   "source": [
    "ectc['TransactionValue'] = ectc.apply(lambda row: row['UnitPrice'] * row['Quantity'], axis=1)"
   ]
  },
  {
   "cell_type": "markdown",
   "metadata": {},
   "source": [
    "This will give us a new row called TransactionValue, which we can use for analysis."
   ]
  },
  {
   "cell_type": "code",
   "execution_count": 13,
   "metadata": {},
   "outputs": [
    {
     "data": {
      "text/html": [
       "<div>\n",
       "<style scoped>\n",
       "    .dataframe tbody tr th:only-of-type {\n",
       "        vertical-align: middle;\n",
       "    }\n",
       "\n",
       "    .dataframe tbody tr th {\n",
       "        vertical-align: top;\n",
       "    }\n",
       "\n",
       "    .dataframe thead th {\n",
       "        text-align: right;\n",
       "    }\n",
       "</style>\n",
       "<table border=\"1\" class=\"dataframe\">\n",
       "  <thead>\n",
       "    <tr style=\"text-align: right;\">\n",
       "      <th></th>\n",
       "      <th>InvoiceNo</th>\n",
       "      <th>StockCode</th>\n",
       "      <th>Description</th>\n",
       "      <th>Quantity</th>\n",
       "      <th>InvoiceDate</th>\n",
       "      <th>UnitPrice</th>\n",
       "      <th>CustomerID</th>\n",
       "      <th>Country</th>\n",
       "      <th>TransactionValue</th>\n",
       "    </tr>\n",
       "  </thead>\n",
       "  <tbody>\n",
       "    <tr>\n",
       "      <td>0</td>\n",
       "      <td>536365</td>\n",
       "      <td>85123A</td>\n",
       "      <td>WHITE HANGING HEART T-LIGHT HOLDER</td>\n",
       "      <td>6</td>\n",
       "      <td>12/1/2010 8:26</td>\n",
       "      <td>2.55</td>\n",
       "      <td>17850</td>\n",
       "      <td>United Kingdom</td>\n",
       "      <td>15.30</td>\n",
       "    </tr>\n",
       "    <tr>\n",
       "      <td>1</td>\n",
       "      <td>536365</td>\n",
       "      <td>71053</td>\n",
       "      <td>WHITE METAL LANTERN</td>\n",
       "      <td>6</td>\n",
       "      <td>12/1/2010 8:26</td>\n",
       "      <td>3.39</td>\n",
       "      <td>17850</td>\n",
       "      <td>United Kingdom</td>\n",
       "      <td>20.34</td>\n",
       "    </tr>\n",
       "    <tr>\n",
       "      <td>2</td>\n",
       "      <td>536365</td>\n",
       "      <td>84406B</td>\n",
       "      <td>CREAM CUPID HEARTS COAT HANGER</td>\n",
       "      <td>8</td>\n",
       "      <td>12/1/2010 8:26</td>\n",
       "      <td>2.75</td>\n",
       "      <td>17850</td>\n",
       "      <td>United Kingdom</td>\n",
       "      <td>22.00</td>\n",
       "    </tr>\n",
       "    <tr>\n",
       "      <td>3</td>\n",
       "      <td>536365</td>\n",
       "      <td>84029G</td>\n",
       "      <td>KNITTED UNION FLAG HOT WATER BOTTLE</td>\n",
       "      <td>6</td>\n",
       "      <td>12/1/2010 8:26</td>\n",
       "      <td>3.39</td>\n",
       "      <td>17850</td>\n",
       "      <td>United Kingdom</td>\n",
       "      <td>20.34</td>\n",
       "    </tr>\n",
       "    <tr>\n",
       "      <td>4</td>\n",
       "      <td>536365</td>\n",
       "      <td>84029E</td>\n",
       "      <td>RED WOOLLY HOTTIE WHITE HEART.</td>\n",
       "      <td>6</td>\n",
       "      <td>12/1/2010 8:26</td>\n",
       "      <td>3.39</td>\n",
       "      <td>17850</td>\n",
       "      <td>United Kingdom</td>\n",
       "      <td>20.34</td>\n",
       "    </tr>\n",
       "  </tbody>\n",
       "</table>\n",
       "</div>"
      ],
      "text/plain": [
       "  InvoiceNo StockCode                          Description  Quantity  \\\n",
       "0    536365    85123A   WHITE HANGING HEART T-LIGHT HOLDER         6   \n",
       "1    536365     71053                  WHITE METAL LANTERN         6   \n",
       "2    536365    84406B       CREAM CUPID HEARTS COAT HANGER         8   \n",
       "3    536365    84029G  KNITTED UNION FLAG HOT WATER BOTTLE         6   \n",
       "4    536365    84029E       RED WOOLLY HOTTIE WHITE HEART.         6   \n",
       "\n",
       "      InvoiceDate  UnitPrice CustomerID         Country  TransactionValue  \n",
       "0  12/1/2010 8:26       2.55      17850  United Kingdom             15.30  \n",
       "1  12/1/2010 8:26       3.39      17850  United Kingdom             20.34  \n",
       "2  12/1/2010 8:26       2.75      17850  United Kingdom             22.00  \n",
       "3  12/1/2010 8:26       3.39      17850  United Kingdom             20.34  \n",
       "4  12/1/2010 8:26       3.39      17850  United Kingdom             20.34  "
      ]
     },
     "execution_count": 13,
     "metadata": {},
     "output_type": "execute_result"
    }
   ],
   "source": [
    "ectc.head()"
   ]
  },
  {
   "cell_type": "markdown",
   "metadata": {},
   "source": [
    "### Grouping Customers\n",
    "By again using `.groupby()` we can now analyze the sales made to each customer. The code below grabs the `customer_sales`, which is the sum of `TransactionValue` for each customer and orders them from largest to smallest."
   ]
  },
  {
   "cell_type": "code",
   "execution_count": 14,
   "metadata": {},
   "outputs": [],
   "source": [
    "cust_group = ectc.groupby('CustomerID')\n",
    "customer_sales = cust_group['TransactionValue'].sum().sort_values(ascending=False)"
   ]
  },
  {
   "cell_type": "markdown",
   "metadata": {},
   "source": [
    "We can now visualize the data. Using a simple line plot we will see that there is a clear exponential relationship where a handful of customers account for most of the revenue. "
   ]
  },
  {
   "cell_type": "code",
   "execution_count": 15,
   "metadata": {},
   "outputs": [
    {
     "data": {
      "text/plain": [
       "<matplotlib.axes._subplots.AxesSubplot at 0x24fb11bfc88>"
      ]
     },
     "execution_count": 15,
     "metadata": {},
     "output_type": "execute_result"
    },
    {
     "data": {
      "image/png": "[encoded data removed]",
      "text/plain": [
       "<Figure size 864x432 with 1 Axes>"
      ]
     },
     "metadata": {
      "needs_background": "light"
     },
     "output_type": "display_data"
    }
   ],
   "source": [
    "customer_sales.plot(figsize=(12,6), title='Customer sales distribution')"
   ]
  },
  {
   "cell_type": "markdown",
   "metadata": {},
   "source": [
    "Let's compare the top 10 customers. The code below visualizes the top 10 customers using a bar plot. It seems that customers 14646, 18102 and 17450 account for a considerable number of the overall sales. "
   ]
  },
  {
   "cell_type": "code",
   "execution_count": 16,
   "metadata": {},
   "outputs": [
    {
     "data": {
      "text/plain": [
       "<matplotlib.axes._subplots.AxesSubplot at 0x24fb1a8e748>"
      ]
     },
     "execution_count": 16,
     "metadata": {},
     "output_type": "execute_result"
    },
    {
     "data": {
      "image/png": "[encoded data removed]",
      "text/plain": [
       "<Figure size 864x432 with 1 Axes>"
      ]
     },
     "metadata": {
      "needs_background": "light"
     },
     "output_type": "display_data"
    }
   ],
   "source": [
    "customer_sales[0:10].plot.bar(figsize=(12,6), title='Top 10 customers')"
   ]
  },
  {
   "cell_type": "markdown",
   "metadata": {},
   "source": [
    "Let's conclude by analyzing the percentage of the overall sales these three customers account for. The code below takes the sum of sales from the top 3 customers and divides it by the sum of all of the customer sales. It seems that the top 3 customers accounted for nearly 9\\% of the company's overall revenue."
   ]
  },
  {
   "cell_type": "code",
   "execution_count": 17,
   "metadata": {},
   "outputs": [
    {
     "name": "stdout",
     "output_type": "stream",
     "text": [
      "Our top 3 customers accounted for 8.779933866926964% of our revenue.\n"
     ]
    }
   ],
   "source": [
    "percent_revenue = (customer_sales[0:3].sum()/customer_sales.sum()) * 100\n",
    "print('Our top 3 customers accounted for ' + str(percent_revenue) + '% of our revenue.')"
   ]
  },
  {
   "cell_type": "markdown",
   "metadata": {},
   "source": [
    "## Challenge Question 2 (2 points)\n",
    "While insights about the top 3 customers are useful, it is also useful to generate insights about the top 10 customers. Create code that:\n",
    "- Calculates the percent of overall revenue generated by the top 10 customers\n",
    "- Calculates the percent of overall count of customers accounted for by the top 10 customers\n",
    "\n",
    "This may yield insights into how this business should prioritize its customer relationships."
   ]
  },
  {
   "cell_type": "code",
   "execution_count": 18,
   "metadata": {},
   "outputs": [],
   "source": [
    "# insert your code here"
   ]
  },
  {
   "cell_type": "code",
   "execution_count": 19,
   "metadata": {},
   "outputs": [],
   "source": [
    "# you may wish to use two cells for this one"
   ]
  },
  {
   "cell_type": "markdown",
   "metadata": {},
   "source": [
    "# Objective 3: Predict e-commerce purchase trends\n",
    "Let's shift gears to another data mining task: classification. Classification is an application of machine learning to predictive analytics. Using machine learning techniques, we can train an algorithm to identify trends in the data, with the goal of identifying some insight. There are many applications of this technique in this dataset, such as the identification of high value customers. In this example we will attempt to predict the country of origin of a customer.\n",
    "\n",
    "It is often good to eliminate or represent null values in your dataset. In this case, we opted to drop any values that had a null in any of the columns. We can also perform advanced functions like counting values in the dataset. For instance, we can observe the breakdown of the countries represented in the data."
   ]
  },
  {
   "cell_type": "code",
   "execution_count": 20,
   "metadata": {},
   "outputs": [
    {
     "name": "stderr",
     "output_type": "stream",
     "text": [
      "C:\\Users\\Colin\\Anaconda3\\lib\\site-packages\\ipykernel_launcher.py:1: SettingWithCopyWarning: \n",
      "A value is trying to be set on a copy of a slice from a DataFrame\n",
      "\n",
      "See the caveats in the documentation: http://pandas.pydata.org/pandas-docs/stable/user_guide/indexing.html#returning-a-view-versus-a-copy\n",
      "  \"\"\"Entry point for launching an IPython kernel.\n"
     ]
    },
    {
     "data": {
      "text/plain": [
       "(405041, 9)"
      ]
     },
     "execution_count": 20,
     "metadata": {},
     "output_type": "execute_result"
    }
   ],
   "source": [
    "ectc.dropna(inplace = True) #drop the null values\n",
    "ectc.shape"
   ]
  },
  {
   "cell_type": "code",
   "execution_count": 21,
   "metadata": {},
   "outputs": [
    {
     "name": "stdout",
     "output_type": "stream",
     "text": [
      "United Kingdom          361283\n",
      "Germany                   9096\n",
      "France                    8170\n",
      "EIRE                      7479\n",
      "Spain                     2468\n",
      "Netherlands               2330\n",
      "Belgium                   1971\n",
      "Switzerland               1844\n",
      "Portugal                  1436\n",
      "Australia                 1257\n",
      "Norway                    1060\n",
      "Italy                      783\n",
      "Channel Islands            756\n",
      "Finland                    653\n",
      "Cyprus                     619\n",
      "Sweden                     437\n",
      "Austria                    387\n",
      "Denmark                    375\n",
      "Japan                      355\n",
      "Poland                     336\n",
      "USA                        291\n",
      "Israel                     250\n",
      "Unspecified                244\n",
      "Singapore                  215\n",
      "Iceland                    182\n",
      "Canada                     150\n",
      "Greece                     142\n",
      "Malta                      123\n",
      "United Arab Emirates        67\n",
      "European Community          58\n",
      "RSA                         57\n",
      "Lebanon                     45\n",
      "Lithuania                   35\n",
      "Brazil                      32\n",
      "Czech Republic              28\n",
      "Bahrain                     17\n",
      "Saudi Arabia                10\n",
      "Name: Country, dtype: int64\n"
     ]
    }
   ],
   "source": [
    "print(ectc['Country'].value_counts())"
   ]
  },
  {
   "cell_type": "markdown",
   "metadata": {},
   "source": [
    "Our data is rather imbalanced, with the majority of the orders from the United Kingdom. This may create problems for us later, if we are going to build a classification algorithm. \n",
    "\n",
    "We should also observe our data types. Classification algorithms (as with all machine learning) can only understand values that are represented numerically. Though there may be good information contained in the descriptions, we would have to add additional analysis to process the text data. For example, we could use word tokens like we did in Lab 7. However, this lab is already quite complicated, so we should keep it simple."
   ]
  },
  {
   "cell_type": "code",
   "execution_count": 22,
   "metadata": {},
   "outputs": [
    {
     "data": {
      "text/plain": [
       "InvoiceNo            object\n",
       "StockCode            object\n",
       "Description          object\n",
       "Quantity              int64\n",
       "InvoiceDate          object\n",
       "UnitPrice           float64\n",
       "CustomerID           object\n",
       "Country              object\n",
       "TransactionValue    float64\n",
       "dtype: object"
      ]
     },
     "execution_count": 22,
     "metadata": {},
     "output_type": "execute_result"
    }
   ],
   "source": [
    "ectc.dtypes"
   ]
  },
  {
   "cell_type": "markdown",
   "metadata": {},
   "source": [
    "We can cut our dataframe down easily by taking a subset. Let's take a subset with just the numerical values and the country values, and see if we can build a predictive model on those alone."
   ]
  },
  {
   "cell_type": "code",
   "execution_count": 23,
   "metadata": {},
   "outputs": [],
   "source": [
    "new_ec = ectc[['Quantity', 'UnitPrice', 'Country']]"
   ]
  },
  {
   "cell_type": "code",
   "execution_count": 24,
   "metadata": {},
   "outputs": [
    {
     "data": {
      "text/html": [
       "<div>\n",
       "<style scoped>\n",
       "    .dataframe tbody tr th:only-of-type {\n",
       "        vertical-align: middle;\n",
       "    }\n",
       "\n",
       "    .dataframe tbody tr th {\n",
       "        vertical-align: top;\n",
       "    }\n",
       "\n",
       "    .dataframe thead th {\n",
       "        text-align: right;\n",
       "    }\n",
       "</style>\n",
       "<table border=\"1\" class=\"dataframe\">\n",
       "  <thead>\n",
       "    <tr style=\"text-align: right;\">\n",
       "      <th></th>\n",
       "      <th>Quantity</th>\n",
       "      <th>UnitPrice</th>\n",
       "      <th>Country</th>\n",
       "    </tr>\n",
       "  </thead>\n",
       "  <tbody>\n",
       "    <tr>\n",
       "      <td>0</td>\n",
       "      <td>6</td>\n",
       "      <td>2.55</td>\n",
       "      <td>United Kingdom</td>\n",
       "    </tr>\n",
       "    <tr>\n",
       "      <td>1</td>\n",
       "      <td>6</td>\n",
       "      <td>3.39</td>\n",
       "      <td>United Kingdom</td>\n",
       "    </tr>\n",
       "    <tr>\n",
       "      <td>2</td>\n",
       "      <td>8</td>\n",
       "      <td>2.75</td>\n",
       "      <td>United Kingdom</td>\n",
       "    </tr>\n",
       "    <tr>\n",
       "      <td>3</td>\n",
       "      <td>6</td>\n",
       "      <td>3.39</td>\n",
       "      <td>United Kingdom</td>\n",
       "    </tr>\n",
       "    <tr>\n",
       "      <td>4</td>\n",
       "      <td>6</td>\n",
       "      <td>3.39</td>\n",
       "      <td>United Kingdom</td>\n",
       "    </tr>\n",
       "  </tbody>\n",
       "</table>\n",
       "</div>"
      ],
      "text/plain": [
       "   Quantity  UnitPrice         Country\n",
       "0         6       2.55  United Kingdom\n",
       "1         6       3.39  United Kingdom\n",
       "2         8       2.75  United Kingdom\n",
       "3         6       3.39  United Kingdom\n",
       "4         6       3.39  United Kingdom"
      ]
     },
     "execution_count": 24,
     "metadata": {},
     "output_type": "execute_result"
    }
   ],
   "source": [
    "new_ec.head()"
   ]
  },
  {
   "cell_type": "markdown",
   "metadata": {},
   "source": [
    "### Apply logistic regression to an imbalanced dataset\n",
    "Let's start by exploring a basic predictive algorithm. Logistic regression is one of many regression models designed to best fit the data using a predefined method. If you are familiar with statistics or economics, you probably already understand how it works--we are just using a logistic regression library built in `scikit-learn`, one of python's machine learning libraries. We will use this to start our classification analysis. Let's begin by importing the model from scikit. We will save the model in the variable `clf`, as per scikit-learn's conventions."
   ]
  },
  {
   "cell_type": "code",
   "execution_count": 25,
   "metadata": {},
   "outputs": [],
   "source": [
    "from sklearn.linear_model import LogisticRegression\n",
    "clf = LogisticRegression(random_state=0, solver='lbfgs', multi_class='multinomial') #the classification model"
   ]
  },
  {
   "cell_type": "markdown",
   "metadata": {},
   "source": [
    "The classification models we will use here belong in the category of *supervised learning*. Supervised learning algorithms need data and labels to learn from them. In our case, we will need to take part of our data as a *training set*. Though there are many ways that you can do this, one simple method is to take the majority of the dataset for training, and save a minority for testing. The author of this tutorial is lazy, so he will just take the first 300 000, which is roughly 3/4 of this dataset. We will use the last 1/4 for testing."
   ]
  },
  {
   "cell_type": "code",
   "execution_count": 26,
   "metadata": {},
   "outputs": [
    {
     "name": "stdout",
     "output_type": "stream",
     "text": [
      "Train: 300000 Test: 105041\n"
     ]
    }
   ],
   "source": [
    "train = new_ec[:300000] #take the first 300 000 and save it in train\n",
    "test = new_ec[300000:] #take what remains and save it in test\n",
    "\n",
    "print(\"Train: \" + str(len(train)) + \" Test: \" + str(len(test)))"
   ]
  },
  {
   "cell_type": "markdown",
   "metadata": {},
   "source": [
    "The next step is to *fit* the model. We saved the model as the variable `clf`, so it's just a matter of fitting our training data to the model. Typically, you fit the model by specifying first the data that the model is assessing, followed by the labels. We will do this by telling it to observe the columns that are not 'Country' for the model, while using the 'Country' values as labels. \n",
    "\n",
    "**Note:** this may take a minute or two on some computers."
   ]
  },
  {
   "cell_type": "code",
   "execution_count": 27,
   "metadata": {},
   "outputs": [
    {
     "ename": "KeyboardInterrupt",
     "evalue": "",
     "output_type": "error",
     "traceback": [
      "\u001b[1;31m---------------------------------------------------------------------------\u001b[0m",
      "\u001b[1;31mKeyboardInterrupt\u001b[0m                         Traceback (most recent call last)",
      "\u001b[1;32m<ipython-input-27-1a1a429df31c>\u001b[0m in \u001b[0;36m<module>\u001b[1;34m\u001b[0m\n\u001b[1;32m----> 1\u001b[1;33m \u001b[0mclf\u001b[0m\u001b[1;33m.\u001b[0m\u001b[0mfit\u001b[0m\u001b[1;33m(\u001b[0m\u001b[0mtrain\u001b[0m\u001b[1;33m.\u001b[0m\u001b[0mloc\u001b[0m\u001b[1;33m[\u001b[0m\u001b[1;33m:\u001b[0m\u001b[1;33m,\u001b[0m \u001b[0mtrain\u001b[0m\u001b[1;33m.\u001b[0m\u001b[0mcolumns\u001b[0m \u001b[1;33m!=\u001b[0m \u001b[1;34m'Country'\u001b[0m\u001b[1;33m]\u001b[0m\u001b[1;33m,\u001b[0m \u001b[0mtrain\u001b[0m\u001b[1;33m[\u001b[0m\u001b[1;34m'Country'\u001b[0m\u001b[1;33m]\u001b[0m\u001b[1;33m)\u001b[0m \u001b[1;31m#the 'non-country' columns are inputs while 'country' is the label\u001b[0m\u001b[1;33m\u001b[0m\u001b[1;33m\u001b[0m\u001b[0m\n\u001b[0m",
      "\u001b[1;32m~\\Anaconda3\\lib\\site-packages\\sklearn\\linear_model\\logistic.py\u001b[0m in \u001b[0;36mfit\u001b[1;34m(self, X, y, sample_weight)\u001b[0m\n\u001b[0;32m   1604\u001b[0m                       \u001b[0mpenalty\u001b[0m\u001b[1;33m=\u001b[0m\u001b[0mpenalty\u001b[0m\u001b[1;33m,\u001b[0m \u001b[0mmax_squared_sum\u001b[0m\u001b[1;33m=\u001b[0m\u001b[0mmax_squared_sum\u001b[0m\u001b[1;33m,\u001b[0m\u001b[1;33m\u001b[0m\u001b[1;33m\u001b[0m\u001b[0m\n\u001b[0;32m   1605\u001b[0m                       sample_weight=sample_weight)\n\u001b[1;32m-> 1606\u001b[1;33m             for class_, warm_start_coef_ in zip(classes_, warm_start_coef))\n\u001b[0m\u001b[0;32m   1607\u001b[0m \u001b[1;33m\u001b[0m\u001b[0m\n\u001b[0;32m   1608\u001b[0m         \u001b[0mfold_coefs_\u001b[0m\u001b[1;33m,\u001b[0m \u001b[0m_\u001b[0m\u001b[1;33m,\u001b[0m \u001b[0mn_iter_\u001b[0m \u001b[1;33m=\u001b[0m \u001b[0mzip\u001b[0m\u001b[1;33m(\u001b[0m\u001b[1;33m*\u001b[0m\u001b[0mfold_coefs_\u001b[0m\u001b[1;33m)\u001b[0m\u001b[1;33m\u001b[0m\u001b[1;33m\u001b[0m\u001b[0m\n",
      "\u001b[1;32m~\\Anaconda3\\lib\\site-packages\\joblib\\parallel.py\u001b[0m in \u001b[0;36m__call__\u001b[1;34m(self, iterable)\u001b[0m\n\u001b[0;32m    919\u001b[0m             \u001b[1;31m# remaining jobs.\u001b[0m\u001b[1;33m\u001b[0m\u001b[1;33m\u001b[0m\u001b[1;33m\u001b[0m\u001b[0m\n\u001b[0;32m    920\u001b[0m             \u001b[0mself\u001b[0m\u001b[1;33m.\u001b[0m\u001b[0m_iterating\u001b[0m \u001b[1;33m=\u001b[0m \u001b[1;32mFalse\u001b[0m\u001b[1;33m\u001b[0m\u001b[1;33m\u001b[0m\u001b[0m\n\u001b[1;32m--> 921\u001b[1;33m             \u001b[1;32mif\u001b[0m \u001b[0mself\u001b[0m\u001b[1;33m.\u001b[0m\u001b[0mdispatch_one_batch\u001b[0m\u001b[1;33m(\u001b[0m\u001b[0miterator\u001b[0m\u001b[1;33m)\u001b[0m\u001b[1;33m:\u001b[0m\u001b[1;33m\u001b[0m\u001b[1;33m\u001b[0m\u001b[0m\n\u001b[0m\u001b[0;32m    922\u001b[0m                 \u001b[0mself\u001b[0m\u001b[1;33m.\u001b[0m\u001b[0m_iterating\u001b[0m \u001b[1;33m=\u001b[0m \u001b[0mself\u001b[0m\u001b[1;33m.\u001b[0m\u001b[0m_original_iterator\u001b[0m \u001b[1;32mis\u001b[0m \u001b[1;32mnot\u001b[0m \u001b[1;32mNone\u001b[0m\u001b[1;33m\u001b[0m\u001b[1;33m\u001b[0m\u001b[0m\n\u001b[0;32m    923\u001b[0m \u001b[1;33m\u001b[0m\u001b[0m\n",
      "\u001b[1;32m~\\Anaconda3\\lib\\site-packages\\joblib\\parallel.py\u001b[0m in \u001b[0;36mdispatch_one_batch\u001b[1;34m(self, iterator)\u001b[0m\n\u001b[0;32m    757\u001b[0m                 \u001b[1;32mreturn\u001b[0m \u001b[1;32mFalse\u001b[0m\u001b[1;33m\u001b[0m\u001b[1;33m\u001b[0m\u001b[0m\n\u001b[0;32m    758\u001b[0m             \u001b[1;32melse\u001b[0m\u001b[1;33m:\u001b[0m\u001b[1;33m\u001b[0m\u001b[1;33m\u001b[0m\u001b[0m\n\u001b[1;32m--> 759\u001b[1;33m                 \u001b[0mself\u001b[0m\u001b[1;33m.\u001b[0m\u001b[0m_dispatch\u001b[0m\u001b[1;33m(\u001b[0m\u001b[0mtasks\u001b[0m\u001b[1;33m)\u001b[0m\u001b[1;33m\u001b[0m\u001b[1;33m\u001b[0m\u001b[0m\n\u001b[0m\u001b[0;32m    760\u001b[0m                 \u001b[1;32mreturn\u001b[0m \u001b[1;32mTrue\u001b[0m\u001b[1;33m\u001b[0m\u001b[1;33m\u001b[0m\u001b[0m\n\u001b[0;32m    761\u001b[0m \u001b[1;33m\u001b[0m\u001b[0m\n",
      "\u001b[1;32m~\\Anaconda3\\lib\\site-packages\\joblib\\parallel.py\u001b[0m in \u001b[0;36m_dispatch\u001b[1;34m(self, batch)\u001b[0m\n\u001b[0;32m    714\u001b[0m         \u001b[1;32mwith\u001b[0m \u001b[0mself\u001b[0m\u001b[1;33m.\u001b[0m\u001b[0m_lock\u001b[0m\u001b[1;33m:\u001b[0m\u001b[1;33m\u001b[0m\u001b[1;33m\u001b[0m\u001b[0m\n\u001b[0;32m    715\u001b[0m             \u001b[0mjob_idx\u001b[0m \u001b[1;33m=\u001b[0m \u001b[0mlen\u001b[0m\u001b[1;33m(\u001b[0m\u001b[0mself\u001b[0m\u001b[1;33m.\u001b[0m\u001b[0m_jobs\u001b[0m\u001b[1;33m)\u001b[0m\u001b[1;33m\u001b[0m\u001b[1;33m\u001b[0m\u001b[0m\n\u001b[1;32m--> 716\u001b[1;33m             \u001b[0mjob\u001b[0m \u001b[1;33m=\u001b[0m \u001b[0mself\u001b[0m\u001b[1;33m.\u001b[0m\u001b[0m_backend\u001b[0m\u001b[1;33m.\u001b[0m\u001b[0mapply_async\u001b[0m\u001b[1;33m(\u001b[0m\u001b[0mbatch\u001b[0m\u001b[1;33m,\u001b[0m \u001b[0mcallback\u001b[0m\u001b[1;33m=\u001b[0m\u001b[0mcb\u001b[0m\u001b[1;33m)\u001b[0m\u001b[1;33m\u001b[0m\u001b[1;33m\u001b[0m\u001b[0m\n\u001b[0m\u001b[0;32m    717\u001b[0m             \u001b[1;31m# A job can complete so quickly than its callback is\u001b[0m\u001b[1;33m\u001b[0m\u001b[1;33m\u001b[0m\u001b[1;33m\u001b[0m\u001b[0m\n\u001b[0;32m    718\u001b[0m             \u001b[1;31m# called before we get here, causing self._jobs to\u001b[0m\u001b[1;33m\u001b[0m\u001b[1;33m\u001b[0m\u001b[1;33m\u001b[0m\u001b[0m\n",
      "\u001b[1;32m~\\Anaconda3\\lib\\site-packages\\joblib\\_parallel_backends.py\u001b[0m in \u001b[0;36mapply_async\u001b[1;34m(self, func, callback)\u001b[0m\n\u001b[0;32m    180\u001b[0m     \u001b[1;32mdef\u001b[0m \u001b[0mapply_async\u001b[0m\u001b[1;33m(\u001b[0m\u001b[0mself\u001b[0m\u001b[1;33m,\u001b[0m \u001b[0mfunc\u001b[0m\u001b[1;33m,\u001b[0m \u001b[0mcallback\u001b[0m\u001b[1;33m=\u001b[0m\u001b[1;32mNone\u001b[0m\u001b[1;33m)\u001b[0m\u001b[1;33m:\u001b[0m\u001b[1;33m\u001b[0m\u001b[1;33m\u001b[0m\u001b[0m\n\u001b[0;32m    181\u001b[0m         \u001b[1;34m\"\"\"Schedule a func to be run\"\"\"\u001b[0m\u001b[1;33m\u001b[0m\u001b[1;33m\u001b[0m\u001b[0m\n\u001b[1;32m--> 182\u001b[1;33m         \u001b[0mresult\u001b[0m \u001b[1;33m=\u001b[0m \u001b[0mImmediateResult\u001b[0m\u001b[1;33m(\u001b[0m\u001b[0mfunc\u001b[0m\u001b[1;33m)\u001b[0m\u001b[1;33m\u001b[0m\u001b[1;33m\u001b[0m\u001b[0m\n\u001b[0m\u001b[0;32m    183\u001b[0m         \u001b[1;32mif\u001b[0m \u001b[0mcallback\u001b[0m\u001b[1;33m:\u001b[0m\u001b[1;33m\u001b[0m\u001b[1;33m\u001b[0m\u001b[0m\n\u001b[0;32m    184\u001b[0m             \u001b[0mcallback\u001b[0m\u001b[1;33m(\u001b[0m\u001b[0mresult\u001b[0m\u001b[1;33m)\u001b[0m\u001b[1;33m\u001b[0m\u001b[1;33m\u001b[0m\u001b[0m\n",
      "\u001b[1;32m~\\Anaconda3\\lib\\site-packages\\joblib\\_parallel_backends.py\u001b[0m in \u001b[0;36m__init__\u001b[1;34m(self, batch)\u001b[0m\n\u001b[0;32m    547\u001b[0m         \u001b[1;31m# Don't delay the application, to avoid keeping the input\u001b[0m\u001b[1;33m\u001b[0m\u001b[1;33m\u001b[0m\u001b[1;33m\u001b[0m\u001b[0m\n\u001b[0;32m    548\u001b[0m         \u001b[1;31m# arguments in memory\u001b[0m\u001b[1;33m\u001b[0m\u001b[1;33m\u001b[0m\u001b[1;33m\u001b[0m\u001b[0m\n\u001b[1;32m--> 549\u001b[1;33m         \u001b[0mself\u001b[0m\u001b[1;33m.\u001b[0m\u001b[0mresults\u001b[0m \u001b[1;33m=\u001b[0m \u001b[0mbatch\u001b[0m\u001b[1;33m(\u001b[0m\u001b[1;33m)\u001b[0m\u001b[1;33m\u001b[0m\u001b[1;33m\u001b[0m\u001b[0m\n\u001b[0m\u001b[0;32m    550\u001b[0m \u001b[1;33m\u001b[0m\u001b[0m\n\u001b[0;32m    551\u001b[0m     \u001b[1;32mdef\u001b[0m \u001b[0mget\u001b[0m\u001b[1;33m(\u001b[0m\u001b[0mself\u001b[0m\u001b[1;33m)\u001b[0m\u001b[1;33m:\u001b[0m\u001b[1;33m\u001b[0m\u001b[1;33m\u001b[0m\u001b[0m\n",
      "\u001b[1;32m~\\Anaconda3\\lib\\site-packages\\joblib\\parallel.py\u001b[0m in \u001b[0;36m__call__\u001b[1;34m(self)\u001b[0m\n\u001b[0;32m    223\u001b[0m         \u001b[1;32mwith\u001b[0m \u001b[0mparallel_backend\u001b[0m\u001b[1;33m(\u001b[0m\u001b[0mself\u001b[0m\u001b[1;33m.\u001b[0m\u001b[0m_backend\u001b[0m\u001b[1;33m,\u001b[0m \u001b[0mn_jobs\u001b[0m\u001b[1;33m=\u001b[0m\u001b[0mself\u001b[0m\u001b[1;33m.\u001b[0m\u001b[0m_n_jobs\u001b[0m\u001b[1;33m)\u001b[0m\u001b[1;33m:\u001b[0m\u001b[1;33m\u001b[0m\u001b[1;33m\u001b[0m\u001b[0m\n\u001b[0;32m    224\u001b[0m             return [func(*args, **kwargs)\n\u001b[1;32m--> 225\u001b[1;33m                     for func, args, kwargs in self.items]\n\u001b[0m\u001b[0;32m    226\u001b[0m \u001b[1;33m\u001b[0m\u001b[0m\n\u001b[0;32m    227\u001b[0m     \u001b[1;32mdef\u001b[0m \u001b[0m__len__\u001b[0m\u001b[1;33m(\u001b[0m\u001b[0mself\u001b[0m\u001b[1;33m)\u001b[0m\u001b[1;33m:\u001b[0m\u001b[1;33m\u001b[0m\u001b[1;33m\u001b[0m\u001b[0m\n",
      "\u001b[1;32m~\\Anaconda3\\lib\\site-packages\\joblib\\parallel.py\u001b[0m in \u001b[0;36m<listcomp>\u001b[1;34m(.0)\u001b[0m\n\u001b[0;32m    223\u001b[0m         \u001b[1;32mwith\u001b[0m \u001b[0mparallel_backend\u001b[0m\u001b[1;33m(\u001b[0m\u001b[0mself\u001b[0m\u001b[1;33m.\u001b[0m\u001b[0m_backend\u001b[0m\u001b[1;33m,\u001b[0m \u001b[0mn_jobs\u001b[0m\u001b[1;33m=\u001b[0m\u001b[0mself\u001b[0m\u001b[1;33m.\u001b[0m\u001b[0m_n_jobs\u001b[0m\u001b[1;33m)\u001b[0m\u001b[1;33m:\u001b[0m\u001b[1;33m\u001b[0m\u001b[1;33m\u001b[0m\u001b[0m\n\u001b[0;32m    224\u001b[0m             return [func(*args, **kwargs)\n\u001b[1;32m--> 225\u001b[1;33m                     for func, args, kwargs in self.items]\n\u001b[0m\u001b[0;32m    226\u001b[0m \u001b[1;33m\u001b[0m\u001b[0m\n\u001b[0;32m    227\u001b[0m     \u001b[1;32mdef\u001b[0m \u001b[0m__len__\u001b[0m\u001b[1;33m(\u001b[0m\u001b[0mself\u001b[0m\u001b[1;33m)\u001b[0m\u001b[1;33m:\u001b[0m\u001b[1;33m\u001b[0m\u001b[1;33m\u001b[0m\u001b[0m\n",
      "\u001b[1;32m~\\Anaconda3\\lib\\site-packages\\sklearn\\linear_model\\logistic.py\u001b[0m in \u001b[0;36m_logistic_regression_path\u001b[1;34m(X, y, pos_class, Cs, fit_intercept, max_iter, tol, verbose, solver, coef, class_weight, dual, penalty, intercept_scaling, multi_class, random_state, check_input, max_squared_sum, sample_weight, l1_ratio)\u001b[0m\n\u001b[0;32m    942\u001b[0m                 \u001b[0mfunc\u001b[0m\u001b[1;33m,\u001b[0m \u001b[0mw0\u001b[0m\u001b[1;33m,\u001b[0m \u001b[0mfprime\u001b[0m\u001b[1;33m=\u001b[0m\u001b[1;32mNone\u001b[0m\u001b[1;33m,\u001b[0m\u001b[1;33m\u001b[0m\u001b[1;33m\u001b[0m\u001b[0m\n\u001b[0;32m    943\u001b[0m                 \u001b[0margs\u001b[0m\u001b[1;33m=\u001b[0m\u001b[1;33m(\u001b[0m\u001b[0mX\u001b[0m\u001b[1;33m,\u001b[0m \u001b[0mtarget\u001b[0m\u001b[1;33m,\u001b[0m \u001b[1;36m1.\u001b[0m \u001b[1;33m/\u001b[0m \u001b[0mC\u001b[0m\u001b[1;33m,\u001b[0m \u001b[0msample_weight\u001b[0m\u001b[1;33m)\u001b[0m\u001b[1;33m,\u001b[0m\u001b[1;33m\u001b[0m\u001b[1;33m\u001b[0m\u001b[0m\n\u001b[1;32m--> 944\u001b[1;33m                 iprint=iprint, pgtol=tol, maxiter=max_iter)\n\u001b[0m\u001b[0;32m    945\u001b[0m             \u001b[1;32mif\u001b[0m \u001b[0minfo\u001b[0m\u001b[1;33m[\u001b[0m\u001b[1;34m\"warnflag\"\u001b[0m\u001b[1;33m]\u001b[0m \u001b[1;33m==\u001b[0m \u001b[1;36m1\u001b[0m\u001b[1;33m:\u001b[0m\u001b[1;33m\u001b[0m\u001b[1;33m\u001b[0m\u001b[0m\n\u001b[0;32m    946\u001b[0m                 warnings.warn(\"lbfgs failed to converge. Increase the number \"\n",
      "\u001b[1;32m~\\Anaconda3\\lib\\site-packages\\scipy\\optimize\\lbfgsb.py\u001b[0m in \u001b[0;36mfmin_l_bfgs_b\u001b[1;34m(func, x0, fprime, args, approx_grad, bounds, m, factr, pgtol, epsilon, iprint, maxfun, maxiter, disp, callback, maxls)\u001b[0m\n\u001b[0;32m    197\u001b[0m \u001b[1;33m\u001b[0m\u001b[0m\n\u001b[0;32m    198\u001b[0m     res = _minimize_lbfgsb(fun, x0, args=args, jac=jac, bounds=bounds,\n\u001b[1;32m--> 199\u001b[1;33m                            **opts)\n\u001b[0m\u001b[0;32m    200\u001b[0m     d = {'grad': res['jac'],\n\u001b[0;32m    201\u001b[0m          \u001b[1;34m'task'\u001b[0m\u001b[1;33m:\u001b[0m \u001b[0mres\u001b[0m\u001b[1;33m[\u001b[0m\u001b[1;34m'message'\u001b[0m\u001b[1;33m]\u001b[0m\u001b[1;33m,\u001b[0m\u001b[1;33m\u001b[0m\u001b[1;33m\u001b[0m\u001b[0m\n",
      "\u001b[1;32m~\\Anaconda3\\lib\\site-packages\\scipy\\optimize\\lbfgsb.py\u001b[0m in \u001b[0;36m_minimize_lbfgsb\u001b[1;34m(fun, x0, args, jac, bounds, disp, maxcor, ftol, gtol, eps, maxfun, maxiter, iprint, callback, maxls, **unknown_options)\u001b[0m\n\u001b[0;32m    333\u001b[0m             \u001b[1;31m# until the completion of the current minimization iteration.\u001b[0m\u001b[1;33m\u001b[0m\u001b[1;33m\u001b[0m\u001b[1;33m\u001b[0m\u001b[0m\n\u001b[0;32m    334\u001b[0m             \u001b[1;31m# Overwrite f and g:\u001b[0m\u001b[1;33m\u001b[0m\u001b[1;33m\u001b[0m\u001b[1;33m\u001b[0m\u001b[0m\n\u001b[1;32m--> 335\u001b[1;33m             \u001b[0mf\u001b[0m\u001b[1;33m,\u001b[0m \u001b[0mg\u001b[0m \u001b[1;33m=\u001b[0m \u001b[0mfunc_and_grad\u001b[0m\u001b[1;33m(\u001b[0m\u001b[0mx\u001b[0m\u001b[1;33m)\u001b[0m\u001b[1;33m\u001b[0m\u001b[1;33m\u001b[0m\u001b[0m\n\u001b[0m\u001b[0;32m    336\u001b[0m         \u001b[1;32melif\u001b[0m \u001b[0mtask_str\u001b[0m\u001b[1;33m.\u001b[0m\u001b[0mstartswith\u001b[0m\u001b[1;33m(\u001b[0m\u001b[1;34mb'NEW_X'\u001b[0m\u001b[1;33m)\u001b[0m\u001b[1;33m:\u001b[0m\u001b[1;33m\u001b[0m\u001b[1;33m\u001b[0m\u001b[0m\n\u001b[0;32m    337\u001b[0m             \u001b[1;31m# new iteration\u001b[0m\u001b[1;33m\u001b[0m\u001b[1;33m\u001b[0m\u001b[1;33m\u001b[0m\u001b[0m\n",
      "\u001b[1;32m~\\Anaconda3\\lib\\site-packages\\scipy\\optimize\\lbfgsb.py\u001b[0m in \u001b[0;36mfunc_and_grad\u001b[1;34m(x)\u001b[0m\n\u001b[0;32m    283\u001b[0m     \u001b[1;32melse\u001b[0m\u001b[1;33m:\u001b[0m\u001b[1;33m\u001b[0m\u001b[1;33m\u001b[0m\u001b[0m\n\u001b[0;32m    284\u001b[0m         \u001b[1;32mdef\u001b[0m \u001b[0mfunc_and_grad\u001b[0m\u001b[1;33m(\u001b[0m\u001b[0mx\u001b[0m\u001b[1;33m)\u001b[0m\u001b[1;33m:\u001b[0m\u001b[1;33m\u001b[0m\u001b[1;33m\u001b[0m\u001b[0m\n\u001b[1;32m--> 285\u001b[1;33m             \u001b[0mf\u001b[0m \u001b[1;33m=\u001b[0m \u001b[0mfun\u001b[0m\u001b[1;33m(\u001b[0m\u001b[0mx\u001b[0m\u001b[1;33m,\u001b[0m \u001b[1;33m*\u001b[0m\u001b[0margs\u001b[0m\u001b[1;33m)\u001b[0m\u001b[1;33m\u001b[0m\u001b[1;33m\u001b[0m\u001b[0m\n\u001b[0m\u001b[0;32m    286\u001b[0m             \u001b[0mg\u001b[0m \u001b[1;33m=\u001b[0m \u001b[0mjac\u001b[0m\u001b[1;33m(\u001b[0m\u001b[0mx\u001b[0m\u001b[1;33m,\u001b[0m \u001b[1;33m*\u001b[0m\u001b[0margs\u001b[0m\u001b[1;33m)\u001b[0m\u001b[1;33m\u001b[0m\u001b[1;33m\u001b[0m\u001b[0m\n\u001b[0;32m    287\u001b[0m             \u001b[1;32mreturn\u001b[0m \u001b[0mf\u001b[0m\u001b[1;33m,\u001b[0m \u001b[0mg\u001b[0m\u001b[1;33m\u001b[0m\u001b[1;33m\u001b[0m\u001b[0m\n",
      "\u001b[1;32m~\\Anaconda3\\lib\\site-packages\\scipy\\optimize\\optimize.py\u001b[0m in \u001b[0;36mfunction_wrapper\u001b[1;34m(*wrapper_args)\u001b[0m\n\u001b[0;32m    324\u001b[0m     \u001b[1;32mdef\u001b[0m \u001b[0mfunction_wrapper\u001b[0m\u001b[1;33m(\u001b[0m\u001b[1;33m*\u001b[0m\u001b[0mwrapper_args\u001b[0m\u001b[1;33m)\u001b[0m\u001b[1;33m:\u001b[0m\u001b[1;33m\u001b[0m\u001b[1;33m\u001b[0m\u001b[0m\n\u001b[0;32m    325\u001b[0m         \u001b[0mncalls\u001b[0m\u001b[1;33m[\u001b[0m\u001b[1;36m0\u001b[0m\u001b[1;33m]\u001b[0m \u001b[1;33m+=\u001b[0m \u001b[1;36m1\u001b[0m\u001b[1;33m\u001b[0m\u001b[1;33m\u001b[0m\u001b[0m\n\u001b[1;32m--> 326\u001b[1;33m         \u001b[1;32mreturn\u001b[0m \u001b[0mfunction\u001b[0m\u001b[1;33m(\u001b[0m\u001b[1;33m*\u001b[0m\u001b[1;33m(\u001b[0m\u001b[0mwrapper_args\u001b[0m \u001b[1;33m+\u001b[0m \u001b[0margs\u001b[0m\u001b[1;33m)\u001b[0m\u001b[1;33m)\u001b[0m\u001b[1;33m\u001b[0m\u001b[1;33m\u001b[0m\u001b[0m\n\u001b[0m\u001b[0;32m    327\u001b[0m \u001b[1;33m\u001b[0m\u001b[0m\n\u001b[0;32m    328\u001b[0m     \u001b[1;32mreturn\u001b[0m \u001b[0mncalls\u001b[0m\u001b[1;33m,\u001b[0m \u001b[0mfunction_wrapper\u001b[0m\u001b[1;33m\u001b[0m\u001b[1;33m\u001b[0m\u001b[0m\n",
      "\u001b[1;32m~\\Anaconda3\\lib\\site-packages\\scipy\\optimize\\optimize.py\u001b[0m in \u001b[0;36m__call__\u001b[1;34m(self, x, *args)\u001b[0m\n\u001b[0;32m     62\u001b[0m     \u001b[1;32mdef\u001b[0m \u001b[0m__call__\u001b[0m\u001b[1;33m(\u001b[0m\u001b[0mself\u001b[0m\u001b[1;33m,\u001b[0m \u001b[0mx\u001b[0m\u001b[1;33m,\u001b[0m \u001b[1;33m*\u001b[0m\u001b[0margs\u001b[0m\u001b[1;33m)\u001b[0m\u001b[1;33m:\u001b[0m\u001b[1;33m\u001b[0m\u001b[1;33m\u001b[0m\u001b[0m\n\u001b[0;32m     63\u001b[0m         \u001b[0mself\u001b[0m\u001b[1;33m.\u001b[0m\u001b[0mx\u001b[0m \u001b[1;33m=\u001b[0m \u001b[0mnumpy\u001b[0m\u001b[1;33m.\u001b[0m\u001b[0masarray\u001b[0m\u001b[1;33m(\u001b[0m\u001b[0mx\u001b[0m\u001b[1;33m)\u001b[0m\u001b[1;33m.\u001b[0m\u001b[0mcopy\u001b[0m\u001b[1;33m(\u001b[0m\u001b[1;33m)\u001b[0m\u001b[1;33m\u001b[0m\u001b[1;33m\u001b[0m\u001b[0m\n\u001b[1;32m---> 64\u001b[1;33m         \u001b[0mfg\u001b[0m \u001b[1;33m=\u001b[0m \u001b[0mself\u001b[0m\u001b[1;33m.\u001b[0m\u001b[0mfun\u001b[0m\u001b[1;33m(\u001b[0m\u001b[0mx\u001b[0m\u001b[1;33m,\u001b[0m \u001b[1;33m*\u001b[0m\u001b[0margs\u001b[0m\u001b[1;33m)\u001b[0m\u001b[1;33m\u001b[0m\u001b[1;33m\u001b[0m\u001b[0m\n\u001b[0m\u001b[0;32m     65\u001b[0m         \u001b[0mself\u001b[0m\u001b[1;33m.\u001b[0m\u001b[0mjac\u001b[0m \u001b[1;33m=\u001b[0m \u001b[0mfg\u001b[0m\u001b[1;33m[\u001b[0m\u001b[1;36m1\u001b[0m\u001b[1;33m]\u001b[0m\u001b[1;33m\u001b[0m\u001b[1;33m\u001b[0m\u001b[0m\n\u001b[0;32m     66\u001b[0m         \u001b[1;32mreturn\u001b[0m \u001b[0mfg\u001b[0m\u001b[1;33m[\u001b[0m\u001b[1;36m0\u001b[0m\u001b[1;33m]\u001b[0m\u001b[1;33m\u001b[0m\u001b[1;33m\u001b[0m\u001b[0m\n",
      "\u001b[1;32m~\\Anaconda3\\lib\\site-packages\\sklearn\\linear_model\\logistic.py\u001b[0m in \u001b[0;36m<lambda>\u001b[1;34m(x, *args)\u001b[0m\n\u001b[0;32m    917\u001b[0m         \u001b[0mtarget\u001b[0m \u001b[1;33m=\u001b[0m \u001b[0mY_multi\u001b[0m\u001b[1;33m\u001b[0m\u001b[1;33m\u001b[0m\u001b[0m\n\u001b[0;32m    918\u001b[0m         \u001b[1;32mif\u001b[0m \u001b[0msolver\u001b[0m \u001b[1;33m==\u001b[0m \u001b[1;34m'lbfgs'\u001b[0m\u001b[1;33m:\u001b[0m\u001b[1;33m\u001b[0m\u001b[1;33m\u001b[0m\u001b[0m\n\u001b[1;32m--> 919\u001b[1;33m             \u001b[0mfunc\u001b[0m \u001b[1;33m=\u001b[0m \u001b[1;32mlambda\u001b[0m \u001b[0mx\u001b[0m\u001b[1;33m,\u001b[0m \u001b[1;33m*\u001b[0m\u001b[0margs\u001b[0m\u001b[1;33m:\u001b[0m \u001b[0m_multinomial_loss_grad\u001b[0m\u001b[1;33m(\u001b[0m\u001b[0mx\u001b[0m\u001b[1;33m,\u001b[0m \u001b[1;33m*\u001b[0m\u001b[0margs\u001b[0m\u001b[1;33m)\u001b[0m\u001b[1;33m[\u001b[0m\u001b[1;36m0\u001b[0m\u001b[1;33m:\u001b[0m\u001b[1;36m2\u001b[0m\u001b[1;33m]\u001b[0m\u001b[1;33m\u001b[0m\u001b[1;33m\u001b[0m\u001b[0m\n\u001b[0m\u001b[0;32m    920\u001b[0m         \u001b[1;32melif\u001b[0m \u001b[0msolver\u001b[0m \u001b[1;33m==\u001b[0m \u001b[1;34m'newton-cg'\u001b[0m\u001b[1;33m:\u001b[0m\u001b[1;33m\u001b[0m\u001b[1;33m\u001b[0m\u001b[0m\n\u001b[0;32m    921\u001b[0m             \u001b[0mfunc\u001b[0m \u001b[1;33m=\u001b[0m \u001b[1;32mlambda\u001b[0m \u001b[0mx\u001b[0m\u001b[1;33m,\u001b[0m \u001b[1;33m*\u001b[0m\u001b[0margs\u001b[0m\u001b[1;33m:\u001b[0m \u001b[0m_multinomial_loss\u001b[0m\u001b[1;33m(\u001b[0m\u001b[0mx\u001b[0m\u001b[1;33m,\u001b[0m \u001b[1;33m*\u001b[0m\u001b[0margs\u001b[0m\u001b[1;33m)\u001b[0m\u001b[1;33m[\u001b[0m\u001b[1;36m0\u001b[0m\u001b[1;33m]\u001b[0m\u001b[1;33m\u001b[0m\u001b[1;33m\u001b[0m\u001b[0m\n",
      "\u001b[1;32m~\\Anaconda3\\lib\\site-packages\\sklearn\\linear_model\\logistic.py\u001b[0m in \u001b[0;36m_multinomial_loss_grad\u001b[1;34m(w, X, Y, alpha, sample_weight)\u001b[0m\n\u001b[0;32m    342\u001b[0m     grad = np.zeros((n_classes, n_features + bool(fit_intercept)),\n\u001b[0;32m    343\u001b[0m                     dtype=X.dtype)\n\u001b[1;32m--> 344\u001b[1;33m     \u001b[0mloss\u001b[0m\u001b[1;33m,\u001b[0m \u001b[0mp\u001b[0m\u001b[1;33m,\u001b[0m \u001b[0mw\u001b[0m \u001b[1;33m=\u001b[0m \u001b[0m_multinomial_loss\u001b[0m\u001b[1;33m(\u001b[0m\u001b[0mw\u001b[0m\u001b[1;33m,\u001b[0m \u001b[0mX\u001b[0m\u001b[1;33m,\u001b[0m \u001b[0mY\u001b[0m\u001b[1;33m,\u001b[0m \u001b[0malpha\u001b[0m\u001b[1;33m,\u001b[0m \u001b[0msample_weight\u001b[0m\u001b[1;33m)\u001b[0m\u001b[1;33m\u001b[0m\u001b[1;33m\u001b[0m\u001b[0m\n\u001b[0m\u001b[0;32m    345\u001b[0m     \u001b[0msample_weight\u001b[0m \u001b[1;33m=\u001b[0m \u001b[0msample_weight\u001b[0m\u001b[1;33m[\u001b[0m\u001b[1;33m:\u001b[0m\u001b[1;33m,\u001b[0m \u001b[0mnp\u001b[0m\u001b[1;33m.\u001b[0m\u001b[0mnewaxis\u001b[0m\u001b[1;33m]\u001b[0m\u001b[1;33m\u001b[0m\u001b[1;33m\u001b[0m\u001b[0m\n\u001b[0;32m    346\u001b[0m     \u001b[0mdiff\u001b[0m \u001b[1;33m=\u001b[0m \u001b[0msample_weight\u001b[0m \u001b[1;33m*\u001b[0m \u001b[1;33m(\u001b[0m\u001b[0mp\u001b[0m \u001b[1;33m-\u001b[0m \u001b[0mY\u001b[0m\u001b[1;33m)\u001b[0m\u001b[1;33m\u001b[0m\u001b[1;33m\u001b[0m\u001b[0m\n",
      "\u001b[1;32m~\\Anaconda3\\lib\\site-packages\\sklearn\\linear_model\\logistic.py\u001b[0m in \u001b[0;36m_multinomial_loss\u001b[1;34m(w, X, Y, alpha, sample_weight)\u001b[0m\n\u001b[0;32m    293\u001b[0m     \u001b[0mp\u001b[0m \u001b[1;33m+=\u001b[0m \u001b[0mintercept\u001b[0m\u001b[1;33m\u001b[0m\u001b[1;33m\u001b[0m\u001b[0m\n\u001b[0;32m    294\u001b[0m     \u001b[0mp\u001b[0m \u001b[1;33m-=\u001b[0m \u001b[0mlogsumexp\u001b[0m\u001b[1;33m(\u001b[0m\u001b[0mp\u001b[0m\u001b[1;33m,\u001b[0m \u001b[0maxis\u001b[0m\u001b[1;33m=\u001b[0m\u001b[1;36m1\u001b[0m\u001b[1;33m)\u001b[0m\u001b[1;33m[\u001b[0m\u001b[1;33m:\u001b[0m\u001b[1;33m,\u001b[0m \u001b[0mnp\u001b[0m\u001b[1;33m.\u001b[0m\u001b[0mnewaxis\u001b[0m\u001b[1;33m]\u001b[0m\u001b[1;33m\u001b[0m\u001b[1;33m\u001b[0m\u001b[0m\n\u001b[1;32m--> 295\u001b[1;33m     \u001b[0mloss\u001b[0m \u001b[1;33m=\u001b[0m \u001b[1;33m-\u001b[0m\u001b[1;33m(\u001b[0m\u001b[0msample_weight\u001b[0m \u001b[1;33m*\u001b[0m \u001b[0mY\u001b[0m \u001b[1;33m*\u001b[0m \u001b[0mp\u001b[0m\u001b[1;33m)\u001b[0m\u001b[1;33m.\u001b[0m\u001b[0msum\u001b[0m\u001b[1;33m(\u001b[0m\u001b[1;33m)\u001b[0m\u001b[1;33m\u001b[0m\u001b[1;33m\u001b[0m\u001b[0m\n\u001b[0m\u001b[0;32m    296\u001b[0m     \u001b[0mloss\u001b[0m \u001b[1;33m+=\u001b[0m \u001b[1;36m0.5\u001b[0m \u001b[1;33m*\u001b[0m \u001b[0malpha\u001b[0m \u001b[1;33m*\u001b[0m \u001b[0msquared_norm\u001b[0m\u001b[1;33m(\u001b[0m\u001b[0mw\u001b[0m\u001b[1;33m)\u001b[0m\u001b[1;33m\u001b[0m\u001b[1;33m\u001b[0m\u001b[0m\n\u001b[0;32m    297\u001b[0m     \u001b[0mp\u001b[0m \u001b[1;33m=\u001b[0m \u001b[0mnp\u001b[0m\u001b[1;33m.\u001b[0m\u001b[0mexp\u001b[0m\u001b[1;33m(\u001b[0m\u001b[0mp\u001b[0m\u001b[1;33m,\u001b[0m \u001b[0mp\u001b[0m\u001b[1;33m)\u001b[0m\u001b[1;33m\u001b[0m\u001b[1;33m\u001b[0m\u001b[0m\n",
      "\u001b[1;32m~\\Anaconda3\\lib\\site-packages\\numpy\\core\\_methods.py\u001b[0m in \u001b[0;36m_sum\u001b[1;34m(a, axis, dtype, out, keepdims, initial)\u001b[0m\n\u001b[0;32m     34\u001b[0m def _sum(a, axis=None, dtype=None, out=None, keepdims=False,\n\u001b[0;32m     35\u001b[0m          initial=_NoValue):\n\u001b[1;32m---> 36\u001b[1;33m     \u001b[1;32mreturn\u001b[0m \u001b[0mumr_sum\u001b[0m\u001b[1;33m(\u001b[0m\u001b[0ma\u001b[0m\u001b[1;33m,\u001b[0m \u001b[0maxis\u001b[0m\u001b[1;33m,\u001b[0m \u001b[0mdtype\u001b[0m\u001b[1;33m,\u001b[0m \u001b[0mout\u001b[0m\u001b[1;33m,\u001b[0m \u001b[0mkeepdims\u001b[0m\u001b[1;33m,\u001b[0m \u001b[0minitial\u001b[0m\u001b[1;33m)\u001b[0m\u001b[1;33m\u001b[0m\u001b[1;33m\u001b[0m\u001b[0m\n\u001b[0m\u001b[0;32m     37\u001b[0m \u001b[1;33m\u001b[0m\u001b[0m\n\u001b[0;32m     38\u001b[0m def _prod(a, axis=None, dtype=None, out=None, keepdims=False,\n",
      "\u001b[1;31mKeyboardInterrupt\u001b[0m: "
     ]
    }
   ],
   "source": [
    "clf.fit(train.loc[:, train.columns != 'Country'], train['Country']) #the 'non-country' columns are inputs while 'country' is the label"
   ]
  },
  {
   "cell_type": "markdown",
   "metadata": {},
   "source": [
    "The model is trained! We can now tell the model to predict values based on inputs. Let's save the predictions as the `preds` variable. We will print some of the output to make sure that it is working."
   ]
  },
  {
   "cell_type": "code",
   "execution_count": null,
   "metadata": {},
   "outputs": [],
   "source": [
    "preds = clf.predict(test.loc[:, test.columns != 'Country'])\n",
    "print(preds[1])"
   ]
  },
  {
   "cell_type": "markdown",
   "metadata": {},
   "source": [
    "In machine learning research, there are multiple measures that you can use to determine whether an algorithm is good. One of the most common measures is the algorithm's *accuracy*, which can be defined as the ratio of true values to the data overall. We can import an accuracy_score function from scikit learn to make this easy. "
   ]
  },
  {
   "cell_type": "code",
   "execution_count": null,
   "metadata": {},
   "outputs": [],
   "source": [
    "from sklearn.metrics import accuracy_score\n",
    "accuracy_score(preds, test['Country']) #measure accuracy of preds versus the test values"
   ]
  },
  {
   "cell_type": "markdown",
   "metadata": {},
   "source": [
    "**90 percent accuracy! These are amazing results!** *Or are they?*\n",
    "\n",
    "One problem with accuracy measures is that there could be an underdetermining factor that drives high accuracy results. Earlier we noticed that the data was weighted heavily toward one country. Let's look closer at our predictions."
   ]
  },
  {
   "cell_type": "code",
   "execution_count": null,
   "metadata": {},
   "outputs": [],
   "source": [
    "import collections\n",
    "collections.Counter(preds)"
   ]
  },
  {
   "cell_type": "markdown",
   "metadata": {},
   "source": [
    "**Our model seems to have simply classified most of the data as \"United Kingdom\"**. Let's see how close that was to reality."
   ]
  },
  {
   "cell_type": "code",
   "execution_count": null,
   "metadata": {},
   "outputs": [],
   "source": [
    "collections.Counter(test['Country'])"
   ]
  },
  {
   "cell_type": "markdown",
   "metadata": {},
   "source": [
    "Clearly there was more variance than what the algorithm discovered... and a six year old could have come up with this solution. Given that there are 106 829 values in the test dataset, our 90% accuracy is an illusion--the results are no better than random chance. This is a very common issue with imbalanced datasets, as the algorithms used might detect a simple solution: select the majority. If we are going to have meaningful results, we should consider digging deeper and rebalancing the data.\n",
    "\n",
    "### Apply logistic regression to a balanced dataset\n",
    "If we want to eventually develop some sort of predictive algorithm, we should consider balancing the dataset. One simple way for us to do that is to cut down the number of UK values of the other countries. We can observe the number of instances that were not 'United Kingdom' by using the `value_counts` function below."
   ]
  },
  {
   "cell_type": "code",
   "execution_count": null,
   "metadata": {},
   "outputs": [],
   "source": [
    "(new_ec['Country'] != 'United Kingdom').value_counts() # how many times values other than 'United Kingdom' appear"
   ]
  },
  {
   "cell_type": "markdown",
   "metadata": {},
   "source": [
    "With this we can further process our data by dividing it between the \"UK\" subset and the \"not UK\" subset. We would want to do this because we want to cut down on the data, but only that data which has the label of \"United Kingdom\". With pandas this is really easy; we just specify the subset conditions."
   ]
  },
  {
   "cell_type": "code",
   "execution_count": null,
   "metadata": {},
   "outputs": [],
   "source": [
    "ec_uk = new_ec[new_ec['Country'] == 'United Kingdom']\n",
    "ec_others = new_ec[new_ec['Country'] != 'United Kingdom']"
   ]
  },
  {
   "cell_type": "markdown",
   "metadata": {},
   "source": [
    "With a separate data frame, we can use the sample function that is contained in the pandas dataframe class. We can thus take a random sample. "
   ]
  },
  {
   "cell_type": "code",
   "execution_count": null,
   "metadata": {},
   "outputs": [],
   "source": [
    "ec_uk_under = ec_uk.sample(44951) # the number of values for not 'United Kingdom'\n",
    "new_ec = pd.concat([ec_uk_under, ec_others]) #bring the disparate data together\n",
    "collections.Counter(new_ec['Country']) #show the countries"
   ]
  },
  {
   "cell_type": "markdown",
   "metadata": {},
   "source": [
    "We can further simplify our task by reducing the number of classes to two. Many classification algorithms (such as support vector machines) are designed to be binary classifiers, so are optimized for exactly two classes. One way we can do this is to distinguish domestic orders from foreign orders. We can do this be changing all foreign orders to 'Other Country'. The way to do this in Pandas is to use the `.loc()` method."
   ]
  },
  {
   "cell_type": "code",
   "execution_count": null,
   "metadata": {},
   "outputs": [],
   "source": [
    "new_ec.loc[new_ec['Country'] != 'United Kingdom', 'Country'] = 'Other Country' #select the values other than United Kingdom and make them one value "
   ]
  },
  {
   "cell_type": "code",
   "execution_count": null,
   "metadata": {},
   "outputs": [],
   "source": [
    "collections.Counter(new_ec['Country']) #list all of the country data"
   ]
  },
  {
   "cell_type": "code",
   "execution_count": null,
   "metadata": {},
   "outputs": [],
   "source": [
    "new_ec.shape #shape of the new data frame"
   ]
  },
  {
   "cell_type": "markdown",
   "metadata": {},
   "source": [
    "Finally, when we appended the two halves of our dataset, we essentially added our reduced 'United Kingdom' set to the end of our 'Other Country' set. We should shuffle them before beginning classification, or else our results will be biased by our distribution.   "
   ]
  },
  {
   "cell_type": "code",
   "execution_count": null,
   "metadata": {},
   "outputs": [],
   "source": [
    "rand_ec = new_ec.sample(frac=1) #take a random fraction of 100% of the data frame. We could use frac = 0.1 to take a random 10%"
   ]
  },
  {
   "cell_type": "markdown",
   "metadata": {},
   "source": [
    "**We're now ready to try Logistic Regression again!** As before, we will divide them into a train and test before fitting the algorithm. Let's try this again and see how we fare. "
   ]
  },
  {
   "cell_type": "code",
   "execution_count": null,
   "metadata": {},
   "outputs": [],
   "source": [
    "train = rand_ec[:60000] #60000, approximately 2/3 of the data\n",
    "test = rand_ec[60000:]\n",
    "\n",
    "print(\"Train: \" + str(len(train)) + \" Test: \" + str(len(test)))"
   ]
  },
  {
   "cell_type": "code",
   "execution_count": null,
   "metadata": {},
   "outputs": [],
   "source": [
    "clf.fit(train.loc[:, train.columns != 'Country'], train['Country'])"
   ]
  },
  {
   "cell_type": "markdown",
   "metadata": {},
   "source": [
    "We are now ready to make predictions, as before. Let's test it on the test dataset and record the accuracy."
   ]
  },
  {
   "cell_type": "code",
   "execution_count": null,
   "metadata": {},
   "outputs": [],
   "source": [
    "preds = clf.predict(test.loc[:, test.columns != 'Country'])"
   ]
  },
  {
   "cell_type": "code",
   "execution_count": null,
   "metadata": {},
   "outputs": [],
   "source": [
    "accuracy_score(preds, test['Country'])"
   ]
  },
  {
   "cell_type": "markdown",
   "metadata": {},
   "source": [
    "**57 percent accuracy-- terrible**.  \n",
    "\n",
    "This is certainly not better than random chance. Let's break this down a bit more using the confusion matrix. The confusion matrix will show the number of items classified as 'Other Country' on the left, followed by those which were classified as 'United Kingdom' on the right. The items that were actually 'Other Country' are on the top, while those which were actually 'United Kingdom' are on the bottom. This is very useful to seeing the breakdown of our classifier and what went wrong. In our case, it is clear that our classifier identified far too many as 'United Kingdom'."
   ]
  },
  {
   "cell_type": "code",
   "execution_count": null,
   "metadata": {},
   "outputs": [],
   "source": [
    "from sklearn.metrics import confusion_matrix\n",
    "confusion_matrix(test['Country'], preds) #shows the confusion matrix"
   ]
  },
  {
   "cell_type": "code",
   "execution_count": null,
   "metadata": {},
   "outputs": [],
   "source": [
    "collections.Counter(preds) #show the sollectoin of predicted countries"
   ]
  },
  {
   "cell_type": "markdown",
   "metadata": {},
   "source": [
    "Let's try some other techniques before calling it a day."
   ]
  },
  {
   "cell_type": "markdown",
   "metadata": {},
   "source": [
    "### Naive Bayes\n",
    "A second technique we can try is called Naive Bayes. This is a probabilistic classifier based on Bayes Theorem. It is primarily used in text analysis, but can be used in our context as well. Let's train this classifier using the same code as before. We end up with an even worse result using Naive Bayes."
   ]
  },
  {
   "cell_type": "code",
   "execution_count": null,
   "metadata": {},
   "outputs": [],
   "source": [
    "from sklearn.naive_bayes import GaussianNB\n",
    "clf = GaussianNB()\n",
    "clf.fit(train.loc[:, train.columns != 'Country'], train['Country'])"
   ]
  },
  {
   "cell_type": "code",
   "execution_count": null,
   "metadata": {},
   "outputs": [],
   "source": [
    "preds = clf.predict(test.loc[:, test.columns != 'Country'])\n",
    "accuracy_score(preds, test['Country'])"
   ]
  },
  {
   "cell_type": "code",
   "execution_count": null,
   "metadata": {},
   "outputs": [],
   "source": [
    "confusion_matrix(test['Country'], preds)"
   ]
  },
  {
   "cell_type": "code",
   "execution_count": null,
   "metadata": {},
   "outputs": [],
   "source": [
    "collections.Counter(preds)"
   ]
  },
  {
   "cell_type": "markdown",
   "metadata": {},
   "source": [
    "### Random Forest\n",
    "A third technique we can try is called random forest. This classifier belongs to the category called decision trees, which create an algorithm based on the information gained. They are called 'forests' because they are actually the average of many decision trees. Using random forest, we get over 64% accuracy, which is an improvement. Though nothing to write home about, this is on the path to usefulness."
   ]
  },
  {
   "cell_type": "code",
   "execution_count": null,
   "metadata": {},
   "outputs": [],
   "source": [
    "from sklearn.ensemble import RandomForestClassifier\n",
    "\n",
    "clf = RandomForestClassifier(n_estimators=100, max_depth=2, random_state=0)\n",
    "clf.fit(train.loc[:, train.columns != 'Country'], train['Country'])"
   ]
  },
  {
   "cell_type": "code",
   "execution_count": null,
   "metadata": {},
   "outputs": [],
   "source": [
    "preds = clf.predict(test.loc[:, test.columns != 'Country'])\n",
    "accuracy_score(preds, test['Country'])"
   ]
  },
  {
   "cell_type": "code",
   "execution_count": null,
   "metadata": {},
   "outputs": [],
   "source": [
    "confusion_matrix(test['Country'], preds)"
   ]
  },
  {
   "cell_type": "code",
   "execution_count": null,
   "metadata": {},
   "outputs": [],
   "source": [
    "collections.Counter(preds)"
   ]
  },
  {
   "cell_type": "markdown",
   "metadata": {},
   "source": [
    "There is one more simple technique which we could try, but I will leave this up to you."
   ]
  },
  {
   "cell_type": "markdown",
   "metadata": {},
   "source": [
    "## Challenge Question 3 (3 points)\n",
    "The fourth technique that we can easily try is  called support vector machines. Similarly to regression, this classifier envisions the data as points in space on a plane and tries to fit the data as best possible. Unlike regression, it plots on a hyperplane, using a kernel function that is specified by the user. We will use the default radial basis function kernel for classification.\n",
    "\n",
    "Using the code above and [scikit-learn's SVM documentation](https://scikit-learn.org/stable/modules/svm.html), implement the SVM classifier on the country classification task. Be sure to print the classifier's accuracy."
   ]
  },
  {
   "cell_type": "code",
   "execution_count": null,
   "metadata": {},
   "outputs": [],
   "source": [
    "# insert your code here"
   ]
  },
  {
   "cell_type": "markdown",
   "metadata": {},
   "source": [
    "# Objective 4: Implement Association Rule Mining\n",
    "\n",
    "The final data mining technique which is worth exploring is association rule mining. The algorithm that we will explore is called the **apriori** algorithm. \n",
    "\n",
    "The apriori association mining algorithm is a simple frequency item set mining algorithm, most commonly used to find associations over a transactional database. In the 1990s and early 2000s, this algorithm was used to discover a lot of data mining \"gems\" -- unexpected associations between purchases and behaviours. Today it is still commonly used by retailers and e-commerce companies to look at purchasing patterns. \n",
    "\n",
    "The algorithm looks at all of the transactions in a dataset and returns the most common associations between the items. It uses three measures: **support**, **confidence** and **lift**. Support describes the number of occurrences in the dataset. Confidence is how often the association is found to be true. Lift is the ratio of observed support to the independent observations of the items in the association. [The Wikipedia page gives a more detailed explanation](https://en.wikipedia.org/wiki/Association_rule_learning).\n",
    "\n",
    "### Installing the Apyori Library\n",
    "\n",
    "Before we can get started, we will need to install the apyroi library. Yes, you read that right... aPYori. Python has no shame."
   ]
  },
  {
   "cell_type": "code",
   "execution_count": 29,
   "metadata": {},
   "outputs": [
    {
     "name": "stdout",
     "output_type": "stream",
     "text": [
      "Requirement already satisfied: apyori in c:\\users\\colin\\anaconda3\\lib\\site-packages (1.1.2)\n",
      "Note: you may need to restart the kernel to use updated packages.\n"
     ]
    }
   ],
   "source": [
    "pip install apyori"
   ]
  },
  {
   "cell_type": "markdown",
   "metadata": {},
   "source": [
    "Unfortunately, the apyori library is not designed to work with pandas easily. As such, we will go back to good old lists. *Warning* this may make you nostalgic for a better time."
   ]
  },
  {
   "cell_type": "code",
   "execution_count": 30,
   "metadata": {
    "scrolled": true
   },
   "outputs": [],
   "source": [
    "import csv #import the csv library for loading csv type files\n",
    "from apyori import apriori #import the apriori library\n",
    "\n",
    "ec = [] # we will declare a list to store the data\n",
    "\n",
    "with open('data/w10_ec.csv', newline='') as csvfile:\n",
    "    datareader = csv.reader(csvfile, delimiter=',', quotechar='|') \n",
    "    for row in datareader: \n",
    "        ec.append(row)"
   ]
  },
  {
   "cell_type": "markdown",
   "metadata": {},
   "source": [
    "As before, it's usually a good practice to see the data we are looking at. Let's see how the data is structured."
   ]
  },
  {
   "cell_type": "code",
   "execution_count": 31,
   "metadata": {},
   "outputs": [
    {
     "name": "stdout",
     "output_type": "stream",
     "text": [
      "['536365', '84029G', 'KNITTED UNION FLAG HOT WATER BOTTLE', '6', '12/1/2010 8:26', '3.39', '17850', 'United Kingdom']\n"
     ]
    }
   ],
   "source": [
    "print(ec[4]) #prints the fifth item"
   ]
  },
  {
   "cell_type": "markdown",
   "metadata": {},
   "source": [
    "Using the apyori library is simple. We simply call then apriori function on the dataset and it will create a bunch of associations for us. Let's do that, while saving the associations as the \"associations\" list. Let's print it to see what the associations look like."
   ]
  },
  {
   "cell_type": "code",
   "execution_count": 32,
   "metadata": {},
   "outputs": [],
   "source": [
    "associations = list(apriori(ec)) #use the apriori function to create associations"
   ]
  },
  {
   "cell_type": "code",
   "execution_count": 33,
   "metadata": {},
   "outputs": [
    {
     "name": "stdout",
     "output_type": "stream",
     "text": [
      "[RelationRecord(items=frozenset({''}), support=0.2492664833643963, ordered_statistics=[OrderedStatistic(items_base=frozenset(), items_add=frozenset({''}), confidence=0.2492664833643963, lift=1.0)]), RelationRecord(items=frozenset({'1'}), support=0.27377239763060285, ordered_statistics=[OrderedStatistic(items_base=frozenset(), items_add=frozenset({'1'}), confidence=0.27377239763060285, lift=1.0)]), RelationRecord(items=frozenset({'12'}), support=0.11268291782768357, ordered_statistics=[OrderedStatistic(items_base=frozenset(), items_add=frozenset({'12'}), confidence=0.11268291782768357, lift=1.0)]), RelationRecord(items=frozenset({'2'}), support=0.15101216069088963, ordered_statistics=[OrderedStatistic(items_base=frozenset(), items_add=frozenset({'2'}), confidence=0.15101216069088963, lift=1.0)]), RelationRecord(items=frozenset({'United Kingdom'}), support=0.9143178756620103, ordered_statistics=[OrderedStatistic(items_base=frozenset(), items_add=frozenset({'United Kingdom'}), confidence=0.9143178756620103, lift=1.0)]), RelationRecord(items=frozenset({'', '1'}), support=0.1383181709139894, ordered_statistics=[OrderedStatistic(items_base=frozenset(), items_add=frozenset({'', '1'}), confidence=0.1383181709139894, lift=1.0), OrderedStatistic(items_base=frozenset({''}), items_add=frozenset({'1'}), confidence=0.5549007995262066, lift=2.0268690500892874), OrderedStatistic(items_base=frozenset({'1'}), items_add=frozenset({''}), confidence=0.5052305203558911, lift=2.0268690500892874)]), RelationRecord(items=frozenset({'', 'United Kingdom'}), support=0.24653540255762027, ordered_statistics=[OrderedStatistic(items_base=frozenset(), items_add=frozenset({'', 'United Kingdom'}), confidence=0.24653540255762027, lift=1.0), OrderedStatistic(items_base=frozenset({''}), items_add=frozenset({'United Kingdom'}), confidence=0.9890435297601421, lift=1.0817283092535261), OrderedStatistic(items_base=frozenset({'United Kingdom'}), items_add=frozenset({''}), confidence=0.2696386116033406, lift=1.0817283092535261)]), RelationRecord(items=frozenset({'1', 'United Kingdom'}), support=0.2699267406026831, ordered_statistics=[OrderedStatistic(items_base=frozenset(), items_add=frozenset({'1', 'United Kingdom'}), confidence=0.2699267406026831, lift=1.0), OrderedStatistic(items_base=frozenset({'1'}), items_add=frozenset({'United Kingdom'}), confidence=0.9859530870854679, lift=1.0783482564765456), OrderedStatistic(items_base=frozenset({'United Kingdom'}), items_add=frozenset({'1'}), confidence=0.2952219876563642, lift=1.0783482564765459)]), RelationRecord(items=frozenset({'United Kingdom', '2'}), support=0.14481925042903804, ordered_statistics=[OrderedStatistic(items_base=frozenset(), items_add=frozenset({'2', 'United Kingdom'}), confidence=0.14481925042903804, lift=1.0), OrderedStatistic(items_base=frozenset({'2'}), items_add=frozenset({'United Kingdom'}), confidence=0.9589906519215495, lift=1.0488591303404124), OrderedStatistic(items_base=frozenset({'United Kingdom'}), items_add=frozenset({'2'}), confidence=0.1583904835330731, lift=1.0488591303404124)]), RelationRecord(items=frozenset({'', '1', 'United Kingdom'}), support=0.13803768153383403, ordered_statistics=[OrderedStatistic(items_base=frozenset(), items_add=frozenset({'', '1', 'United Kingdom'}), confidence=0.13803768153383403, lift=1.0), OrderedStatistic(items_base=frozenset({''}), items_add=frozenset({'1', 'United Kingdom'}), confidence=0.5537755404204916, lift=2.0515771767704107), OrderedStatistic(items_base=frozenset({'1'}), items_add=frozenset({'', 'United Kingdom'}), confidence=0.5042059854408196, lift=2.0451666584598396), OrderedStatistic(items_base=frozenset({'United Kingdom'}), items_add=frozenset({'', '1'}), confidence=0.15097340346090038, lift=1.091493637193774), OrderedStatistic(items_base=frozenset({'', '1'}), items_add=frozenset({'United Kingdom'}), confidence=0.9979721436576124, lift=1.091493637193774), OrderedStatistic(items_base=frozenset({'', 'United Kingdom'}), items_add=frozenset({'1'}), confidence=0.5599101796407185, lift=2.0451666584598396), OrderedStatistic(items_base=frozenset({'1', 'United Kingdom'}), items_add=frozenset({''}), confidence=0.5113894282042166, lift=2.0515771767704103)])]\n"
     ]
    }
   ],
   "source": [
    "print(associations) #print the associations"
   ]
  },
  {
   "cell_type": "markdown",
   "metadata": {},
   "source": [
    "Wait! This is <u>not readable at all!</u>. By simply printing the list, we retrieved direct output from the associations. We can't use this on any sort of report! \n",
    "\n",
    "That said, we can sort of make out the details of the output. You can see the associations, support and confidence values. These are saved as lists within the list of associations. One way to manage this data is to only print the elements that we need, one by one. Let's loop through the results and only print the relevant data."
   ]
  },
  {
   "cell_type": "code",
   "execution_count": 34,
   "metadata": {},
   "outputs": [
    {
     "name": "stdout",
     "output_type": "stream",
     "text": [
      "Association: [''], Support: 0.2492664833643963, Confidence: 0.2492664833643963\n",
      "Association: ['1'], Support: 0.27377239763060285, Confidence: 0.27377239763060285\n",
      "Association: ['12'], Support: 0.11268291782768357, Confidence: 0.11268291782768357\n",
      "Association: ['2'], Support: 0.15101216069088963, Confidence: 0.15101216069088963\n",
      "Association: ['United Kingdom'], Support: 0.9143178756620103, Confidence: 0.9143178756620103\n",
      "Association: ['', '1'], Support: 0.1383181709139894, Confidence: 0.1383181709139894\n",
      "Association: ['', 'United Kingdom'], Support: 0.24653540255762027, Confidence: 0.24653540255762027\n",
      "Association: ['1', 'United Kingdom'], Support: 0.2699267406026831, Confidence: 0.2699267406026831\n",
      "Association: ['United Kingdom', '2'], Support: 0.14481925042903804, Confidence: 0.14481925042903804\n",
      "Association: ['', '1', 'United Kingdom'], Support: 0.13803768153383403, Confidence: 0.13803768153383403\n"
     ]
    }
   ],
   "source": [
    "for a in associations: #loop through each association directly\n",
    "    #corresponds to the list values for association, the support and the confidence.\n",
    "    print(\"Association: \" + str(list(a[0])) + \", Support: \" + str(a[1]) + \", Confidence: \" + str(a[2][0][2]))"
   ]
  },
  {
   "cell_type": "markdown",
   "metadata": {},
   "source": [
    "That's better. However, it also revealed another problem. We only have 10 association rules.\n",
    "\n",
    "This was caused by the apriori functions default values. By default, it only collects support above 0.1. This is far too low for our dataset, as there is a lot of variance in the purchases. We can override the default by stating it in the function. Let's try lowering it to 0.002 ... patterns that happen at least 1000 times in our dataset (<u>warning: this may take about a minute to process on some computers</u>)."
   ]
  },
  {
   "cell_type": "code",
   "execution_count": 35,
   "metadata": {},
   "outputs": [
    {
     "name": "stdout",
     "output_type": "stream",
     "text": [
      "765\n"
     ]
    }
   ],
   "source": [
    "associations = list(apriori(ec, min_support=0.002))\n",
    "print(len(associations))"
   ]
  },
  {
   "cell_type": "markdown",
   "metadata": {},
   "source": [
    "We can once again look through these associations by looping and printing. Let's do that."
   ]
  },
  {
   "cell_type": "code",
   "execution_count": 36,
   "metadata": {},
   "outputs": [
    {
     "name": "stdout",
     "output_type": "stream",
     "text": [
      "Association: [''], Support: 0.2492664833643963, Confidence: 0.2492664833643963\n",
      "Association: ['-1'], Support: 0.007720839253750623, Confidence: 0.007720839253750623\n",
      "Association: ['-2'], Support: 0.0025742281928733553, Confidence: 0.0025742281928733553\n",
      "Association: ['0'], Support: 0.0046409920466498125, Confidence: 0.0046409920466498125\n",
      "Association: ['0.19'], Support: 0.0035153438762894206, Confidence: 0.0035153438762894206\n",
      "Association: ['0.21'], Support: 0.002147958148031961, Confidence: 0.002147958148031961\n",
      "Association: ['0.29'], Support: 0.008167407872155892, Confidence: 0.008167407872155892\n",
      "Association: ['0.39'], Support: 0.015214703548559723, Confidence: 0.015214703548559723\n",
      "Association: ['0.42'], Support: 0.04527135502205163, Confidence: 0.04527135502205163\n",
      "Association: ['0.55'], Support: 0.014137033824804857, Confidence: 0.014137033824804857\n",
      "Association: ['0.65'], Support: 0.01450609879869351, Confidence: 0.01450609879869351\n",
      "Association: ['0.72'], Support: 0.002278976213762433, Confidence: 0.002278976213762433\n",
      "Association: ['0.79'], Support: 0.005227805355132771, Confidence: 0.005227805355132771\n",
      "Association: ['0.83'], Support: 0.03132992563340776, Confidence: 0.03132992563340776\n",
      "Association: ['0.85'], Support: 0.05258622280452473, Confidence: 0.05258622280452473\n",
      "Association: ['0.95'], Support: 0.002642505213042756, Confidence: 0.002642505213042756\n",
      "Association: ['1'], Support: 0.27377239763060285, Confidence: 0.27377239763060285\n",
      "Association: ['1.06'], Support: 0.002876861471462051, Confidence: 0.002876861471462051\n",
      "Association: ['1.25'], Support: 0.09318152460740714, Confidence: 0.09318152460740714\n",
      "Association: ['1.45'], Support: 0.024098097470059605, Confidence: 0.024098097470059605\n",
      "Association: ['1.63'], Support: 0.02346330571497112, Confidence: 0.02346330571497112\n",
      "Association: ['1.65'], Support: 0.07045634884021332, Confidence: 0.07045634884021332\n",
      "Association: ['1.66'], Support: 0.004633610747172039, Confidence: 0.004633610747172039\n",
      "Association: ['1.69'], Support: 0.008110202801203151, Confidence: 0.008110202801203151\n",
      "Association: ['1.79'], Support: 0.0022715949142846597, Confidence: 0.0022715949142846597\n",
      "Association: ['1.95'], Support: 0.024256795408831727, Confidence: 0.024256795408831727\n",
      "Association: ['10'], Support: 0.041163661862670925, Confidence: 0.041163661862670925\n",
      "Association: ['10.79'], Support: 0.005690981897363031, Confidence: 0.005690981897363031\n",
      "Association: ['10/31/2011 14:41'], Support: 0.002055691904559798, Confidence: 0.002055691904559798\n",
      "Association: ['100'], Support: 0.0033584912623867433, Confidence: 0.0033584912623867433\n",
      "Association: ['12'], Support: 0.11268291782768357, Confidence: 0.11268291782768357\n",
      "Association: ['12.46'], Support: 0.0028251923751176394, Confidence: 0.0028251923751176394\n",
      "Association: ['12.75'], Support: 0.007095274123009356, Confidence: 0.007095274123009356\n",
      "Association: ['12748'], Support: 0.008565998043955638, Confidence: 0.008565998043955638\n",
      "Association: ['13089'], Support: 0.003426768282556144, Confidence: 0.003426768282556144\n",
      "Association: ['13263'], Support: 0.003094609806056356, Confidence: 0.003094609806056356\n",
      "Association: ['14.95'], Support: 0.0021774833459430533, Confidence: 0.0021774833459430533\n",
      "Association: ['14056'], Support: 0.0020815264527320036, Confidence: 0.0020815264527320036\n",
      "Association: ['14096'], Support: 0.009462825930505065, Confidence: 0.009462825930505065\n",
      "Association: ['14156'], Support: 0.002620361314609437, Confidence: 0.002620361314609437\n",
      "Association: ['14159'], Support: 0.002236533741765238, Confidence: 0.002236533741765238\n",
      "Association: ['14298'], Support: 0.0030263327858869554, Confidence: 0.0030263327858869554\n",
      "Association: ['14606'], Support: 0.005133693786791164, Confidence: 0.005133693786791164\n",
      "Association: ['14646'], Support: 0.0038475023527892085, Confidence: 0.0038475023527892085\n",
      "Association: ['14769'], Support: 0.0020187854071709323, Confidence: 0.0020187854071709323\n",
      "Association: ['14796'], Support: 0.0021498034729014043, Confidence: 0.0021498034729014043\n",
      "Association: ['14911'], Support: 0.010892952704323597, Confidence: 0.010892952704323597\n",
      "Association: ['15005'], Support: 0.002140576848554188, Confidence: 0.002140576848554188\n",
      "Association: ['15039'], Support: 0.003057703308667491, Confidence: 0.003057703308667491\n",
      "Association: ['15311'], Support: 0.004596704249783174, Confidence: 0.004596704249783174\n",
      "Association: ['16'], Support: 0.007875846542783857, Confidence: 0.007875846542783857\n",
      "Association: ['16.63'], Support: 0.0031462789024007676, Confidence: 0.0031462789024007676\n",
      "Association: ['16.95'], Support: 0.0023878503810595858, Confidence: 0.0023878503810595858\n",
      "Association: ['16033'], Support: 0.0021350408739458583, Confidence: 0.0021350408739458583\n",
      "Association: ['17841'], Support: 0.014731228432765588, Confidence: 0.014731228432765588\n",
      "Association: ['18'], Support: 0.0046280747725637094, Confidence: 0.0046280747725637094\n",
      "Association: ['18118'], Support: 0.0023693971323651528, Confidence: 0.0023693971323651528\n",
      "Association: ['2'], Support: 0.15101216069088963, Confidence: 0.15101216069088963\n",
      "Association: ['2.08'], Support: 0.03137974940488273, Confidence: 0.03137974940488273\n",
      "Association: ['2.1'], Support: 0.03265671421453747, Confidence: 0.03265671421453747\n",
      "Association: ['2.46'], Support: 0.03153844734365485, Confidence: 0.03153844734365485\n",
      "Association: ['2.49'], Support: 0.0025889907918289013, Confidence: 0.0025889907918289013\n",
      "Association: ['2.51'], Support: 0.004998985071321806, Confidence: 0.004998985071321806\n",
      "Association: ['2.55'], Support: 0.02405011902345408, Confidence: 0.02405011902345408\n",
      "Association: ['2.89'], Support: 0.005046963517927331, Confidence: 0.005046963517927331\n",
      "Association: ['2.95'], Support: 0.051240980974700596, Confidence: 0.051240980974700596\n",
      "Association: ['20'], Support: 0.009270912144082965, Confidence: 0.009270912144082965\n",
      "Association: ['20725'], Support: 0.003024487461017512, Confidence: 0.003024487461017512\n",
      "Association: ['20727'], Support: 0.0024911885737484082, Confidence: 0.0024911885737484082\n",
      "Association: ['20728'], Support: 0.002208853868723589, Confidence: 0.002208853868723589\n",
      "Association: ['21212'], Support: 0.002555774944178923, Confidence: 0.002555774944178923\n",
      "Association: ['21931'], Support: 0.002240224391504124, Confidence: 0.002240224391504124\n",
      "Association: ['22086'], Support: 0.0022328430920263514, Confidence: 0.0022328430920263514\n",
      "Association: ['22197'], Support: 0.00272369950729826, Confidence: 0.00272369950729826\n",
      "Association: ['22382'], Support: 0.0021996272443763724, Confidence: 0.0021996272443763724\n",
      "Association: ['22383'], Support: 0.002487497924009522, Confidence: 0.002487497924009522\n",
      "Association: ['22384'], Support: 0.002098134376556993, Confidence: 0.002098134376556993\n",
      "Association: ['22386'], Support: 0.0023085014116735253, Confidence: 0.0023085014116735253\n",
      "Association: ['22411'], Support: 0.002218080493070805, Confidence: 0.002218080493070805\n",
      "Association: ['22423'], Support: 0.004065250687383514, Confidence: 0.004065250687383514\n",
      "Association: ['22457'], Support: 0.00236201583288738, Confidence: 0.00236201583288738\n",
      "Association: ['22469'], Support: 0.002286357513240206, Confidence: 0.002286357513240206\n",
      "Association: ['22666'], Support: 0.0021774833459430533, Confidence: 0.0021774833459430533\n",
      "Association: ['22697'], Support: 0.002002177483345943, Confidence: 0.002002177483345943\n",
      "Association: ['22699'], Support: 0.002099979701426436, Confidence: 0.002099979701426436\n",
      "Association: ['22720'], Support: 0.002725544832167703, Confidence: 0.002725544832167703\n",
      "Association: ['22727'], Support: 0.0020427746304736948, Confidence: 0.0020427746304736948\n",
      "Association: ['22960'], Support: 0.002267904264545773, Confidence: 0.002267904264545773\n",
      "Association: ['22961'], Support: 0.00218117399568194, Confidence: 0.00218117399568194\n",
      "Association: ['22993'], Support: 0.002050155929951468, Confidence: 0.002050155929951468\n",
      "Association: ['23203'], Support: 0.0023380266095846176, Confidence: 0.0023380266095846176\n",
      "Association: ['23206'], Support: 0.0020003321584764998, Confidence: 0.0020003321584764998\n",
      "Association: ['23209'], Support: 0.0020944437268181062, Confidence: 0.0020944437268181062\n",
      "Association: ['23298'], Support: 0.00217563802107361, Confidence: 0.00217563802107361\n",
      "Association: ['24'], Support: 0.04432654868889668, Confidence: 0.04432654868889668\n",
      "Association: ['25'], Support: 0.009603070620582754, Confidence: 0.009603070620582754\n",
      "Association: ['3'], Support: 0.06852429370190621, Confidence: 0.06852429370190621\n",
      "Association: ['3.25'], Support: 0.004070786661991844, Confidence: 0.004070786661991844\n",
      "Association: ['3.29'], Support: 0.02170471111439169, Confidence: 0.02170471111439169\n",
      "Association: ['3.36'], Support: 0.0038973261242641766, Confidence: 0.0038973261242641766\n",
      "Association: ['3.75'], Support: 0.03432304257164474, Confidence: 0.03432304257164474\n",
      "Association: ['3.95'], Support: 0.005438172390249303, Confidence: 0.005438172390249303\n",
      "Association: ['30'], Support: 0.0021940912697680425, Confidence: 0.0021940912697680425\n",
      "Association: ['36'], Support: 0.007052831651012161, Confidence: 0.007052831651012161\n",
      "Association: ['4'], Support: 0.07103578084921851, Confidence: 0.07103578084921851\n",
      "Association: ['4.13'], Support: 0.028301747522651362, Confidence: 0.028301747522651362\n",
      "Association: ['4.15'], Support: 0.011428096916462143, Confidence: 0.011428096916462143\n",
      "Association: ['4.21'], Support: 0.004022808215386319, Confidence: 0.004022808215386319\n",
      "Association: ['4.25'], Support: 0.013810411322913399, Confidence: 0.013810411322913399\n",
      "Association: ['4.95'], Support: 0.035134985514199774, Confidence: 0.035134985514199774\n",
      "Association: ['4.96'], Support: 0.008296580613016922, Confidence: 0.008296580613016922\n",
      "Association: ['40'], Support: 0.0022439150412430107, Confidence: 0.0022439150412430107\n",
      "Association: ['47566'], Support: 0.0031868760495285197, Confidence: 0.0031868760495285197\n",
      "Association: ['48'], Support: 0.011201121957520621, Confidence: 0.011201121957520621\n",
      "Association: ['5'], Support: 0.021726855012825008, Confidence: 0.021726855012825008\n",
      "Association: ['5.79'], Support: 0.012631248731339152, Confidence: 0.012631248731339152\n",
      "Association: ['5.91'], Support: 0.0026185159897399936, Confidence: 0.0026185159897399936\n",
      "Association: ['5.95'], Support: 0.014605746341643445, Confidence: 0.014605746341643445\n",
      "Association: ['573585'], Support: 0.002055691904559798, Confidence: 0.002055691904559798\n",
      "Association: ['6'], Support: 0.07542765403849348, Confidence: 0.07542765403849348\n",
      "Association: ['6.25'], Support: 0.0026517318373899725, Confidence: 0.0026517318373899725\n",
      "Association: ['6.75'], Support: 0.00453765385396099, Confidence: 0.00453765385396099\n",
      "Association: ['6.95'], Support: 0.0023878503810595858, Confidence: 0.0023878503810595858\n",
      "Association: ['7'], Support: 0.005382812644166005, Confidence: 0.005382812644166005\n",
      "Association: ['7.46'], Support: 0.006080345444815559, Confidence: 0.006080345444815559\n",
      "Association: ['7.95'], Support: 0.013077817349744423, Confidence: 0.013077817349744423\n",
      "Association: ['72'], Support: 0.0035910021959365945, Confidence: 0.0035910021959365945\n",
      "Association: ['8'], Support: 0.024297392555959477, Confidence: 0.024297392555959477\n",
      "Association: ['8.25'], Support: 0.0069476481334538945, Confidence: 0.0069476481334538945\n",
      "Association: ['8.29'], Support: 0.008839106124633242, Confidence: 0.008839106124633242\n",
      "Association: ['8.5'], Support: 0.010653060471295972, Confidence: 0.010653060471295972\n",
      "Association: ['82482'], Support: 0.002083371777601447, Confidence: 0.002083371777601447\n",
      "Association: ['84879'], Support: 0.0027716779539037847, Confidence: 0.0027716779539037847\n",
      "Association: ['85099B'], Support: 0.00398405639312801, Confidence: 0.00398405639312801\n",
      "Association: ['85123A'], Support: 0.004268236423022273, Confidence: 0.004268236423022273\n",
      "Association: ['9'], Support: 0.003758926759055932, Confidence: 0.003758926759055932\n",
      "Association: ['9.95'], Support: 0.01078776918676533, Confidence: 0.01078776918676533\n",
      "Association: ['96'], Support: 0.0033455739883006402, Confidence: 0.0033455739883006402\n",
      "Association: ['ALARM CLOCK BAKELIKE RED '], Support: 0.0020427746304736948, Confidence: 0.0020427746304736948\n",
      "Association: ['ASSORTED COLOUR BIRD ORNAMENT'], Support: 0.0027698326290343414, Confidence: 0.0027698326290343414\n",
      "Association: ['Australia'], Support: 0.002323264010629071, Confidence: 0.002323264010629071\n",
      "Association: ['Belgium'], Support: 0.003817977154878116, Confidence: 0.003817977154878116\n",
      "Association: ['EIRE'], Support: 0.015124282629957004, Confidence: 0.015124282629957004\n",
      "Association: ['France'], Support: 0.015790444907826023, Confidence: 0.015790444907826023\n",
      "Association: ['GREEN REGENCY TEACUP AND SAUCER'], Support: 0.002002177483345943, Confidence: 0.002002177483345943\n",
      "Association: ['Germany'], Support: 0.017521359635363807, Confidence: 0.017521359635363807\n",
      "Association: ['HEART OF WICKER SMALL'], Support: 0.0022826668635013195, Confidence: 0.0022826668635013195\n",
      "Association: ['JAM MAKING SET PRINTED'], Support: 0.00218117399568194, Confidence: 0.00218117399568194\n",
      "Association: ['JAM MAKING SET WITH JARS'], Support: 0.002267904264545773, Confidence: 0.002267904264545773\n",
      "Association: ['JUMBO BAG PINK POLKADOT'], Support: 0.0023085014116735253, Confidence: 0.0023085014116735253\n",
      "Association: ['JUMBO BAG RED RETROSPOT'], Support: 0.00398405639312801, Confidence: 0.00398405639312801\n",
      "Association: ['JUMBO SHOPPER VINTAGE RED PAISLEY'], Support: 0.002218080493070805, Confidence: 0.002218080493070805\n",
      "Association: ['JUMBO STORAGE BAG SUKI'], Support: 0.002240224391504124, Confidence: 0.002240224391504124\n",
      "Association: ['LUNCH BAG  BLACK SKULL.'], Support: 0.0024911885737484082, Confidence: 0.0024911885737484082\n",
      "Association: ['LUNCH BAG APPLE DESIGN'], Support: 0.0020003321584764998, Confidence: 0.0020003321584764998\n",
      "Association: ['LUNCH BAG CARS BLUE'], Support: 0.002208853868723589, Confidence: 0.002208853868723589\n",
      "Association: ['LUNCH BAG PINK POLKADOT'], Support: 0.002098134376556993, Confidence: 0.002098134376556993\n",
      "Association: ['LUNCH BAG RED RETROSPOT'], Support: 0.003022642136148069, Confidence: 0.003022642136148069\n",
      "Association: ['LUNCH BAG SPACEBOY DESIGN '], Support: 0.0021996272443763724, Confidence: 0.0021996272443763724\n",
      "Association: ['LUNCH BAG SUKI DESIGN '], Support: 0.0021018250262958794, Confidence: 0.0021018250262958794\n",
      "Association: ['NATURAL SLATE HEART CHALKBOARD '], Support: 0.00236201583288738, Confidence: 0.00236201583288738\n",
      "Association: ['Netherlands'], Support: 0.004375265265449983, Confidence: 0.004375265265449983\n",
      "Association: ['Norway'], Support: 0.0020040228082153864, Confidence: 0.0020040228082153864\n",
      "Association: ['PACK OF 72 RETROSPOT CAKE CASES'], Support: 0.002555774944178923, Confidence: 0.002555774944178923\n",
      "Association: [\"PAPER CHAIN KIT 50'S CHRISTMAS \"], Support: 0.0022328430920263514, Confidence: 0.0022328430920263514\n",
      "Association: ['PARTY BUNTING'], Support: 0.0031868760495285197, Confidence: 0.0031868760495285197\n",
      "Association: ['POST'], Support: 0.0023177280360207413, Confidence: 0.0023177280360207413\n",
      "Association: ['POSTAGE'], Support: 0.0023103467365429686, Confidence: 0.0023103467365429686\n",
      "Association: ['Portugal'], Support: 0.0028030484766843203, Confidence: 0.0028030484766843203\n",
      "Association: ['RECIPE BOX PANTRY YELLOW DESIGN'], Support: 0.0021774833459430533, Confidence: 0.0021774833459430533\n",
      "Association: ['REGENCY CAKESTAND 3 TIER'], Support: 0.004059714712775184, Confidence: 0.004059714712775184\n",
      "Association: ['ROSES REGENCY TEACUP AND SAUCER '], Support: 0.002099979701426436, Confidence: 0.002099979701426436\n",
      "Association: ['SET OF 3 CAKE TINS PANTRY DESIGN '], Support: 0.00271816353268993, Confidence: 0.00271816353268993\n",
      "Association: ['SET OF 4 PANTRY JELLY MOULDS'], Support: 0.002050155929951468, Confidence: 0.002050155929951468\n",
      "Association: ['SPOTTY BUNTING'], Support: 0.0021627207469875074, Confidence: 0.0021627207469875074\n",
      "Association: ['Spain'], Support: 0.004674207894299792, Confidence: 0.004674207894299792\n",
      "Association: ['Switzerland'], Support: 0.0036943403886254174, Confidence: 0.0036943403886254174\n",
      "Association: ['United Kingdom'], Support: 0.9143178756620103, Confidence: 0.9143178756620103\n",
      "Association: ['WHITE HANGING HEART T-LIGHT HOLDER'], Support: 0.004371574615711096, Confidence: 0.004371574615711096\n",
      "Association: ['WOODEN PICTURE FRAME WHITE FINISH'], Support: 0.002083371777601447, Confidence: 0.002083371777601447\n",
      "Association: ['', '0'], Support: 0.004567179051872082, Confidence: 0.004567179051872082\n",
      "Association: ['', '0.42'], Support: 0.004615157498477607, Confidence: 0.004615157498477607\n",
      "Association: ['', '0.83'], Support: 0.020280120315181487, Confidence: 0.020280120315181487\n",
      "Association: ['', '0.85'], Support: 0.003877027550700301, Confidence: 0.003877027550700301\n",
      "Association: ['', '1'], Support: 0.1383181709139894, Confidence: 0.1383181709139894\n",
      "Association: ['', '1.25'], Support: 0.00727242531047591, Confidence: 0.00727242531047591\n",
      "Association: ['', '1.63'], Support: 0.022193722204794153, Confidence: 0.022193722204794153\n",
      "Association: ['', '1.66'], Support: 0.004594858924913731, Confidence: 0.004594858924913731\n",
      "Association: ['', '10.79'], Support: 0.005460316288682623, Confidence: 0.005460316288682623\n",
      "Association: ['', '10/31/2011 14:41'], Support: 0.002055691904559798, Confidence: 0.002055691904559798\n",
      "Association: ['', '12.46'], Support: 0.0027015556088649407, Confidence: 0.0027015556088649407\n",
      "Association: ['', '16.63'], Support: 0.002963591740325884, Confidence: 0.002963591740325884\n",
      "Association: ['', '2'], Support: 0.043966710339355244, Confidence: 0.043966710339355244\n",
      "Association: ['', '2.46'], Support: 0.02967466922551715, Confidence: 0.02967466922551715\n",
      "Association: ['', '2.51'], Support: 0.004998985071321806, Confidence: 0.004998985071321806\n",
      "Association: ['', '3'], Support: 0.01877248989684634, Confidence: 0.01877248989684634\n",
      "Association: ['', '3.29'], Support: 0.019741285453304055, Confidence: 0.019741285453304055\n",
      "Association: ['', '3.36'], Support: 0.0038973261242641766, Confidence: 0.0038973261242641766\n",
      "Association: ['', '4'], Support: 0.01162923732723146, Confidence: 0.01162923732723146\n",
      "Association: ['', '4.13'], Support: 0.0273181893672381, Confidence: 0.0273181893672381\n",
      "Association: ['', '4.21'], Support: 0.004022808215386319, Confidence: 0.004022808215386319\n",
      "Association: ['', '4.96'], Support: 0.00807514162868373, Confidence: 0.00807514162868373\n",
      "Association: ['', '5'], Support: 0.006670849403037405, Confidence: 0.006670849403037405\n",
      "Association: ['', '5.79'], Support: 0.01196877710320902, Confidence: 0.01196877710320902\n",
      "Association: ['', '5.91'], Support: 0.0026185159897399936, Confidence: 0.0026185159897399936\n",
      "Association: ['', '573585'], Support: 0.002055691904559798, Confidence: 0.002055691904559798\n",
      "Association: ['', '6'], Support: 0.0058681330848295845, Confidence: 0.0058681330848295845\n",
      "Association: ['', '7'], Support: 0.0029838903138897604, Confidence: 0.0029838903138897604\n",
      "Association: ['', '7.46'], Support: 0.005670683323799155, Confidence: 0.005670683323799155\n",
      "Association: ['', '8'], Support: 0.002740307431123249, Confidence: 0.002740307431123249\n",
      "Association: ['', '8.29'], Support: 0.00849956634865568, Confidence: 0.00849956634865568\n",
      "Association: ['', 'United Kingdom'], Support: 0.24653540255762027, Confidence: 0.24653540255762027\n",
      "Association: ['United Kingdom', '-1'], Support: 0.006739126423206805, Confidence: 0.006739126423206805\n",
      "Association: ['United Kingdom', '-2'], Support: 0.0021719473713347234, Confidence: 0.0021719473713347234\n",
      "Association: ['United Kingdom', '0'], Support: 0.004607776198999834, Confidence: 0.004607776198999834\n",
      "Association: ['United Kingdom', '0.19'], Support: 0.0031536602018785408, Confidence: 0.0031536602018785408\n",
      "Association: ['0.29', '24'], Support: 0.002779059253381558, Confidence: 0.002779059253381558\n",
      "Association: ['0.29', 'United Kingdom'], Support: 0.007397907401598051, Confidence: 0.007397907401598051\n",
      "Association: ['1', '0.39'], Support: 0.0021645660718569502, Confidence: 0.0021645660718569502\n",
      "Association: ['12', '0.39'], Support: 0.0023417172593235037, Confidence: 0.0023417172593235037\n",
      "Association: ['24', '0.39'], Support: 0.002382314406451256, Confidence: 0.002382314406451256\n",
      "Association: ['United Kingdom', '0.39'], Support: 0.01414441512428263, Confidence: 0.01414441512428263\n",
      "Association: ['0.42', '1'], Support: 0.004209186027200089, Confidence: 0.004209186027200089\n",
      "Association: ['0.42', '12'], Support: 0.009615987894668856, Confidence: 0.009615987894668856\n",
      "Association: ['0.42', '2'], Support: 0.002982044989020317, Confidence: 0.002982044989020317\n",
      "Association: ['0.42', '24'], Support: 0.005962244653171191, Confidence: 0.005962244653171191\n",
      "Association: ['0.42', '25'], Support: 0.008768983779594397, Confidence: 0.008768983779594397\n",
      "Association: ['0.42', 'United Kingdom'], Support: 0.04076876234061006, Confidence: 0.04076876234061006\n",
      "Association: ['1', '0.55'], Support: 0.0026406598881733127, Confidence: 0.0026406598881733127\n",
      "Association: ['24', '0.55'], Support: 0.005600560978760311, Confidence: 0.005600560978760311\n",
      "Association: ['United Kingdom', '0.55'], Support: 0.01247808676717536, Confidence: 0.01247808676717536\n",
      "Association: ['0.65', '1'], Support: 0.002050155929951468, Confidence: 0.002050155929951468\n",
      "Association: ['12', '0.65'], Support: 0.0026794117104316215, Confidence: 0.0026794117104316215\n",
      "Association: ['0.65', 'United Kingdom'], Support: 0.013040910852355557, Confidence: 0.013040910852355557\n",
      "Association: ['0.79', 'United Kingdom'], Support: 0.004967614548541271, Confidence: 0.004967614548541271\n",
      "Association: ['1', '0.83'], Support: 0.011518517835064863, Confidence: 0.011518517835064863\n",
      "Association: ['12', '0.83'], Support: 0.003594692845675481, Confidence: 0.003594692845675481\n",
      "Association: ['2', '0.83'], Support: 0.004766474137771955, Confidence: 0.004766474137771955\n",
      "Association: ['3', '0.83'], Support: 0.0024911885737484082, Confidence: 0.0024911885737484082\n",
      "Association: ['United Kingdom', '0.83'], Support: 0.030167370965658503, Confidence: 0.030167370965658503\n",
      "Association: ['0.85', '1'], Support: 0.007401598051336938, Confidence: 0.007401598051336938\n",
      "Association: ['0.85', '10'], Support: 0.0047129597165581, Confidence: 0.0047129597165581\n",
      "Association: ['0.85', '12'], Support: 0.013891605617168902, Confidence: 0.013891605617168902\n",
      "Association: ['0.85', '2'], Support: 0.005130003137052278, Confidence: 0.005130003137052278\n",
      "Association: ['0.85', '24'], Support: 0.003967448469303021, Confidence: 0.003967448469303021\n",
      "Association: ['0.85', '3'], Support: 0.0031739587754424166, Confidence: 0.0031739587754424166\n",
      "Association: ['0.85', '4'], Support: 0.0024155302541012343, Confidence: 0.0024155302541012343\n",
      "Association: ['0.85', '6'], Support: 0.0028048938015537636, Confidence: 0.0028048938015537636\n",
      "Association: ['0.85', 'United Kingdom'], Support: 0.04642283774058423, Confidence: 0.04642283774058423\n",
      "Association: ['0.95', 'United Kingdom'], Support: 0.002565001568526139, Confidence: 0.002565001568526139\n",
      "Association: ['1', '1.25'], Support: 0.017622852503183184, Confidence: 0.017622852503183184\n",
      "Association: ['1.45', '1'], Support: 0.0034027790592533816, Confidence: 0.0034027790592533816\n",
      "Association: ['1', '1.63'], Support: 0.011542507058367625, Confidence: 0.011542507058367625\n",
      "Association: ['1.65', '1'], Support: 0.011171596759609529, Confidence: 0.011171596759609529\n",
      "Association: ['1', '1.95'], Support: 0.004207340702330645, Confidence: 0.004207340702330645\n",
      "Association: ['1', '10.79'], Support: 0.0038493476776586518, Confidence: 0.0038493476776586518\n",
      "Association: ['1', '12.75'], Support: 0.00272369950729826, Confidence: 0.00272369950729826\n",
      "Association: ['1', '12748'], Support: 0.004236865900241737, Confidence: 0.004236865900241737\n",
      "Association: ['1', '14096'], Support: 0.00437341994058054, Confidence: 0.00437341994058054\n",
      "Association: ['14606', '1'], Support: 0.003463674779945009, Confidence: 0.003463674779945009\n",
      "Association: ['1', '16.63'], Support: 0.002509641822442841, Confidence: 0.002509641822442841\n",
      "Association: ['17841', '1'], Support: 0.007934896938606042, Confidence: 0.007934896938606042\n",
      "Association: ['1', '2.08'], Support: 0.005288701075824399, Confidence: 0.005288701075824399\n",
      "Association: ['1', '2.1'], Support: 0.006833237991548412, Confidence: 0.006833237991548412\n",
      "Association: ['1', '2.46'], Support: 0.017102470890000186, Confidence: 0.017102470890000186\n",
      "Association: ['1', '2.51'], Support: 0.002502260522965068, Confidence: 0.002502260522965068\n",
      "Association: ['2.55', '1'], Support: 0.004094775885294606, Confidence: 0.004094775885294606\n",
      "Association: ['2.95', '1'], Support: 0.010283995497407319, Confidence: 0.010283995497407319\n",
      "Association: ['1', '3.29'], Support: 0.012035208798508978, Confidence: 0.012035208798508978\n",
      "Association: ['3.75', '1'], Support: 0.008222767618239191, Confidence: 0.008222767618239191\n",
      "Association: ['1', '4.13'], Support: 0.016257312099795168, Confidence: 0.016257312099795168\n",
      "Association: ['4.15', '1'], Support: 0.0023601705080179367, Confidence: 0.0023601705080179367\n",
      "Association: ['1', '4.21'], Support: 0.0022605229650680004, Confidence: 0.0022605229650680004\n",
      "Association: ['1', '4.25'], Support: 0.0036851137642782013, Confidence: 0.0036851137642782013\n",
      "Association: ['4.95', '1'], Support: 0.007615655736192357, Confidence: 0.007615655736192357\n",
      "Association: ['1', '4.96'], Support: 0.004973150523149601, Confidence: 0.004973150523149601\n",
      "Association: ['5.79', '1'], Support: 0.008180325146241996, Confidence: 0.008180325146241996\n",
      "Association: ['5.95', '1'], Support: 0.0036574338912365523, Confidence: 0.0036574338912365523\n",
      "Association: ['1', '7.46'], Support: 0.004153826281116791, Confidence: 0.004153826281116791\n",
      "Association: ['1', '7.95'], Support: 0.0037570814341864886, Confidence: 0.0037570814341864886\n",
      "Association: ['1', '8.25'], Support: 0.0020003321584764998, Confidence: 0.0020003321584764998\n",
      "Association: ['1', '8.29'], Support: 0.005908730231957336, Confidence: 0.005908730231957336\n",
      "Association: ['1', '8.5'], Support: 0.0027845952279898878, Confidence: 0.0027845952279898878\n",
      "Association: ['1', '9.95'], Support: 0.0037718440331420346, Confidence: 0.0037718440331420346\n",
      "Association: ['1', 'United Kingdom'], Support: 0.2699267406026831, Confidence: 0.2699267406026831\n",
      "Association: ['United Kingdom', '1.06'], Support: 0.0024173755789706776, Confidence: 0.0024173755789706776\n",
      "Association: ['1.25', '10'], Support: 0.0032016386484840656, Confidence: 0.0032016386484840656\n",
      "Association: ['12', '1.25'], Support: 0.025889907918289014, Confidence: 0.025889907918289014\n",
      "Association: ['17841', '1.25'], Support: 0.0024210662287095642, Confidence: 0.0024210662287095642\n",
      "Association: ['1.25', '2'], Support: 0.01102581609492351, Confidence: 0.01102581609492351\n",
      "Association: ['1.25', '24'], Support: 0.007403443376206381, Confidence: 0.007403443376206381\n",
      "Association: ['1.25', '3'], Support: 0.005504604085549261, Confidence: 0.005504604085549261\n",
      "Association: ['1.25', '4'], Support: 0.004705578417080327, Confidence: 0.004705578417080327\n",
      "Association: ['1.25', '6'], Support: 0.005218578730785555, Confidence: 0.005218578730785555\n",
      "Association: ['1.25', '8'], Support: 0.002245760366112454, Confidence: 0.002245760366112454\n",
      "Association: ['1.25', 'United Kingdom'], Support: 0.08464874241110147, Confidence: 0.08464874241110147\n",
      "Association: ['1.45', '12'], Support: 0.008169253197025337, Confidence: 0.008169253197025337\n",
      "Association: ['1.45', '2'], Support: 0.0026314332638260967, Confidence: 0.0026314332638260967\n",
      "Association: ['1.45', 'United Kingdom'], Support: 0.02068424646158956, Confidence: 0.02068424646158956\n",
      "Association: ['2', '1.63'], Support: 0.004816297909246923, Confidence: 0.004816297909246923\n",
      "Association: ['3', '1.63'], Support: 0.0022162351682013617, Confidence: 0.0022162351682013617\n",
      "Association: ['United Kingdom', '1.63'], Support: 0.02346330571497112, Confidence: 0.02346330571497112\n",
      "Association: ['1.65', '10'], Support: 0.012173608163717223, Confidence: 0.012173608163717223\n",
      "Association: ['12', '1.65'], Support: 0.014164713697846505, Confidence: 0.014164713697846505\n",
      "Association: ['1.65', '2'], Support: 0.008909228469672086, Confidence: 0.008909228469672086\n",
      "Association: ['1.65', '20725'], Support: 0.0023693971323651528, Confidence: 0.0023693971323651528\n",
      "Association: ['1.65', '20727'], Support: 0.0020317026812570354, Confidence: 0.0020317026812570354\n",
      "Association: ['1.65', '3'], Support: 0.004703733092210884, Confidence: 0.004703733092210884\n",
      "Association: ['1.65', '4'], Support: 0.0032496170950895905, Confidence: 0.0032496170950895905\n",
      "Association: ['1.65', '5'], Support: 0.0023693971323651528, Confidence: 0.0023693971323651528\n",
      "Association: ['1.65', '6'], Support: 0.004137218357291801, Confidence: 0.004137218357291801\n",
      "Association: ['1.65', 'LUNCH BAG  BLACK SKULL.'], Support: 0.0020317026812570354, Confidence: 0.0020317026812570354\n",
      "Association: ['1.65', 'LUNCH BAG RED RETROSPOT'], Support: 0.0023693971323651528, Confidence: 0.0023693971323651528\n",
      "Association: ['1.65', 'United Kingdom'], Support: 0.06257681164769058, Confidence: 0.06257681164769058\n",
      "Association: ['United Kingdom', '1.66'], Support: 0.004633610747172039, Confidence: 0.004633610747172039\n",
      "Association: ['1.69', '8'], Support: 0.002077835802993117, Confidence: 0.002077835802993117\n",
      "Association: ['1.69', '84879'], Support: 0.0025742281928733553, Confidence: 0.0025742281928733553\n",
      "Association: ['ASSORTED COLOUR BIRD ORNAMENT', '1.69'], Support: 0.0025742281928733553, Confidence: 0.0025742281928733553\n",
      "Association: ['1.69', 'United Kingdom'], Support: 0.007361000904209186, Confidence: 0.007361000904209186\n",
      "Association: ['1.95', '10'], Support: 0.0026775663855621783, Confidence: 0.0026775663855621783\n",
      "Association: ['12', '1.95'], Support: 0.00443062501153328, Confidence: 0.00443062501153328\n",
      "Association: ['1.95', '2'], Support: 0.003247771770220147, Confidence: 0.003247771770220147\n",
      "Association: ['1.95', '6'], Support: 0.002245760366112454, Confidence: 0.002245760366112454\n",
      "Association: ['1.95', 'United Kingdom'], Support: 0.02133933679024192, Confidence: 0.02133933679024192\n",
      "Association: ['10', '2.08'], Support: 0.010042257939510251, Confidence: 0.010042257939510251\n",
      "Association: ['10', 'United Kingdom'], Support: 0.035945083131885366, Confidence: 0.035945083131885366\n",
      "Association: ['10.79', 'United Kingdom'], Support: 0.005690981897363031, Confidence: 0.005690981897363031\n",
      "Association: ['10/31/2011 14:41', '573585'], Support: 0.002055691904559798, Confidence: 0.002055691904559798\n",
      "Association: ['10/31/2011 14:41', 'United Kingdom'], Support: 0.002055691904559798, Confidence: 0.002055691904559798\n",
      "Association: ['United Kingdom', '100'], Support: 0.0026720304109538484, Confidence: 0.0026720304109538484\n",
      "Association: ['12', '14911'], Support: 0.0028953147201564835, Confidence: 0.0028953147201564835\n",
      "Association: ['12', '2.08'], Support: 0.00217563802107361, Confidence: 0.00217563802107361\n",
      "Association: ['12', '2.1'], Support: 0.005561809156502002, Confidence: 0.005561809156502002\n",
      "Association: ['2.55', '12'], Support: 0.002114742300381982, Confidence: 0.002114742300381982\n",
      "Association: ['2.95', '12'], Support: 0.004190732778505656, Confidence: 0.004190732778505656\n",
      "Association: ['EIRE', '12'], Support: 0.0037294015611448396, Confidence: 0.0037294015611448396\n",
      "Association: ['12', 'France'], Support: 0.003865955601483641, Confidence: 0.003865955601483641\n",
      "Association: ['12', 'Germany'], Support: 0.004594858924913731, Confidence: 0.004594858924913731\n",
      "Association: ['12', 'United Kingdom'], Support: 0.09307080511524053, Confidence: 0.09307080511524053\n",
      "Association: ['12.46', 'United Kingdom'], Support: 0.0028251923751176394, Confidence: 0.0028251923751176394\n",
      "Association: ['2', '12.75'], Support: 0.0021737926962041667, Confidence: 0.0021737926962041667\n",
      "Association: ['22423', '12.75'], Support: 0.0028602535476370617, Confidence: 0.0028602535476370617\n",
      "Association: ['REGENCY CAKESTAND 3 TIER', '12.75'], Support: 0.0028602535476370617, Confidence: 0.0028602535476370617\n",
      "Association: ['United Kingdom', '12.75'], Support: 0.006192910261851599, Confidence: 0.006192910261851599\n",
      "Association: ['12748', 'United Kingdom'], Support: 0.008565998043955638, Confidence: 0.008565998043955638\n",
      "Association: ['13089', 'United Kingdom'], Support: 0.003426768282556144, Confidence: 0.003426768282556144\n",
      "Association: ['13263', 'United Kingdom'], Support: 0.003094609806056356, Confidence: 0.003094609806056356\n",
      "Association: ['14056', 'United Kingdom'], Support: 0.0020815264527320036, Confidence: 0.0020815264527320036\n",
      "Association: ['14096', 'United Kingdom'], Support: 0.009462825930505065, Confidence: 0.009462825930505065\n",
      "Association: ['EIRE', '14156'], Support: 0.002620361314609437, Confidence: 0.002620361314609437\n",
      "Association: ['14159', 'United Kingdom'], Support: 0.002236533741765238, Confidence: 0.002236533741765238\n",
      "Association: ['14298', 'United Kingdom'], Support: 0.0030263327858869554, Confidence: 0.0030263327858869554\n",
      "Association: ['14606', 'United Kingdom'], Support: 0.005133693786791164, Confidence: 0.005133693786791164\n",
      "Association: ['14646', 'Netherlands'], Support: 0.0038475023527892085, Confidence: 0.0038475023527892085\n",
      "Association: ['United Kingdom', '14769'], Support: 0.0020187854071709323, Confidence: 0.0020187854071709323\n",
      "Association: ['14796', 'United Kingdom'], Support: 0.0021498034729014043, Confidence: 0.0021498034729014043\n",
      "Association: ['EIRE', '14911'], Support: 0.010892952704323597, Confidence: 0.010892952704323597\n",
      "Association: ['15005', 'United Kingdom'], Support: 0.002140576848554188, Confidence: 0.002140576848554188\n",
      "Association: ['15039', 'United Kingdom'], Support: 0.003052167334059161, Confidence: 0.003052167334059161\n",
      "Association: ['United Kingdom', '15311'], Support: 0.004596704249783174, Confidence: 0.004596704249783174\n",
      "Association: ['16', 'United Kingdom'], Support: 0.0064900075658319645, Confidence: 0.0064900075658319645\n",
      "Association: ['16.63', 'United Kingdom'], Support: 0.0031462789024007676, Confidence: 0.0031462789024007676\n",
      "Association: ['16033', 'United Kingdom'], Support: 0.0021350408739458583, Confidence: 0.0021350408739458583\n",
      "Association: ['17841', '2'], Support: 0.002969127714934214, Confidence: 0.002969127714934214\n",
      "Association: ['17841', 'United Kingdom'], Support: 0.014731228432765588, Confidence: 0.014731228432765588\n",
      "Association: ['18', 'United Kingdom'], Support: 0.002871325496853721, Confidence: 0.002871325496853721\n",
      "Association: ['United Kingdom', '18118'], Support: 0.0023693971323651528, Confidence: 0.0023693971323651528\n",
      "Association: ['2', '2.08'], Support: 0.0038272037792253326, Confidence: 0.0038272037792253326\n",
      "Association: ['2.1', '2'], Support: 0.004991603771844033, Confidence: 0.004991603771844033\n",
      "Association: ['2.46', '2'], Support: 0.005906884907087893, Confidence: 0.005906884907087893\n",
      "Association: ['2.55', '2'], Support: 0.00263327858869554, Confidence: 0.00263327858869554\n",
      "Association: ['2.95', '2'], Support: 0.006895979037109483, Confidence: 0.006895979037109483\n",
      "Association: ['2', '3.29'], Support: 0.00434020409293056, Confidence: 0.00434020409293056\n",
      "Association: ['3.75', '2'], Support: 0.004412171762838848, Confidence: 0.004412171762838848\n",
      "Association: ['4.13', '2'], Support: 0.005432636415640973, Confidence: 0.005432636415640973\n",
      "Association: ['4.95', '2'], Support: 0.00489380155376354, Confidence: 0.00489380155376354\n",
      "Association: ['5.79', '2'], Support: 0.002238379066634681, Confidence: 0.002238379066634681\n",
      "Association: ['5.95', '2'], Support: 0.0029931169382369765, Confidence: 0.0029931169382369765\n",
      "Association: ['2', '7.95'], Support: 0.006609953682345777, Confidence: 0.006609953682345777\n",
      "Association: ['8.25', '2'], Support: 0.003550405048808843, Confidence: 0.003550405048808843\n",
      "Association: ['2', '8.5'], Support: 0.004987913122105146, Confidence: 0.004987913122105146\n",
      "Association: ['9.95', '2'], Support: 0.004609621523869277, Confidence: 0.004609621523869277\n",
      "Association: ['United Kingdom', '2'], Support: 0.14481925042903804, Confidence: 0.14481925042903804\n",
      "Association: ['6', '2.08'], Support: 0.0023048107619346387, Confidence: 0.0023048107619346387\n",
      "Association: ['85099B', '2.08'], Support: 0.002055691904559798, Confidence: 0.002055691904559798\n",
      "Association: ['JUMBO BAG RED RETROSPOT', '2.08'], Support: 0.002055691904559798, Confidence: 0.002055691904559798\n",
      "Association: ['United Kingdom', '2.08'], Support: 0.028619143400195605, Confidence: 0.028619143400195605\n",
      "Association: ['2.1', '3'], Support: 0.00217010204646528, Confidence: 0.00217010204646528\n",
      "Association: ['2.1', '6'], Support: 0.00525548522817442, Confidence: 0.00525548522817442\n",
      "Association: ['2.1', 'United Kingdom'], Support: 0.030086176671403002, Confidence: 0.030086176671403002\n",
      "Association: ['2.46', '3'], Support: 0.0025797641674816852, Confidence: 0.0025797641674816852\n",
      "Association: ['2.46', 'United Kingdom'], Support: 0.03153844734365485, Confidence: 0.03153844734365485\n",
      "Association: ['2.49', 'United Kingdom'], Support: 0.0023380266095846176, Confidence: 0.0023380266095846176\n",
      "Association: ['United Kingdom', '2.51'], Support: 0.004998985071321806, Confidence: 0.004998985071321806\n",
      "Association: ['2.55', '6'], Support: 0.007095274123009356, Confidence: 0.007095274123009356\n",
      "Association: ['2.55', 'United Kingdom'], Support: 0.020903840121053313, Confidence: 0.020903840121053313\n",
      "Association: ['6', '2.89'], Support: 0.002070454503515344, Confidence: 0.002070454503515344\n",
      "Association: ['United Kingdom', '2.89'], Support: 0.004469376833791589, Confidence: 0.004469376833791589\n",
      "Association: ['2.95', '3'], Support: 0.003321584764997878, Confidence: 0.003321584764997878\n",
      "Association: ['2.95', '4'], Support: 0.0024911885737484082, Confidence: 0.0024911885737484082\n",
      "Association: ['2.95', '6'], Support: 0.017069255042350205, Confidence: 0.017069255042350205\n",
      "Association: ['2.95', '85123A'], Support: 0.0032127105977007254, Confidence: 0.0032127105977007254\n",
      "Association: ['2.95', 'United Kingdom'], Support: 0.04595966119835397, Confidence: 0.04595966119835397\n",
      "Association: ['2.95', 'WHITE HANGING HEART T-LIGHT HOLDER'], Support: 0.0032016386484840656, Confidence: 0.0032016386484840656\n",
      "Association: ['20', 'United Kingdom'], Support: 0.007824177446439446, Confidence: 0.007824177446439446\n",
      "Association: ['LUNCH BAG RED RETROSPOT', '20725'], Support: 0.003022642136148069, Confidence: 0.003022642136148069\n",
      "Association: ['United Kingdom', '20725'], Support: 0.0026941743093871675, Confidence: 0.0026941743093871675\n",
      "Association: ['LUNCH BAG  BLACK SKULL.', '20727'], Support: 0.0024911885737484082, Confidence: 0.0024911885737484082\n",
      "Association: ['20727', 'United Kingdom'], Support: 0.002384159731320699, Confidence: 0.002384159731320699\n",
      "Association: ['LUNCH BAG CARS BLUE', '20728'], Support: 0.002208853868723589, Confidence: 0.002208853868723589\n",
      "Association: ['United Kingdom', '20728'], Support: 0.0020520012548209112, Confidence: 0.0020520012548209112\n",
      "Association: ['PACK OF 72 RETROSPOT CAKE CASES', '21212'], Support: 0.002555774944178923, Confidence: 0.002555774944178923\n",
      "Association: ['United Kingdom', '21212'], Support: 0.002195936594637486, Confidence: 0.002195936594637486\n",
      "Association: ['21931', 'JUMBO STORAGE BAG SUKI'], Support: 0.002240224391504124, Confidence: 0.002240224391504124\n",
      "Association: ['United Kingdom', '21931'], Support: 0.002140576848554188, Confidence: 0.002140576848554188\n",
      "Association: [\"PAPER CHAIN KIT 50'S CHRISTMAS \", '22086'], Support: 0.0022328430920263514, Confidence: 0.0022328430920263514\n",
      "Association: ['United Kingdom', '22086'], Support: 0.0021627207469875074, Confidence: 0.0021627207469875074\n",
      "Association: ['United Kingdom', '22197'], Support: 0.0025336310457456037, Confidence: 0.0025336310457456037\n",
      "Association: ['22382', 'LUNCH BAG SPACEBOY DESIGN '], Support: 0.0021996272443763724, Confidence: 0.0021996272443763724\n",
      "Association: ['LUNCH BAG SUKI DESIGN ', '22383'], Support: 0.0021018250262958794, Confidence: 0.0021018250262958794\n",
      "Association: ['22383', 'United Kingdom'], Support: 0.0023251093354985145, Confidence: 0.0023251093354985145\n",
      "Association: ['LUNCH BAG PINK POLKADOT', '22384'], Support: 0.002098134376556993, Confidence: 0.002098134376556993\n",
      "Association: ['JUMBO BAG PINK POLKADOT', '22386'], Support: 0.0023085014116735253, Confidence: 0.0023085014116735253\n",
      "Association: ['22386', 'United Kingdom'], Support: 0.0021996272443763724, Confidence: 0.0021996272443763724\n",
      "Association: ['22411', 'JUMBO SHOPPER VINTAGE RED PAISLEY'], Support: 0.002218080493070805, Confidence: 0.002218080493070805\n",
      "Association: ['22411', 'United Kingdom'], Support: 0.0021387315236847445, Confidence: 0.0021387315236847445\n",
      "Association: ['22423', 'REGENCY CAKESTAND 3 TIER'], Support: 0.004059714712775184, Confidence: 0.004059714712775184\n",
      "Association: ['22423', 'United Kingdom'], Support: 0.0034359949069033605, Confidence: 0.0034359949069033605\n",
      "Association: ['NATURAL SLATE HEART CHALKBOARD ', '22457'], Support: 0.00236201583288738, Confidence: 0.00236201583288738\n",
      "Association: ['United Kingdom', '22457'], Support: 0.002306656086804082, Confidence: 0.002306656086804082\n",
      "Association: ['HEART OF WICKER SMALL', '22469'], Support: 0.0022826668635013195, Confidence: 0.0022826668635013195\n",
      "Association: ['22469', 'United Kingdom'], Support: 0.0022162351682013617, Confidence: 0.0022162351682013617\n",
      "Association: ['RECIPE BOX PANTRY YELLOW DESIGN', '22666'], Support: 0.0021774833459430533, Confidence: 0.0021774833459430533\n",
      "Association: ['United Kingdom', '22666'], Support: 0.002002177483345943, Confidence: 0.002002177483345943\n",
      "Association: ['22697', 'GREEN REGENCY TEACUP AND SAUCER'], Support: 0.002002177483345943, Confidence: 0.002002177483345943\n",
      "Association: ['ROSES REGENCY TEACUP AND SAUCER ', '22699'], Support: 0.002099979701426436, Confidence: 0.002099979701426436\n",
      "Association: ['4.95', '22720'], Support: 0.002195936594637486, Confidence: 0.002195936594637486\n",
      "Association: ['SET OF 3 CAKE TINS PANTRY DESIGN ', '22720'], Support: 0.00271816353268993, Confidence: 0.00271816353268993\n",
      "Association: ['22720', 'United Kingdom'], Support: 0.0024358288276651106, Confidence: 0.0024358288276651106\n",
      "Association: ['22727', 'ALARM CLOCK BAKELIKE RED '], Support: 0.0020427746304736948, Confidence: 0.0020427746304736948\n",
      "Association: ['22960', 'JAM MAKING SET WITH JARS'], Support: 0.002267904264545773, Confidence: 0.002267904264545773\n",
      "Association: ['22961', 'JAM MAKING SET PRINTED'], Support: 0.00218117399568194, Confidence: 0.00218117399568194\n",
      "Association: ['SET OF 4 PANTRY JELLY MOULDS', '22993'], Support: 0.002050155929951468, Confidence: 0.002050155929951468\n",
      "Association: ['23203', 'United Kingdom'], Support: 0.002153494122640291, Confidence: 0.002153494122640291\n",
      "Association: ['23206', 'LUNCH BAG APPLE DESIGN'], Support: 0.0020003321584764998, Confidence: 0.0020003321584764998\n",
      "Association: ['SPOTTY BUNTING', '23298'], Support: 0.0021627207469875074, Confidence: 0.0021627207469875074\n",
      "Association: ['24', 'United Kingdom'], Support: 0.03664630658227381, Confidence: 0.03664630658227381\n",
      "Association: ['25', 'United Kingdom'], Support: 0.008412836079791847, Confidence: 0.008412836079791847\n",
      "Association: ['3', '4.13'], Support: 0.002376778431842926, Confidence: 0.002376778431842926\n",
      "Association: ['4.95', '3'], Support: 0.007827868096178333, Confidence: 0.007827868096178333\n",
      "Association: ['5.95', '3'], Support: 0.004015426915908546, Confidence: 0.004015426915908546\n",
      "Association: ['3', 'United Kingdom'], Support: 0.06509014411987231, Confidence: 0.06509014411987231\n",
      "Association: ['United Kingdom', '3.25'], Support: 0.003413851008470041, Confidence: 0.003413851008470041\n",
      "Association: ['United Kingdom', '3.29'], Support: 0.021603218246572308, Confidence: 0.021603218246572308\n",
      "Association: ['3.36', 'United Kingdom'], Support: 0.0038973261242641766, Confidence: 0.0038973261242641766\n",
      "Association: ['3.75', '4'], Support: 0.01060692734955989, Confidence: 0.01060692734955989\n",
      "Association: ['3.75', '6'], Support: 0.0029045413445037, Confidence: 0.0029045413445037\n",
      "Association: ['3.75', '8'], Support: 0.002114742300381982, Confidence: 0.002114742300381982\n",
      "Association: ['3.75', 'United Kingdom'], Support: 0.030438633721466664, Confidence: 0.030438633721466664\n",
      "Association: ['3.95', 'United Kingdom'], Support: 0.005104168588880072, Confidence: 0.005104168588880072\n",
      "Association: ['36', 'United Kingdom'], Support: 0.00589950360761012, Confidence: 0.00589950360761012\n",
      "Association: ['4.15', '4'], Support: 0.003066929933014707, Confidence: 0.003066929933014707\n",
      "Association: ['4', '4.25'], Support: 0.0030983004557952427, Confidence: 0.0030983004557952427\n",
      "Association: ['4.95', '4'], Support: 0.006316547028104298, Confidence: 0.006316547028104298\n",
      "Association: ['United Kingdom', '4'], Support: 0.06436677677105054, Confidence: 0.06436677677105054\n",
      "Association: ['United Kingdom', '4.13'], Support: 0.028301747522651362, Confidence: 0.028301747522651362\n",
      "Association: ['4.15', 'United Kingdom'], Support: 0.009514495026849477, Confidence: 0.009514495026849477\n",
      "Association: ['4.21', 'United Kingdom'], Support: 0.004022808215386319, Confidence: 0.004022808215386319\n",
      "Association: ['United Kingdom', '4.25'], Support: 0.012339687401967116, Confidence: 0.012339687401967116\n",
      "Association: ['4.95', '47566'], Support: 0.002286357513240206, Confidence: 0.002286357513240206\n",
      "Association: ['4.95', '6'], Support: 0.0029248399180675758, Confidence: 0.0029248399180675758\n",
      "Association: ['4.95', 'PARTY BUNTING'], Support: 0.002286357513240206, Confidence: 0.002286357513240206\n",
      "Association: ['4.95', 'SET OF 3 CAKE TINS PANTRY DESIGN '], Support: 0.002195936594637486, Confidence: 0.002195936594637486\n",
      "Association: ['4.95', 'United Kingdom'], Support: 0.03121182484176339, Confidence: 0.03121182484176339\n",
      "Association: ['United Kingdom', '4.96'], Support: 0.008296580613016922, Confidence: 0.008296580613016922\n",
      "Association: ['PARTY BUNTING', '47566'], Support: 0.0031868760495285197, Confidence: 0.0031868760495285197\n",
      "Association: ['United Kingdom', '47566'], Support: 0.0030152608366702956, Confidence: 0.0030152608366702956\n",
      "Association: ['United Kingdom', '48'], Support: 0.009106678230702514, Confidence: 0.009106678230702514\n",
      "Association: ['United Kingdom', '5'], Support: 0.020868778948533888, Confidence: 0.020868778948533888\n",
      "Association: ['5.79', 'United Kingdom'], Support: 0.012631248731339152, Confidence: 0.012631248731339152\n",
      "Association: ['5.91', 'United Kingdom'], Support: 0.0026185159897399936, Confidence: 0.0026185159897399936\n",
      "Association: ['5.95', 'United Kingdom'], Support: 0.013157166319130482, Confidence: 0.013157166319130482\n",
      "Association: ['United Kingdom', '573585'], Support: 0.002055691904559798, Confidence: 0.002055691904559798\n",
      "Association: ['EIRE', '6'], Support: 0.002016940082301489, Confidence: 0.002016940082301489\n",
      "Association: ['6', 'France'], Support: 0.002099979701426436, Confidence: 0.002099979701426436\n",
      "Association: ['6', 'Germany'], Support: 0.002306656086804082, Confidence: 0.002306656086804082\n",
      "Association: ['6', 'United Kingdom'], Support: 0.06495912605414184, Confidence: 0.06495912605414184\n",
      "Association: ['6.25', 'United Kingdom'], Support: 0.0024432101271428834, Confidence: 0.0024432101271428834\n",
      "Association: ['6.75', 'United Kingdom'], Support: 0.004063405362514071, Confidence: 0.004063405362514071\n",
      "Association: ['6.95', 'United Kingdom'], Support: 0.0022291524422874648, Confidence: 0.0022291524422874648\n",
      "Association: ['United Kingdom', '7'], Support: 0.0052702478271299666, Confidence: 0.0052702478271299666\n",
      "Association: ['United Kingdom', '7.46'], Support: 0.006080345444815559, Confidence: 0.006080345444815559\n",
      "Association: ['United Kingdom', '7.95'], Support: 0.011684597073314757, Confidence: 0.011684597073314757\n",
      "Association: ['United Kingdom', '72'], Support: 0.002675721060692735, Confidence: 0.002675721060692735\n",
      "Association: ['8', 'United Kingdom'], Support: 0.02028196564005093, Confidence: 0.02028196564005093\n",
      "Association: ['8.25', 'United Kingdom'], Support: 0.0061357051908988575, Confidence: 0.0061357051908988575\n",
      "Association: ['8.29', 'United Kingdom'], Support: 0.008839106124633242, Confidence: 0.008839106124633242\n",
      "Association: ['United Kingdom', '8.5'], Support: 0.009252458895388534, Confidence: 0.009252458895388534\n",
      "Association: ['82482', 'United Kingdom'], Support: 0.002035393330995922, Confidence: 0.002035393330995922\n",
      "Association: ['82482', 'WOODEN PICTURE FRAME WHITE FINISH'], Support: 0.002083371777601447, Confidence: 0.002083371777601447\n",
      "Association: ['ASSORTED COLOUR BIRD ORNAMENT', '84879'], Support: 0.0027698326290343414, Confidence: 0.0027698326290343414\n",
      "Association: ['United Kingdom', '84879'], Support: 0.002614825340001107, Confidence: 0.002614825340001107\n",
      "Association: ['JUMBO BAG RED RETROSPOT', '85099B'], Support: 0.00398405639312801, Confidence: 0.00398405639312801\n",
      "Association: ['85099B', 'United Kingdom'], Support: 0.003692495063755974, Confidence: 0.003692495063755974\n",
      "Association: ['85123A', 'United Kingdom'], Support: 0.004087394585816833, Confidence: 0.004087394585816833\n",
      "Association: ['85123A', 'WHITE HANGING HEART T-LIGHT HOLDER'], Support: 0.004247937849458397, Confidence: 0.004247937849458397\n",
      "Association: ['9', 'United Kingdom'], Support: 0.0034950453027255447, Confidence: 0.0034950453027255447\n",
      "Association: ['9.95', 'United Kingdom'], Support: 0.009562473473455001, Confidence: 0.009562473473455001\n",
      "Association: ['United Kingdom', '96'], Support: 0.0023730877821040394, Confidence: 0.0023730877821040394\n",
      "Association: ['ASSORTED COLOUR BIRD ORNAMENT', 'United Kingdom'], Support: 0.002612980015131664, Confidence: 0.002612980015131664\n",
      "Association: ['HEART OF WICKER SMALL', 'United Kingdom'], Support: 0.0022125445184624755, Confidence: 0.0022125445184624755\n",
      "Association: ['JUMBO BAG PINK POLKADOT', 'United Kingdom'], Support: 0.0021996272443763724, Confidence: 0.0021996272443763724\n",
      "Association: ['JUMBO BAG RED RETROSPOT', 'United Kingdom'], Support: 0.003692495063755974, Confidence: 0.003692495063755974\n",
      "Association: ['United Kingdom', 'JUMBO SHOPPER VINTAGE RED PAISLEY'], Support: 0.0021387315236847445, Confidence: 0.0021387315236847445\n",
      "Association: ['United Kingdom', 'JUMBO STORAGE BAG SUKI'], Support: 0.002140576848554188, Confidence: 0.002140576848554188\n",
      "Association: ['LUNCH BAG  BLACK SKULL.', 'United Kingdom'], Support: 0.002384159731320699, Confidence: 0.002384159731320699\n",
      "Association: ['LUNCH BAG CARS BLUE', 'United Kingdom'], Support: 0.0020520012548209112, Confidence: 0.0020520012548209112\n",
      "Association: ['United Kingdom', 'LUNCH BAG RED RETROSPOT'], Support: 0.0026941743093871675, Confidence: 0.0026941743093871675\n",
      "Association: ['United Kingdom', 'NATURAL SLATE HEART CHALKBOARD '], Support: 0.002306656086804082, Confidence: 0.002306656086804082\n",
      "Association: ['PACK OF 72 RETROSPOT CAKE CASES', 'United Kingdom'], Support: 0.002195936594637486, Confidence: 0.002195936594637486\n",
      "Association: [\"PAPER CHAIN KIT 50'S CHRISTMAS \", 'United Kingdom'], Support: 0.0021627207469875074, Confidence: 0.0021627207469875074\n",
      "Association: ['United Kingdom', 'PARTY BUNTING'], Support: 0.0030152608366702956, Confidence: 0.0030152608366702956\n",
      "Association: ['POST', 'POSTAGE'], Support: 0.0023103467365429686, Confidence: 0.0023103467365429686\n",
      "Association: ['United Kingdom', 'RECIPE BOX PANTRY YELLOW DESIGN'], Support: 0.002002177483345943, Confidence: 0.002002177483345943\n",
      "Association: ['REGENCY CAKESTAND 3 TIER', 'United Kingdom'], Support: 0.0034304589322950306, Confidence: 0.0034304589322950306\n",
      "Association: ['SET OF 3 CAKE TINS PANTRY DESIGN ', 'United Kingdom'], Support: 0.0024284475281873374, Confidence: 0.0024284475281873374\n",
      "Association: ['WHITE HANGING HEART T-LIGHT HOLDER', 'United Kingdom'], Support: 0.004190732778505656, Confidence: 0.004190732778505656\n",
      "Association: ['WOODEN PICTURE FRAME WHITE FINISH', 'United Kingdom'], Support: 0.002035393330995922, Confidence: 0.002035393330995922\n",
      "Association: ['', 'United Kingdom', '0'], Support: 0.004563488402133196, Confidence: 0.004563488402133196\n",
      "Association: ['', '0.42', 'United Kingdom'], Support: 0.004515509955527671, Confidence: 0.004515509955527671\n",
      "Association: ['', '1', '0.83'], Support: 0.009896477274824234, Confidence: 0.009896477274824234\n",
      "Association: ['', '2', '0.83'], Support: 0.003806905205661457, Confidence: 0.003806905205661457\n",
      "Association: ['', 'United Kingdom', '0.83'], Support: 0.02025244044213984, Confidence: 0.02025244044213984\n",
      "Association: ['', '0.85', 'United Kingdom'], Support: 0.0036518979166282224, Confidence: 0.0036518979166282224\n",
      "Association: ['', '1', '1.25'], Support: 0.0036869590891476446, Confidence: 0.0036869590891476446\n",
      "Association: ['', '1', '1.63'], Support: 0.011020280120315182, Confidence: 0.011020280120315182\n",
      "Association: ['', '1', '10.79'], Support: 0.003731246886014283, Confidence: 0.003731246886014283\n",
      "Association: ['', '1', '16.63'], Support: 0.0024173755789706776, Confidence: 0.0024173755789706776\n",
      "Association: ['', '1', '2.46'], Support: 0.016356959642745104, Confidence: 0.016356959642745104\n",
      "Association: ['', '1', '2.51'], Support: 0.002502260522965068, Confidence: 0.002502260522965068\n",
      "Association: ['', '1', '3.29'], Support: 0.01142071561698437, Confidence: 0.01142071561698437\n",
      "Association: ['', '1', '4.13'], Support: 0.015712941263309407, Confidence: 0.015712941263309407\n",
      "Association: ['', '1', '4.21'], Support: 0.0022605229650680004, Confidence: 0.0022605229650680004\n",
      "Association: ['', '1', '4.96'], Support: 0.004829215183333025, Confidence: 0.004829215183333025\n",
      "Association: ['', '1', '5.79'], Support: 0.00782048679670056, Confidence: 0.00782048679670056\n",
      "Association: ['', '1', '7.46'], Support: 0.003906552748611393, Confidence: 0.003906552748611393\n",
      "Association: ['', '1', '8.29'], Support: 0.005703899171449134, Confidence: 0.005703899171449134\n",
      "Association: ['', '1', 'United Kingdom'], Support: 0.13803768153383403, Confidence: 0.13803768153383403\n",
      "Association: ['', '1.25', 'United Kingdom'], Support: 0.006908896311195586, Confidence: 0.006908896311195586\n",
      "Association: ['', '2', '1.63'], Support: 0.004556107102655423, Confidence: 0.004556107102655423\n",
      "Association: ['', '3', '1.63'], Support: 0.002050155929951468, Confidence: 0.002050155929951468\n",
      "Association: ['', 'United Kingdom', '1.63'], Support: 0.022193722204794153, Confidence: 0.022193722204794153\n",
      "Association: ['', 'United Kingdom', '1.66'], Support: 0.004594858924913731, Confidence: 0.004594858924913731\n",
      "Association: ['', '10.79', 'United Kingdom'], Support: 0.005460316288682623, Confidence: 0.005460316288682623\n",
      "Association: ['', '10/31/2011 14:41', '573585'], Support: 0.002055691904559798, Confidence: 0.002055691904559798\n",
      "Association: ['', '10/31/2011 14:41', 'United Kingdom'], Support: 0.002055691904559798, Confidence: 0.002055691904559798\n",
      "Association: ['', '12.46', 'United Kingdom'], Support: 0.0027015556088649407, Confidence: 0.0027015556088649407\n",
      "Association: ['', '16.63', 'United Kingdom'], Support: 0.002963591740325884, Confidence: 0.002963591740325884\n",
      "Association: ['', '2.46', '2'], Support: 0.0055691904559797755, Confidence: 0.0055691904559797755\n",
      "Association: ['', '2', '3.29'], Support: 0.004024653540255762, Confidence: 0.004024653540255762\n",
      "Association: ['', '2', '4.13'], Support: 0.0052573305530438635, Confidence: 0.0052573305530438635\n",
      "Association: ['', '2', '5.79'], Support: 0.002099979701426436, Confidence: 0.002099979701426436\n",
      "Association: ['', 'United Kingdom', '2'], Support: 0.04368806628406931, Confidence: 0.04368806628406931\n",
      "Association: ['', '2.46', '3'], Support: 0.0023860050561901425, Confidence: 0.0023860050561901425\n",
      "Association: ['', '2.46', 'United Kingdom'], Support: 0.02967466922551715, Confidence: 0.02967466922551715\n",
      "Association: ['', 'United Kingdom', '2.51'], Support: 0.004998985071321806, Confidence: 0.004998985071321806\n",
      "Association: ['', '3', '4.13'], Support: 0.0022697495894152164, Confidence: 0.0022697495894152164\n",
      "Association: ['', '3', 'United Kingdom'], Support: 0.01864331715598531, Confidence: 0.01864331715598531\n",
      "Association: ['', 'United Kingdom', '3.29'], Support: 0.019741285453304055, Confidence: 0.019741285453304055\n",
      "Association: ['', '3.36', 'United Kingdom'], Support: 0.0038973261242641766, Confidence: 0.0038973261242641766\n",
      "Association: ['', 'United Kingdom', '4'], Support: 0.01134136664759831, Confidence: 0.01134136664759831\n",
      "Association: ['', 'United Kingdom', '4.13'], Support: 0.0273181893672381, Confidence: 0.0273181893672381\n",
      "Association: ['', '4.21', 'United Kingdom'], Support: 0.004022808215386319, Confidence: 0.004022808215386319\n",
      "Association: ['', 'United Kingdom', '4.96'], Support: 0.00807514162868373, Confidence: 0.00807514162868373\n",
      "Association: ['', 'United Kingdom', '5'], Support: 0.0066302522559096525, Confidence: 0.0066302522559096525\n",
      "Association: ['', 'United Kingdom', '5.79'], Support: 0.01196877710320902, Confidence: 0.01196877710320902\n",
      "Association: ['', '5.91', 'United Kingdom'], Support: 0.0026185159897399936, Confidence: 0.0026185159897399936\n",
      "Association: ['', 'United Kingdom', '573585'], Support: 0.002055691904559798, Confidence: 0.002055691904559798\n",
      "Association: ['', '6', 'United Kingdom'], Support: 0.005563654481371446, Confidence: 0.005563654481371446\n",
      "Association: ['', 'United Kingdom', '7'], Support: 0.002963591740325884, Confidence: 0.002963591740325884\n",
      "Association: ['', 'United Kingdom', '7.46'], Support: 0.005670683323799155, Confidence: 0.005670683323799155\n",
      "Association: ['', '8', 'United Kingdom'], Support: 0.0026314332638260967, Confidence: 0.0026314332638260967\n",
      "Association: ['', '8.29', 'United Kingdom'], Support: 0.00849956634865568, Confidence: 0.00849956634865568\n",
      "Association: ['0.29', 'United Kingdom', '24'], Support: 0.0023749331069734827, Confidence: 0.0023749331069734827\n",
      "Association: ['1', 'United Kingdom', '0.39'], Support: 0.002142422173423631, Confidence: 0.002142422173423631\n",
      "Association: ['12', 'United Kingdom', '0.39'], Support: 0.0020538465796903545, Confidence: 0.0020538465796903545\n",
      "Association: ['24', 'United Kingdom', '0.39'], Support: 0.0020520012548209112, Confidence: 0.0020520012548209112\n",
      "Association: ['0.42', '1', 'United Kingdom'], Support: 0.004131682382683471, Confidence: 0.004131682382683471\n",
      "Association: ['0.42', '12', 'United Kingdom'], Support: 0.008342713734753003, Confidence: 0.008342713734753003\n",
      "Association: ['0.42', 'United Kingdom', '2'], Support: 0.0029340665424147923, Confidence: 0.0029340665424147923\n",
      "Association: ['0.42', '24', 'United Kingdom'], Support: 0.005065416766621764, Confidence: 0.005065416766621764\n",
      "Association: ['0.42', 'United Kingdom', '25'], Support: 0.007615655736192357, Confidence: 0.007615655736192357\n",
      "Association: ['1', 'United Kingdom', '0.55'], Support: 0.0026240519643483235, Confidence: 0.0026240519643483235\n",
      "Association: ['24', 'United Kingdom', '0.55'], Support: 0.004336513443191674, Confidence: 0.004336513443191674\n",
      "Association: ['0.65', '1', 'United Kingdom'], Support: 0.0020040228082153864, Confidence: 0.0020040228082153864\n",
      "Association: ['12', '0.65', 'United Kingdom'], Support: 0.002112896975512539, Confidence: 0.002112896975512539\n",
      "Association: ['1', 'United Kingdom', '0.83'], Support: 0.011483456662545442, Confidence: 0.011483456662545442\n",
      "Association: ['12', 'United Kingdom', '0.83'], Support: 0.0030484766843202745, Confidence: 0.0030484766843202745\n",
      "Association: ['United Kingdom', '2', '0.83'], Support: 0.004740639589599749, Confidence: 0.004740639589599749\n",
      "Association: ['3', 'United Kingdom', '0.83'], Support: 0.0024838072742706355, Confidence: 0.0024838072742706355\n",
      "Association: ['0.85', '1', 'United Kingdom'], Support: 0.007296414533778672, Confidence: 0.007296414533778672\n",
      "Association: ['0.85', '10', 'United Kingdom'], Support: 0.003877027550700301, Confidence: 0.003877027550700301\n",
      "Association: ['0.85', 'United Kingdom', '12'], Support: 0.011149452861176211, Confidence: 0.011149452861176211\n",
      "Association: ['0.85', 'United Kingdom', '2'], Support: 0.005085715340185639, Confidence: 0.005085715340185639\n",
      "Association: ['0.85', '24', 'United Kingdom'], Support: 0.0031868760495285197, Confidence: 0.0031868760495285197\n",
      "Association: ['0.85', '3', 'United Kingdom'], Support: 0.0031259803288368917, Confidence: 0.0031259803288368917\n",
      "Association: ['0.85', 'United Kingdom', '4'], Support: 0.0023786237567123693, Confidence: 0.0023786237567123693\n",
      "Association: ['0.85', '6', 'United Kingdom'], Support: 0.002766141979295455, Confidence: 0.002766141979295455\n",
      "Association: ['1', 'United Kingdom', '1.25'], Support: 0.017362661696591685, Confidence: 0.017362661696591685\n",
      "Association: ['1.45', '1', 'United Kingdom'], Support: 0.0033252754147367644, Confidence: 0.0033252754147367644\n",
      "Association: ['1', 'United Kingdom', '1.63'], Support: 0.011542507058367625, Confidence: 0.011542507058367625\n",
      "Association: ['1.65', '1', 'United Kingdom'], Support: 0.010992600247273533, Confidence: 0.010992600247273533\n",
      "Association: ['1', '1.95', 'United Kingdom'], Support: 0.004126146408075142, Confidence: 0.004126146408075142\n",
      "Association: ['1', 'United Kingdom', '10.79'], Support: 0.0038493476776586518, Confidence: 0.0038493476776586518\n",
      "Association: ['1', 'United Kingdom', '12.75'], Support: 0.0025004151980956247, Confidence: 0.0025004151980956247\n",
      "Association: ['1', '12748', 'United Kingdom'], Support: 0.004236865900241737, Confidence: 0.004236865900241737\n",
      "Association: ['1', 'United Kingdom', '14096'], Support: 0.00437341994058054, Confidence: 0.00437341994058054\n",
      "Association: ['14606', '1', 'United Kingdom'], Support: 0.003463674779945009, Confidence: 0.003463674779945009\n",
      "Association: ['1', 'United Kingdom', '16.63'], Support: 0.002509641822442841, Confidence: 0.002509641822442841\n",
      "Association: ['17841', '1', 'United Kingdom'], Support: 0.007934896938606042, Confidence: 0.007934896938606042\n",
      "Association: ['1', 'United Kingdom', '2.08'], Support: 0.005157683010093927, Confidence: 0.005157683010093927\n",
      "Association: ['1', 'United Kingdom', '2.1'], Support: 0.006757579671901238, Confidence: 0.006757579671901238\n",
      "Association: ['1', 'United Kingdom', '2.46'], Support: 0.017102470890000186, Confidence: 0.017102470890000186\n",
      "Association: ['1', 'United Kingdom', '2.51'], Support: 0.002502260522965068, Confidence: 0.002502260522965068\n",
      "Association: ['2.55', '1', 'United Kingdom'], Support: 0.004015426915908546, Confidence: 0.004015426915908546\n",
      "Association: ['2.95', '1', 'United Kingdom'], Support: 0.010134524182982415, Confidence: 0.010134524182982415\n",
      "Association: ['1', 'United Kingdom', '3.29'], Support: 0.012033363473639534, Confidence: 0.012033363473639534\n",
      "Association: ['3.75', '1', 'United Kingdom'], Support: 0.00809174955250872, Confidence: 0.00809174955250872\n",
      "Association: ['1', 'United Kingdom', '4.13'], Support: 0.016257312099795168, Confidence: 0.016257312099795168\n",
      "Association: ['4.15', '1', 'United Kingdom'], Support: 0.0022808215386318762, Confidence: 0.0022808215386318762\n",
      "Association: ['1', 'United Kingdom', '4.21'], Support: 0.0022605229650680004, Confidence: 0.0022605229650680004\n",
      "Association: ['1', 'United Kingdom', '4.25'], Support: 0.003635289992803233, Confidence: 0.003635289992803233\n",
      "Association: ['4.95', '1', 'United Kingdom'], Support: 0.007497554944547988, Confidence: 0.007497554944547988\n",
      "Association: ['1', 'United Kingdom', '4.96'], Support: 0.004973150523149601, Confidence: 0.004973150523149601\n",
      "Association: ['5.79', '1', 'United Kingdom'], Support: 0.008180325146241996, Confidence: 0.008180325146241996\n",
      "Association: ['5.95', '1', 'United Kingdom'], Support: 0.003607610119761584, Confidence: 0.003607610119761584\n",
      "Association: ['1', 'United Kingdom', '7.46'], Support: 0.004153826281116791, Confidence: 0.004153826281116791\n",
      "Association: ['1', 'United Kingdom', '7.95'], Support: 0.0037017216881031906, Confidence: 0.0037017216881031906\n",
      "Association: ['1', '8.29', 'United Kingdom'], Support: 0.005908730231957336, Confidence: 0.005908730231957336\n",
      "Association: ['1', 'United Kingdom', '8.5'], Support: 0.0027606060046871253, Confidence: 0.0027606060046871253\n",
      "Association: ['1', '9.95', 'United Kingdom'], Support: 0.0036242180435865734, Confidence: 0.0036242180435865734\n",
      "Association: ['1.25', '10', 'United Kingdom'], Support: 0.0027347714565149196, Confidence: 0.0027347714565149196\n",
      "Association: ['12', '1.25', 'United Kingdom'], Support: 0.021889243601336015, Confidence: 0.021889243601336015\n",
      "Association: ['17841', '1.25', 'United Kingdom'], Support: 0.0024210662287095642, Confidence: 0.0024210662287095642\n",
      "Association: ['1.25', 'United Kingdom', '2'], Support: 0.010844974257718071, Confidence: 0.010844974257718071\n",
      "Association: ['1.25', 'United Kingdom', '24'], Support: 0.006130169216290528, Confidence: 0.006130169216290528\n",
      "Association: ['1.25', 'United Kingdom', '3'], Support: 0.0054400177151187465, Confidence: 0.0054400177151187465\n",
      "Association: ['1.25', 'United Kingdom', '4'], Support: 0.004605930874130391, Confidence: 0.004605930874130391\n",
      "Association: ['1.25', '6', 'United Kingdom'], Support: 0.005139229761399494, Confidence: 0.005139229761399494\n",
      "Association: ['1.45', 'United Kingdom', '12'], Support: 0.0064660183425292025, Confidence: 0.0064660183425292025\n",
      "Association: ['1.45', 'United Kingdom', '2'], Support: 0.0025742281928733553, Confidence: 0.0025742281928733553\n",
      "Association: ['United Kingdom', '2', '1.63'], Support: 0.004816297909246923, Confidence: 0.004816297909246923\n",
      "Association: ['3', 'United Kingdom', '1.63'], Support: 0.0022162351682013617, Confidence: 0.0022162351682013617\n",
      "Association: ['1.65', '10', 'United Kingdom'], Support: 0.010418704212876677, Confidence: 0.010418704212876677\n",
      "Association: ['12', '1.65', 'United Kingdom'], Support: 0.011012898820837409, Confidence: 0.011012898820837409\n",
      "Association: ['1.65', 'United Kingdom', '2'], Support: 0.00875422118063885, Confidence: 0.00875422118063885\n",
      "Association: ['1.65', 'LUNCH BAG RED RETROSPOT', '20725'], Support: 0.0023693971323651528, Confidence: 0.0023693971323651528\n",
      "Association: ['1.65', 'United Kingdom', '20725'], Support: 0.002077835802993117, Confidence: 0.002077835802993117\n",
      "Association: ['LUNCH BAG  BLACK SKULL.', '1.65', '20727'], Support: 0.0020317026812570354, Confidence: 0.0020317026812570354\n",
      "Association: ['1.65', 'United Kingdom', '3'], Support: 0.004602240224391504, Confidence: 0.004602240224391504\n",
      "Association: ['1.65', 'United Kingdom', '4'], Support: 0.003183185399789633, Confidence: 0.003183185399789633\n",
      "Association: ['1.65', 'United Kingdom', '5'], Support: 0.0023251093354985145, Confidence: 0.0023251093354985145\n",
      "Association: ['1.65', '6', 'United Kingdom'], Support: 0.0038308944289642192, Confidence: 0.0038308944289642192\n",
      "Association: ['1.65', 'United Kingdom', 'LUNCH BAG RED RETROSPOT'], Support: 0.002077835802993117, Confidence: 0.002077835802993117\n",
      "Association: ['ASSORTED COLOUR BIRD ORNAMENT', '1.69', '84879'], Support: 0.0025742281928733553, Confidence: 0.0025742281928733553\n",
      "Association: ['United Kingdom', '1.69', '84879'], Support: 0.0024302928530567807, Confidence: 0.0024302928530567807\n",
      "Association: ['ASSORTED COLOUR BIRD ORNAMENT', '1.69', 'United Kingdom'], Support: 0.0024302928530567807, Confidence: 0.0024302928530567807\n",
      "Association: ['1.95', 'United Kingdom', '10'], Support: 0.0023417172593235037, Confidence: 0.0023417172593235037\n",
      "Association: ['12', '1.95', 'United Kingdom'], Support: 0.0032625343691756936, Confidence: 0.0032625343691756936\n",
      "Association: ['United Kingdom', '1.95', '2'], Support: 0.003197947998745179, Confidence: 0.003197947998745179\n",
      "Association: ['10', 'United Kingdom', '2.08'], Support: 0.008774519754202728, Confidence: 0.008774519754202728\n",
      "Association: ['10/31/2011 14:41', 'United Kingdom', '573585'], Support: 0.002055691904559798, Confidence: 0.002055691904559798\n",
      "Association: ['EIRE', '12', '14911'], Support: 0.0028953147201564835, Confidence: 0.0028953147201564835\n",
      "Association: ['12', '2.1', 'United Kingdom'], Support: 0.004901182853241313, Confidence: 0.004901182853241313\n",
      "Association: ['2.95', '12', 'United Kingdom'], Support: 0.0034230776328172574, Confidence: 0.0034230776328172574\n",
      "Association: ['22423', '12.75', 'REGENCY CAKESTAND 3 TIER'], Support: 0.0028602535476370617, Confidence: 0.0028602535476370617\n",
      "Association: ['22423', 'United Kingdom', '12.75'], Support: 0.002393386355667915, Confidence: 0.002393386355667915\n",
      "Association: ['REGENCY CAKESTAND 3 TIER', 'United Kingdom', '12.75'], Support: 0.002393386355667915, Confidence: 0.002393386355667915\n",
      "Association: ['17841', 'United Kingdom', '2'], Support: 0.002969127714934214, Confidence: 0.002969127714934214\n",
      "Association: ['United Kingdom', '2', '2.08'], Support: 0.003781070657489251, Confidence: 0.003781070657489251\n",
      "Association: ['2.1', 'United Kingdom', '2'], Support: 0.004938089350630178, Confidence: 0.004938089350630178\n",
      "Association: ['2.46', 'United Kingdom', '2'], Support: 0.005906884907087893, Confidence: 0.005906884907087893\n",
      "Association: ['2.55', 'United Kingdom', '2'], Support: 0.002594526766437231, Confidence: 0.002594526766437231\n",
      "Association: ['2.95', 'United Kingdom', '2'], Support: 0.006796331494159547, Confidence: 0.006796331494159547\n",
      "Association: ['United Kingdom', '2', '3.29'], Support: 0.004338358768061117, Confidence: 0.004338358768061117\n",
      "Association: ['3.75', 'United Kingdom', '2'], Support: 0.004319905519366685, Confidence: 0.004319905519366685\n",
      "Association: ['4.13', 'United Kingdom', '2'], Support: 0.005432636415640973, Confidence: 0.005432636415640973\n",
      "Association: ['4.95', 'United Kingdom', '2'], Support: 0.0047129597165581, Confidence: 0.0047129597165581\n",
      "Association: ['5.79', 'United Kingdom', '2'], Support: 0.002238379066634681, Confidence: 0.002238379066634681\n",
      "Association: ['5.95', 'United Kingdom', '2'], Support: 0.002871325496853721, Confidence: 0.002871325496853721\n",
      "Association: ['United Kingdom', '2', '7.95'], Support: 0.0056725286486685985, Confidence: 0.0056725286486685985\n",
      "Association: ['8.25', 'United Kingdom', '2'], Support: 0.0030004982377147497, Confidence: 0.0030004982377147497\n",
      "Association: ['United Kingdom', '2', '8.5'], Support: 0.004150135631377904, Confidence: 0.004150135631377904\n",
      "Association: ['9.95', 'United Kingdom', '2'], Support: 0.003943459246000258, Confidence: 0.003943459246000258\n",
      "Association: ['JUMBO BAG RED RETROSPOT', '85099B', '2.08'], Support: 0.002055691904559798, Confidence: 0.002055691904559798\n",
      "Association: ['2.1', 'United Kingdom', '3'], Support: 0.0021368861988153016, Confidence: 0.0021368861988153016\n",
      "Association: ['2.1', '6', 'United Kingdom'], Support: 0.004297761620933365, Confidence: 0.004297761620933365\n",
      "Association: ['2.46', 'United Kingdom', '3'], Support: 0.0025797641674816852, Confidence: 0.0025797641674816852\n",
      "Association: ['2.55', '6', 'United Kingdom'], Support: 0.0055931796792825375, Confidence: 0.0055931796792825375\n",
      "Association: ['2.95', '3', 'United Kingdom'], Support: 0.0032754516432617962, Confidence: 0.0032754516432617962\n",
      "Association: ['2.95', 'United Kingdom', '4'], Support: 0.002432138177926224, Confidence: 0.002432138177926224\n",
      "Association: ['2.95', '6', 'United Kingdom'], Support: 0.013911904190732778, Confidence: 0.013911904190732778\n",
      "Association: ['2.95', '85123A', 'United Kingdom'], Support: 0.0030687752578841504, Confidence: 0.0030687752578841504\n",
      "Association: ['2.95', '85123A', 'WHITE HANGING HEART T-LIGHT HOLDER'], Support: 0.0032016386484840656, Confidence: 0.0032016386484840656\n",
      "Association: ['2.95', 'WHITE HANGING HEART T-LIGHT HOLDER', 'United Kingdom'], Support: 0.003057703308667491, Confidence: 0.003057703308667491\n",
      "Association: ['United Kingdom', 'LUNCH BAG RED RETROSPOT', '20725'], Support: 0.0026941743093871675, Confidence: 0.0026941743093871675\n",
      "Association: ['LUNCH BAG  BLACK SKULL.', '20727', 'United Kingdom'], Support: 0.002384159731320699, Confidence: 0.002384159731320699\n",
      "Association: ['LUNCH BAG CARS BLUE', 'United Kingdom', '20728'], Support: 0.0020520012548209112, Confidence: 0.0020520012548209112\n",
      "Association: ['United Kingdom', 'PACK OF 72 RETROSPOT CAKE CASES', '21212'], Support: 0.002195936594637486, Confidence: 0.002195936594637486\n",
      "Association: ['United Kingdom', '21931', 'JUMBO STORAGE BAG SUKI'], Support: 0.002140576848554188, Confidence: 0.002140576848554188\n",
      "Association: [\"PAPER CHAIN KIT 50'S CHRISTMAS \", 'United Kingdom', '22086'], Support: 0.0021627207469875074, Confidence: 0.0021627207469875074\n",
      "Association: ['JUMBO BAG PINK POLKADOT', '22386', 'United Kingdom'], Support: 0.0021996272443763724, Confidence: 0.0021996272443763724\n",
      "Association: ['22411', 'United Kingdom', 'JUMBO SHOPPER VINTAGE RED PAISLEY'], Support: 0.0021387315236847445, Confidence: 0.0021387315236847445\n",
      "Association: ['22423', 'United Kingdom', 'REGENCY CAKESTAND 3 TIER'], Support: 0.0034304589322950306, Confidence: 0.0034304589322950306\n",
      "Association: ['NATURAL SLATE HEART CHALKBOARD ', 'United Kingdom', '22457'], Support: 0.002306656086804082, Confidence: 0.002306656086804082\n",
      "Association: ['HEART OF WICKER SMALL', '22469', 'United Kingdom'], Support: 0.0022125445184624755, Confidence: 0.0022125445184624755\n",
      "Association: ['United Kingdom', 'RECIPE BOX PANTRY YELLOW DESIGN', '22666'], Support: 0.002002177483345943, Confidence: 0.002002177483345943\n",
      "Association: ['4.95', 'SET OF 3 CAKE TINS PANTRY DESIGN ', '22720'], Support: 0.002195936594637486, Confidence: 0.002195936594637486\n",
      "Association: ['SET OF 3 CAKE TINS PANTRY DESIGN ', '22720', 'United Kingdom'], Support: 0.0024284475281873374, Confidence: 0.0024284475281873374\n",
      "Association: ['3', 'United Kingdom', '4.13'], Support: 0.002376778431842926, Confidence: 0.002376778431842926\n",
      "Association: ['4.95', '3', 'United Kingdom'], Support: 0.006486316916093078, Confidence: 0.006486316916093078\n",
      "Association: ['5.95', '3', 'United Kingdom'], Support: 0.0033418833385617536, Confidence: 0.0033418833385617536\n",
      "Association: ['3.75', 'United Kingdom', '4'], Support: 0.008816962226199923, Confidence: 0.008816962226199923\n",
      "Association: ['3.75', '6', 'United Kingdom'], Support: 0.0023952316805373585, Confidence: 0.0023952316805373585\n",
      "Association: ['4.15', 'United Kingdom', '4'], Support: 0.00218670997029027, Confidence: 0.00218670997029027\n",
      "Association: ['United Kingdom', '4', '4.25'], Support: 0.002565001568526139, Confidence: 0.002565001568526139\n",
      "Association: ['4.95', 'United Kingdom', '4'], Support: 0.005307154324518832, Confidence: 0.005307154324518832\n",
      "Association: ['4.95', 'PARTY BUNTING', '47566'], Support: 0.002286357513240206, Confidence: 0.002286357513240206\n",
      "Association: ['4.95', 'United Kingdom', '47566'], Support: 0.0021571847723791775, Confidence: 0.0021571847723791775\n",
      "Association: ['4.95', '6', 'United Kingdom'], Support: 0.002467199350445646, Confidence: 0.002467199350445646\n",
      "Association: ['4.95', 'United Kingdom', 'PARTY BUNTING'], Support: 0.0021571847723791775, Confidence: 0.0021571847723791775\n",
      "Association: ['United Kingdom', 'PARTY BUNTING', '47566'], Support: 0.0030152608366702956, Confidence: 0.0030152608366702956\n",
      "Association: ['82482', 'United Kingdom', 'WOODEN PICTURE FRAME WHITE FINISH'], Support: 0.002035393330995922, Confidence: 0.002035393330995922\n",
      "Association: ['ASSORTED COLOUR BIRD ORNAMENT', 'United Kingdom', '84879'], Support: 0.002612980015131664, Confidence: 0.002612980015131664\n",
      "Association: ['JUMBO BAG RED RETROSPOT', '85099B', 'United Kingdom'], Support: 0.003692495063755974, Confidence: 0.003692495063755974\n",
      "Association: ['85123A', 'WHITE HANGING HEART T-LIGHT HOLDER', 'United Kingdom'], Support: 0.004067096012252957, Confidence: 0.004067096012252957\n",
      "Association: ['', '1', 'United Kingdom', '0.83'], Support: 0.009896477274824234, Confidence: 0.009896477274824234\n",
      "Association: ['', 'United Kingdom', '2', '0.83'], Support: 0.0037995239061836836, Confidence: 0.0037995239061836836\n",
      "Association: ['', '1', 'United Kingdom', '1.25'], Support: 0.0036685058404532117, Confidence: 0.0036685058404532117\n",
      "Association: ['', '1', 'United Kingdom', '1.63'], Support: 0.011020280120315182, Confidence: 0.011020280120315182\n",
      "Association: ['', '1', 'United Kingdom', '10.79'], Support: 0.003731246886014283, Confidence: 0.003731246886014283\n",
      "Association: ['', '1', 'United Kingdom', '16.63'], Support: 0.0024173755789706776, Confidence: 0.0024173755789706776\n",
      "Association: ['', '1', 'United Kingdom', '2.46'], Support: 0.016356959642745104, Confidence: 0.016356959642745104\n",
      "Association: ['', '1', 'United Kingdom', '2.51'], Support: 0.002502260522965068, Confidence: 0.002502260522965068\n",
      "Association: ['', '1', 'United Kingdom', '3.29'], Support: 0.01142071561698437, Confidence: 0.01142071561698437\n",
      "Association: ['', '1', 'United Kingdom', '4.13'], Support: 0.015712941263309407, Confidence: 0.015712941263309407\n",
      "Association: ['', '1', 'United Kingdom', '4.21'], Support: 0.0022605229650680004, Confidence: 0.0022605229650680004\n",
      "Association: ['', '1', 'United Kingdom', '4.96'], Support: 0.004829215183333025, Confidence: 0.004829215183333025\n",
      "Association: ['', '1', 'United Kingdom', '5.79'], Support: 0.00782048679670056, Confidence: 0.00782048679670056\n",
      "Association: ['', '1', 'United Kingdom', '7.46'], Support: 0.003906552748611393, Confidence: 0.003906552748611393\n",
      "Association: ['', '1', '8.29', 'United Kingdom'], Support: 0.005703899171449134, Confidence: 0.005703899171449134\n",
      "Association: ['', 'United Kingdom', '2', '1.63'], Support: 0.004556107102655423, Confidence: 0.004556107102655423\n",
      "Association: ['', '3', 'United Kingdom', '1.63'], Support: 0.002050155929951468, Confidence: 0.002050155929951468\n",
      "Association: ['', '10/31/2011 14:41', 'United Kingdom', '573585'], Support: 0.002055691904559798, Confidence: 0.002055691904559798\n",
      "Association: ['', '2.46', 'United Kingdom', '2'], Support: 0.0055691904559797755, Confidence: 0.0055691904559797755\n",
      "Association: ['', 'United Kingdom', '2', '3.29'], Support: 0.004024653540255762, Confidence: 0.004024653540255762\n",
      "Association: ['', 'United Kingdom', '2', '4.13'], Support: 0.0052573305530438635, Confidence: 0.0052573305530438635\n",
      "Association: ['', 'United Kingdom', '2', '5.79'], Support: 0.002099979701426436, Confidence: 0.002099979701426436\n",
      "Association: ['', '2.46', 'United Kingdom', '3'], Support: 0.0023860050561901425, Confidence: 0.0023860050561901425\n",
      "Association: ['', '3', 'United Kingdom', '4.13'], Support: 0.0022697495894152164, Confidence: 0.0022697495894152164\n",
      "Association: ['1.65', 'United Kingdom', 'LUNCH BAG RED RETROSPOT', '20725'], Support: 0.002077835802993117, Confidence: 0.002077835802993117\n",
      "Association: ['ASSORTED COLOUR BIRD ORNAMENT', 'United Kingdom', '1.69', '84879'], Support: 0.0024302928530567807, Confidence: 0.0024302928530567807\n",
      "Association: ['22423', 'United Kingdom', '12.75', 'REGENCY CAKESTAND 3 TIER'], Support: 0.002393386355667915, Confidence: 0.002393386355667915\n",
      "Association: ['2.95', '85123A', 'WHITE HANGING HEART T-LIGHT HOLDER', 'United Kingdom'], Support: 0.003057703308667491, Confidence: 0.003057703308667491\n",
      "Association: ['4.95', 'United Kingdom', 'PARTY BUNTING', '47566'], Support: 0.0021571847723791775, Confidence: 0.0021571847723791775\n"
     ]
    }
   ],
   "source": [
    "for a in associations:\n",
    "    print(\"Association: \" + str(list(a[0])) + \", Support: \" + str(a[1]) + \", Confidence: \" + str(a[2][0][2]))"
   ]
  },
  {
   "cell_type": "markdown",
   "metadata": {},
   "source": [
    "Better still. If you scroll down, we see some interesting patterns start to emerge, such as:\n",
    "<ul>\n",
    "    <li>'United Kingdom', 'ASSORTED COLOUR BIRD ORNAMENT'</li>\n",
    "    <li>'United Kingdom', 'WHITE HANGING HEART T-LIGHT HOLDER'</li>\n",
    "    <li>'United Kingdom', '4.95', '47566', 'PARTY BUNTING'</li>\n",
    "</ul>\n",
    "Though interesting that some products are purchased from the UK at a certain price, it is clear that there is something missing. Typically, basket analysis is conducted <i>on baskets</i>. We seem to have output that is improperly structured for this task.\n",
    "\n",
    "### Conduct basket analysis\n",
    "One option is to restructure the data. Fortunately, we are using a programming language, so this step is relatively simple. We can create a simple script that creates a new list of baskets for association mining. The script below does this and finishes by reporting the number of basket associations produced."
   ]
  },
  {
   "cell_type": "code",
   "execution_count": 37,
   "metadata": {},
   "outputs": [
    {
     "data": {
      "text/plain": [
       "25900"
      ]
     },
     "execution_count": 37,
     "metadata": {},
     "output_type": "execute_result"
    }
   ],
   "source": [
    "i = 1\n",
    "basket = [] #specify a list for basket items\n",
    "baskets = [] #a list of baskets\n",
    "invoice = ec[1][0] #a placeholder for the previous invoice number\n",
    "\n",
    "while i < len(ec): #iterate through each item sequentially\n",
    "    if ec[i][0] != invoice: #if this is a new invoice\n",
    "        baskets.append(basket) #append the baskets\n",
    "        basket = [] #start a new basket\n",
    "    basket.append(ec[i][2]) #add this item to basket\n",
    "    invoice = ec[i][0] #specify this current invoice as the new previous invoice\n",
    "    i += 1 #iterate to the next item\n",
    "\n",
    "len(baskets)"
   ]
  },
  {
   "cell_type": "markdown",
   "metadata": {},
   "source": [
    "As before, we can use the apriori function to create the associations and the print statement to print the results. Let's only print results that also have a confidence of greater than 50%, meaning that at least half of the time, these things are purchased together."
   ]
  },
  {
   "cell_type": "code",
   "execution_count": 38,
   "metadata": {},
   "outputs": [
    {
     "name": "stdout",
     "output_type": "stream",
     "text": [
      "Association: ['ALARM CLOCK BAKELIKE GREEN', 'ALARM CLOCK BAKELIKE RED '], Support: 0.024903474903474904, Confidence: 0.645\n",
      "Association: ['CHARLOTTE BAG PINK POLKADOT', 'RED RETROSPOT CHARLOTTE BAG'], Support: 0.020308880308880308, Confidence: 0.6921052631578947\n",
      "Association: ['SPACEBOY LUNCH BOX ', 'DOLLY GIRL LUNCH BOX'], Support: 0.020772200772200773, Confidence: 0.6255813953488373\n",
      "Association: ['GARDENERS KNEELING PAD CUP OF TEA ', 'GARDENERS KNEELING PAD KEEP CALM '], Support: 0.021196911196911198, Confidence: 0.7176470588235294\n",
      "Association: ['PINK REGENCY TEACUP AND SAUCER', 'GREEN REGENCY TEACUP AND SAUCER'], Support: 0.024864864864864864, Confidence: 0.609271523178808\n",
      "Association: ['ROSES REGENCY TEACUP AND SAUCER ', 'GREEN REGENCY TEACUP AND SAUCER'], Support: 0.03027027027027027, Confidence: 0.7417218543046358\n",
      "Association: ['JUMBO BAG RED RETROSPOT', 'JUMBO  BAG BAROQUE BLACK WHITE'], Support: 0.022895752895752897, Confidence: 0.6261879619852165\n",
      "Association: ['JUMBO BAG RED RETROSPOT', 'JUMBO BAG APPLES'], Support: 0.02142857142857143, Confidence: 0.5555555555555556\n",
      "Association: ['JUMBO BAG PINK POLKADOT', 'JUMBO BAG RED RETROSPOT'], Support: 0.03216216216216216, Confidence: 0.6766856214459789\n",
      "Association: ['JUMBO BAG RED RETROSPOT', 'JUMBO BAG PINK VINTAGE PAISLEY'], Support: 0.020154440154440154, Confidence: 0.5952109464082098\n",
      "Association: ['LUNCH BAG  BLACK SKULL.', 'LUNCH BAG RED RETROSPOT'], Support: 0.025019305019305018, Confidence: 0.5003861003861003\n",
      "Association: ['LUNCH BAG PINK POLKADOT', 'LUNCH BAG RED RETROSPOT'], Support: 0.023667953667953667, Confidence: 0.5522522522522522\n",
      "Association: ['ROSES REGENCY TEACUP AND SAUCER ', 'PINK REGENCY TEACUP AND SAUCER'], Support: 0.023706563706563707, Confidence: 0.766541822721598\n",
      "Association: ['WOODEN PICTURE FRAME WHITE FINISH', 'WOODEN FRAME ANTIQUE WHITE '], Support: 0.021042471042471044, Confidence: 0.552178318135765\n",
      "Association: ['ROSES REGENCY TEACUP AND SAUCER ', 'PINK REGENCY TEACUP AND SAUCER', 'GREEN REGENCY TEACUP AND SAUCER'], Support: 0.021196911196911198, Confidence: 0.5193945127719962\n"
     ]
    }
   ],
   "source": [
    "basket_associations = list(apriori(baskets, min_support=0.02))\n",
    "\n",
    "for a in basket_associations:\n",
    "    if len(a[0]) > 1: # we are only interested in baskets with more than one item in it\n",
    "        if a[2][1][2] > 0.5: # confidence of at least 0.5\n",
    "            print(\"Association: \" + str(list(a[0])) + \", Support: \" + str(a[1]) + \", Confidence: \" + str(a[2][1][2]))"
   ]
  },
  {
   "cell_type": "markdown",
   "metadata": {},
   "source": [
    "This is much more powerful information. The way that apyori is structured is quite confusing however the code above simplifies it by retrieving the confidence of the first association in the list.\n",
    "\n",
    "We can see that, for instance, that the purchase of 'PINK REGENCY TEACUP AND SAUCER' is purchased with 'GREEN REGENCY TEACUP AND SAUCER' 60% of the time. From the perspective of marketing, we could use this information to learn more about those customers and why they are purchasing so many saucers, and what are their motivations for doing so at that point in time.\n",
    "\n",
    "What other associations are out there? Feel free to play with the variables in this code to find new results!"
   ]
  },
  {
   "cell_type": "markdown",
   "metadata": {},
   "source": [
    "## Challenge Question 4 (3 points)\n",
    "Re-analyze the basket associations to analyze baskets with at least 1\\% support and a lift of 15. Do you think these associations would be useful? "
   ]
  },
  {
   "cell_type": "code",
   "execution_count": 39,
   "metadata": {},
   "outputs": [],
   "source": [
    "# insert your code here"
   ]
  },
  {
   "cell_type": "markdown",
   "metadata": {},
   "source": [
    "## References\n",
    "\n",
    "Chen, D. , Sain, S. L., Guo, K. (2012). Data mining for the online retail industry: A case study of RFM model-based customer segmentation using data mining. *Journal of Database marketing and Customer Strategy Management, 19*(3), 197-208.\n",
    "\n",
    "Li, Q., Guan, X., Wu, P., Wang, X., Zhou, L., Tong, Y., ... & Xing, X. (2020). Early transmission dynamics in Wuhan, China, of novel coronavirus–infected pneumonia. New England Journal of Medicine.\n",
    "\n",
    "The Pandas Development Team (2020). Visualization. Retrieved from: https://pandas.pydata.org/pandas-docs/stable/user_guide/visualization.html"
   ]
  }
 ],
 "metadata": {
  "kernelspec": {
   "display_name": "Python 3",
   "language": "python",
   "name": "python3"
  },
  "language_info": {
   "codemirror_mode": {
    "name": "ipython",
    "version": 3
   },
   "file_extension": ".py",
   "mimetype": "text/x-python",
   "name": "python",
   "nbconvert_exporter": "python",
   "pygments_lexer": "ipython3",
   "version": "3.7.6"
  }
 },
 "nbformat": 4,
 "nbformat_minor": 2
}
